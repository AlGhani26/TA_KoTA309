{
 "cells": [
  {
   "cell_type": "markdown",
   "metadata": {
    "id": "nMe7DYvKH0nK"
   },
   "source": [
    "install library yang dibutuhkan"
   ]
  },
  {
   "cell_type": "code",
   "execution_count": null,
   "metadata": {
    "colab": {
     "base_uri": "https://localhost:8080/"
    },
    "executionInfo": {
     "elapsed": 83695,
     "status": "ok",
     "timestamp": 1750603308975,
     "user": {
      "displayName": "Bimbingan TG 2025",
      "userId": "17786358260686151756"
     },
     "user_tz": -420
    },
    "id": "NqCevpPdHwpX",
    "outputId": "a18bdccf-c41e-4cd6-836a-8ba7b1557b9e"
   },
   "outputs": [
    {
     "name": "stdout",
     "output_type": "stream",
     "text": [
      "Requirement already satisfied: matplotlib in c:\\users\\algha\\anaconda3\\envs\\yolov7-gpu-env\\lib\\site-packages (from -r requirements.txt (line 1)) (3.10.0)\n",
      "Requirement already satisfied: numpy in c:\\users\\algha\\anaconda3\\envs\\yolov7-gpu-env\\lib\\site-packages (from -r requirements.txt (line 2)) (2.0.2)\n",
      "Requirement already satisfied: Pillow in c:\\users\\algha\\anaconda3\\envs\\yolov7-gpu-env\\lib\\site-packages (from -r requirements.txt (line 3)) (10.2.0)\n",
      "Requirement already satisfied: rasterio in c:\\users\\algha\\anaconda3\\envs\\yolov7-gpu-env\\lib\\site-packages (from -r requirements.txt (line 4)) (1.4.3)\n",
      "Requirement already satisfied: scikit_learn in c:\\users\\algha\\anaconda3\\envs\\yolov7-gpu-env\\lib\\site-packages (from -r requirements.txt (line 5)) (1.6.1)\n",
      "Requirement already satisfied: seaborn in c:\\users\\algha\\anaconda3\\envs\\yolov7-gpu-env\\lib\\site-packages (from -r requirements.txt (line 6)) (0.13.2)\n",
      "Collecting kornia (from -r requirements.txt (line 7))\n",
      "  Using cached kornia-0.8.1-py2.py3-none-any.whl.metadata (17 kB)\n",
      "Requirement already satisfied: contourpy>=1.0.1 in c:\\users\\algha\\anaconda3\\envs\\yolov7-gpu-env\\lib\\site-packages (from matplotlib->-r requirements.txt (line 1)) (1.3.1)\n",
      "Requirement already satisfied: cycler>=0.10 in c:\\users\\algha\\anaconda3\\envs\\yolov7-gpu-env\\lib\\site-packages (from matplotlib->-r requirements.txt (line 1)) (0.12.1)\n",
      "Requirement already satisfied: fonttools>=4.22.0 in c:\\users\\algha\\anaconda3\\envs\\yolov7-gpu-env\\lib\\site-packages (from matplotlib->-r requirements.txt (line 1)) (4.55.3)\n",
      "Requirement already satisfied: kiwisolver>=1.3.1 in c:\\users\\algha\\anaconda3\\envs\\yolov7-gpu-env\\lib\\site-packages (from matplotlib->-r requirements.txt (line 1)) (1.4.8)\n",
      "Requirement already satisfied: packaging>=20.0 in c:\\users\\algha\\anaconda3\\envs\\yolov7-gpu-env\\lib\\site-packages (from matplotlib->-r requirements.txt (line 1)) (24.2)\n",
      "Requirement already satisfied: pyparsing>=2.3.1 in c:\\users\\algha\\anaconda3\\envs\\yolov7-gpu-env\\lib\\site-packages (from matplotlib->-r requirements.txt (line 1)) (3.2.0)\n",
      "Requirement already satisfied: python-dateutil>=2.7 in c:\\users\\algha\\anaconda3\\envs\\yolov7-gpu-env\\lib\\site-packages (from matplotlib->-r requirements.txt (line 1)) (2.9.0.post0)\n",
      "Requirement already satisfied: affine in c:\\users\\algha\\anaconda3\\envs\\yolov7-gpu-env\\lib\\site-packages (from rasterio->-r requirements.txt (line 4)) (2.4.0)\n",
      "Requirement already satisfied: attrs in c:\\users\\algha\\anaconda3\\envs\\yolov7-gpu-env\\lib\\site-packages (from rasterio->-r requirements.txt (line 4)) (25.3.0)\n",
      "Requirement already satisfied: certifi in c:\\users\\algha\\anaconda3\\envs\\yolov7-gpu-env\\lib\\site-packages (from rasterio->-r requirements.txt (line 4)) (2024.12.14)\n",
      "Requirement already satisfied: click>=4.0 in c:\\users\\algha\\anaconda3\\envs\\yolov7-gpu-env\\lib\\site-packages (from rasterio->-r requirements.txt (line 4)) (8.1.8)\n",
      "Requirement already satisfied: cligj>=0.5 in c:\\users\\algha\\anaconda3\\envs\\yolov7-gpu-env\\lib\\site-packages (from rasterio->-r requirements.txt (line 4)) (0.7.2)\n",
      "Requirement already satisfied: click-plugins in c:\\users\\algha\\anaconda3\\envs\\yolov7-gpu-env\\lib\\site-packages (from rasterio->-r requirements.txt (line 4)) (1.1.1)\n",
      "Requirement already satisfied: scipy>=1.6.0 in c:\\users\\algha\\anaconda3\\envs\\yolov7-gpu-env\\lib\\site-packages (from scikit_learn->-r requirements.txt (line 5)) (1.14.1)\n",
      "Requirement already satisfied: joblib>=1.2.0 in c:\\users\\algha\\anaconda3\\envs\\yolov7-gpu-env\\lib\\site-packages (from scikit_learn->-r requirements.txt (line 5)) (1.4.2)\n",
      "Requirement already satisfied: threadpoolctl>=3.1.0 in c:\\users\\algha\\anaconda3\\envs\\yolov7-gpu-env\\lib\\site-packages (from scikit_learn->-r requirements.txt (line 5)) (3.6.0)\n",
      "Requirement already satisfied: pandas>=1.2 in c:\\users\\algha\\anaconda3\\envs\\yolov7-gpu-env\\lib\\site-packages (from seaborn->-r requirements.txt (line 6)) (2.2.3)\n",
      "Collecting kornia_rs>=0.1.9 (from kornia->-r requirements.txt (line 7))\n",
      "  Downloading kornia_rs-0.1.9-cp310-cp310-win_amd64.whl.metadata (12 kB)\n",
      "Requirement already satisfied: torch>=1.9.1 in c:\\users\\algha\\anaconda3\\envs\\yolov7-gpu-env\\lib\\site-packages (from kornia->-r requirements.txt (line 7)) (2.5.1+cu124)\n",
      "Requirement already satisfied: colorama in c:\\users\\algha\\anaconda3\\envs\\yolov7-gpu-env\\lib\\site-packages (from click>=4.0->rasterio->-r requirements.txt (line 4)) (0.4.6)\n",
      "Requirement already satisfied: pytz>=2020.1 in c:\\users\\algha\\anaconda3\\envs\\yolov7-gpu-env\\lib\\site-packages (from pandas>=1.2->seaborn->-r requirements.txt (line 6)) (2024.2)\n",
      "Requirement already satisfied: tzdata>=2022.7 in c:\\users\\algha\\anaconda3\\envs\\yolov7-gpu-env\\lib\\site-packages (from pandas>=1.2->seaborn->-r requirements.txt (line 6)) (2024.2)\n",
      "Requirement already satisfied: six>=1.5 in c:\\users\\algha\\anaconda3\\envs\\yolov7-gpu-env\\lib\\site-packages (from python-dateutil>=2.7->matplotlib->-r requirements.txt (line 1)) (1.17.0)\n",
      "Requirement already satisfied: filelock in c:\\users\\algha\\anaconda3\\envs\\yolov7-gpu-env\\lib\\site-packages (from torch>=1.9.1->kornia->-r requirements.txt (line 7)) (3.13.1)\n",
      "Requirement already satisfied: typing-extensions>=4.8.0 in c:\\users\\algha\\anaconda3\\envs\\yolov7-gpu-env\\lib\\site-packages (from torch>=1.9.1->kornia->-r requirements.txt (line 7)) (4.12.2)\n",
      "Requirement already satisfied: networkx in c:\\users\\algha\\anaconda3\\envs\\yolov7-gpu-env\\lib\\site-packages (from torch>=1.9.1->kornia->-r requirements.txt (line 7)) (3.2.1)\n",
      "Requirement already satisfied: jinja2 in c:\\users\\algha\\anaconda3\\envs\\yolov7-gpu-env\\lib\\site-packages (from torch>=1.9.1->kornia->-r requirements.txt (line 7)) (3.1.3)\n",
      "Requirement already satisfied: fsspec in c:\\users\\algha\\anaconda3\\envs\\yolov7-gpu-env\\lib\\site-packages (from torch>=1.9.1->kornia->-r requirements.txt (line 7)) (2024.2.0)\n",
      "Requirement already satisfied: sympy==1.13.1 in c:\\users\\algha\\anaconda3\\envs\\yolov7-gpu-env\\lib\\site-packages (from torch>=1.9.1->kornia->-r requirements.txt (line 7)) (1.13.1)\n",
      "Requirement already satisfied: mpmath<1.4,>=1.1.0 in c:\\users\\algha\\anaconda3\\envs\\yolov7-gpu-env\\lib\\site-packages (from sympy==1.13.1->torch>=1.9.1->kornia->-r requirements.txt (line 7)) (1.3.0)\n",
      "Requirement already satisfied: MarkupSafe>=2.0 in c:\\users\\algha\\anaconda3\\envs\\yolov7-gpu-env\\lib\\site-packages (from jinja2->torch>=1.9.1->kornia->-r requirements.txt (line 7)) (2.1.5)\n",
      "Using cached kornia-0.8.1-py2.py3-none-any.whl (1.1 MB)\n",
      "Downloading kornia_rs-0.1.9-cp310-cp310-win_amd64.whl (2.3 MB)\n",
      "   ---------------------------------------- 0.0/2.3 MB ? eta -:--:--\n",
      "   --------- ------------------------------ 0.5/2.3 MB 5.6 MB/s eta 0:00:01\n",
      "   --------------------------- ------------ 1.6/2.3 MB 4.9 MB/s eta 0:00:01\n",
      "   ---------------------------------------- 2.3/2.3 MB 4.8 MB/s eta 0:00:00\n",
      "Installing collected packages: kornia_rs, kornia\n",
      "Successfully installed kornia-0.8.1 kornia_rs-0.1.9\n",
      "Note: you may need to restart the kernel to use updated packages.\n"
     ]
    }
   ],
   "source": [
    "%pip install -r \"../requirements.txt\""
   ]
  },
  {
   "cell_type": "markdown",
   "metadata": {
    "id": "gqOJAMebIfEQ"
   },
   "source": [
    "# Import Library"
   ]
  },
  {
   "cell_type": "markdown",
   "metadata": {
    "id": "uXHgLa5kIo--"
   },
   "source": [
    "Code untuk melakukan import library library yang dibutuhkan"
   ]
  },
  {
   "cell_type": "code",
   "execution_count": 3,
   "metadata": {
    "executionInfo": {
     "elapsed": 10972,
     "status": "ok",
     "timestamp": 1750603319953,
     "user": {
      "displayName": "Bimbingan TG 2025",
      "userId": "17786358260686151756"
     },
     "user_tz": -420
    },
    "id": "PVZY6bWJH3fd"
   },
   "outputs": [],
   "source": [
    "import os\n",
    "import numpy as np\n",
    "import torch\n",
    "import torch.nn as nn\n",
    "import torch.optim as optim\n",
    "import torch.nn.functional as F\n",
    "import torchvision.transforms as transforms\n",
    "import kornia.augmentation as K\n",
    "from torch.utils.data import Dataset, DataLoader, random_split\n",
    "import torchvision.models as models\n",
    "import matplotlib.pyplot as plt\n",
    "from sklearn.metrics import accuracy_score, precision_recall_fscore_support, confusion_matrix\n",
    "import seaborn as sns\n",
    "import rasterio\n",
    "import datetime\n",
    "from tqdm import tqdm\n",
    "import time\n",
    "from PIL import Image\n",
    "import csv\n",
    "import random\n",
    "import pandas as pd\n",
    "import zipfile"
   ]
  },
  {
   "cell_type": "markdown",
   "metadata": {
    "id": "7LzgaM-rJWfS"
   },
   "source": [
    "# Data Preparation"
   ]
  },
  {
   "cell_type": "markdown",
   "metadata": {
    "id": "oET2MtFLJcl_"
   },
   "source": [
    "Inisialisasi Class Mempersiapkan Dataset"
   ]
  },
  {
   "cell_type": "code",
   "execution_count": 4,
   "metadata": {
    "executionInfo": {
     "elapsed": 5,
     "status": "ok",
     "timestamp": 1750603319964,
     "user": {
      "displayName": "Bimbingan TG 2025",
      "userId": "17786358260686151756"
     },
     "user_tz": -420
    },
    "id": "247H1qDPIhfq"
   },
   "outputs": [],
   "source": [
    "class RandomAugmentation(nn.Module):\n",
    "    def __init__(self):\n",
    "        super().__init__()\n",
    "        self.aug = nn.Sequential(\n",
    "            K.RandomHorizontalFlip(p=0.5),\n",
    "            K.RandomVerticalFlip(p=0.5),\n",
    "            K.RandomRotation(degrees=(0, 360), p=0.5, resample=\"bilinear\")\n",
    "        )\n",
    "\n",
    "    def forward(self, image, mask):\n",
    "        # image: Tensor [C, H, W], mask: Tensor [H, W]\n",
    "        image = image.unsqueeze(0)  # -> [1, C, H, W]\n",
    "        mask  = mask.unsqueeze(0).unsqueeze(0).float()  # -> [1, 1, H, W]\n",
    "\n",
    "        # Apply same transformation to both\n",
    "        out = self.aug(torch.cat([image, mask], dim=1))  # [1, C+1, H, W]\n",
    "\n",
    "        image_aug = out[:, :-1, :, :].squeeze(0)  # [C, H, W]\n",
    "        mask_aug = out[:, -1, :, :].squeeze(0).long()  # [H, W]\n",
    "\n",
    "        return image_aug, mask_aug"
   ]
  },
  {
   "cell_type": "code",
   "execution_count": 5,
   "metadata": {
    "executionInfo": {
     "elapsed": 4,
     "status": "ok",
     "timestamp": 1750603319972,
     "user": {
      "displayName": "Bimbingan TG 2025",
      "userId": "17786358260686151756"
     },
     "user_tz": -420
    },
    "id": "bEV1wrmrzJjf"
   },
   "outputs": [],
   "source": [
    "# ========== 2. Dataset ==========\n",
    "class SatelliteDataset(Dataset):\n",
    "    def __init__(self, image_dir, mask_dir, transform=None):\n",
    "        self.image_dir = image_dir\n",
    "        self.mask_dir = mask_dir\n",
    "        self.transform = transform\n",
    "        self.images = sorted([f for f in os.listdir(image_dir) if f.endswith(\".tif\")])\n",
    "        self.masks  = sorted([f for f in os.listdir(mask_dir)  if f.endswith(\".png\")])\n",
    "\n",
    "    def __len__(self):\n",
    "        return len(self.images)\n",
    "\n",
    "    def __getitem__(self, idx):\n",
    "        img_path = os.path.join(self.image_dir, self.images[idx])\n",
    "        mask_path = os.path.join(self.mask_dir, self.masks[idx])\n",
    "\n",
    "        # Read 16-bit image with rasterio\n",
    "        with rasterio.open(img_path) as src:\n",
    "            image = src.read().astype(np.float32) / 65535.0  # normalize\n",
    "\n",
    "        image = torch.from_numpy(image).float()  # (C, H, W)\n",
    "\n",
    "        # Load 8-bit mask\n",
    "        mask = np.array(Image.open(mask_path))\n",
    "        mask = torch.tensor(mask, dtype=torch.long)  # (H, W)\n",
    "\n",
    "        if self.transform:\n",
    "            image, mask = self.transform(image, mask)\n",
    "\n",
    "        return image, mask"
   ]
  },
  {
   "cell_type": "markdown",
   "metadata": {
    "id": "GLDEcSDsJnma"
   },
   "source": [
    "Load Dataset"
   ]
  },
  {
   "cell_type": "code",
   "execution_count": 22,
   "metadata": {},
   "outputs": [
    {
     "name": "stdout",
     "output_type": "stream",
     "text": [
      "✅ Path valid. Siap melanjutkan...\n"
     ]
    }
   ],
   "source": [
    "image_dir = \"dataset/dataset_16bit\"\n",
    "mask_dir = \"dataset/label_index\"\n",
    "\n",
    "# Validasi apakah folder benar-benar ada\n",
    "assert os.path.exists(image_dir), f\"Folder gambar tidak ditemukan: {image_dir}\"\n",
    "assert os.path.exists(mask_dir), f\"Folder label tidak ditemukan: {mask_dir}\"\n",
    "\n",
    "print(\"✅ Path valid. Siap melanjutkan...\")"
   ]
  },
  {
   "cell_type": "markdown",
   "metadata": {
    "id": "k5kacRb--mf-"
   },
   "source": [
    "Train 80, Validation 20"
   ]
  },
  {
   "cell_type": "code",
   "execution_count": 23,
   "metadata": {
    "executionInfo": {
     "elapsed": 62,
     "status": "ok",
     "timestamp": 1750603440292,
     "user": {
      "displayName": "Bimbingan TG 2025",
      "userId": "17786358260686151756"
     },
     "user_tz": -420
    },
    "id": "2knOUVlqzTMa"
   },
   "outputs": [],
   "source": [
    "# ========== 3. Data Preparation ==========\n",
    "full_dataset = SatelliteDataset(image_dir, mask_dir)\n",
    "\n",
    "batch_size = 16\n",
    "\n",
    "# Split 80% train, 20% validation\n",
    "total_size = len(full_dataset)\n",
    "val_size = int(0.2 * total_size)\n",
    "train_size = total_size - val_size\n",
    "\n",
    "generator = torch.Generator().manual_seed(42)\n",
    "train_dataset, val_dataset = random_split(full_dataset, [train_size, val_size], generator=generator)\n",
    "\n",
    "# Ganti transform hanya pada train_dataset\n",
    "train_dataset.dataset.transform = RandomAugmentation()  # assign transform to dataset inside Subset\n",
    "\n",
    "# ========== 4. DataLoaders ==========\n",
    "train_loader = DataLoader(train_dataset, batch_size=batch_size, shuffle=True)\n",
    "val_loader = DataLoader(val_dataset, batch_size=batch_size, shuffle=False)"
   ]
  },
  {
   "cell_type": "code",
   "execution_count": 24,
   "metadata": {
    "colab": {
     "base_uri": "https://localhost:8080/"
    },
    "executionInfo": {
     "elapsed": 9,
     "status": "ok",
     "timestamp": 1750603440303,
     "user": {
      "displayName": "Bimbingan TG 2025",
      "userId": "17786358260686151756"
     },
     "user_tz": -420
    },
    "id": "zB7Nlmey-INF",
    "outputId": "b78d8887-b2b7-4c0e-a040-107c1eb6e329"
   },
   "outputs": [
    {
     "name": "stdout",
     "output_type": "stream",
     "text": [
      "Jumlah data latih: 8100\n",
      "Jumlah data validation  : 2025\n"
     ]
    }
   ],
   "source": [
    "print(\"Jumlah data latih:\", len(train_dataset))\n",
    "print(\"Jumlah data validation  :\", len(val_dataset))"
   ]
  },
  {
   "cell_type": "code",
   "execution_count": 25,
   "metadata": {
    "colab": {
     "base_uri": "https://localhost:8080/"
    },
    "executionInfo": {
     "elapsed": 6,
     "status": "ok",
     "timestamp": 1750194819444,
     "user": {
      "displayName": "Bimbingan TG 2025",
      "userId": "17786358260686151756"
     },
     "user_tz": -420
    },
    "id": "eBRGwNlW3ule",
    "outputId": "a5dabfa9-4edb-4eb1-8908-872c5761ba30"
   },
   "outputs": [
    {
     "name": "stdout",
     "output_type": "stream",
     "text": [
      "Total dataset: 10125\n"
     ]
    }
   ],
   "source": [
    "print(\"Total dataset:\", len(SatelliteDataset(image_dir, mask_dir)))"
   ]
  },
  {
   "cell_type": "markdown",
   "metadata": {
    "id": "iMny3YYfKF4Z"
   },
   "source": [
    "# Modeling"
   ]
  },
  {
   "cell_type": "markdown",
   "metadata": {
    "id": "QubUJiPhKMMN"
   },
   "source": [
    "SK-ResNeXt50 Encoder Code"
   ]
  },
  {
   "cell_type": "code",
   "execution_count": 26,
   "metadata": {
    "executionInfo": {
     "elapsed": 6,
     "status": "ok",
     "timestamp": 1750603440311,
     "user": {
      "displayName": "Bimbingan TG 2025",
      "userId": "17786358260686151756"
     },
     "user_tz": -420
    },
    "id": "0TSjGziOJ0MM"
   },
   "outputs": [],
   "source": [
    "class SKConv(nn.Module):\n",
    "    def __init__(self, channels, stride=1, groups=32, reduction=16):\n",
    "        super(SKConv, self).__init__()\n",
    "        d = max(channels // reduction, 4)\n",
    "\n",
    "        # Two separate convolutional branches\n",
    "        self.conv3 = nn.Conv2d(channels, channels, kernel_size=3, stride=stride, padding=1, groups=groups, bias=False)\n",
    "        self.bn3 = nn.BatchNorm2d(channels)\n",
    "\n",
    "        self.conv5 = nn.Conv2d(channels, channels, kernel_size=3, stride=stride, padding=2, dilation=2, groups=groups, bias=False)\n",
    "        self.bn5 = nn.BatchNorm2d(channels)\n",
    "\n",
    "        self.relu = nn.ReLU(inplace=True)\n",
    "\n",
    "        # Squeeze-and-Excitation (SK attention)\n",
    "        self.global_pool = nn.AdaptiveAvgPool2d(1)\n",
    "        self.fc1 = nn.Conv2d(channels, d, kernel_size=1, bias=False)\n",
    "        self.fc2 = nn.Conv2d(d, channels * 2, kernel_size=1, bias=False)\n",
    "\n",
    "        self.softmax = nn.Softmax(dim=1)\n",
    "\n",
    "    def forward(self, x):\n",
    "        x3 = self.relu(self.bn3(self.conv3(x)))  # branch 1\n",
    "        x5 = self.relu(self.bn5(self.conv5(x)))  # branch 2\n",
    "\n",
    "        feats = torch.stack([x3, x5], dim=1)  # shape: (B, 2, C, H, W)\n",
    "\n",
    "        # Fuse\n",
    "        u = x3 + x5\n",
    "        s = self.global_pool(u)\n",
    "        z = self.fc1(s)\n",
    "        a_b = self.fc2(z).view(x.size(0), 2, x.size(1), 1, 1)  # shape: (B, 2, C, 1, 1)\n",
    "        a_b = self.softmax(a_b)\n",
    "\n",
    "        out = (feats * a_b).sum(dim=1)\n",
    "        return out\n",
    "\n",
    "\n",
    "class resnext_block(nn.Module):\n",
    "    def __init__(self, in_channels, cardinality, bwidth, idt_downsample=None, stride=1):\n",
    "        super(resnext_block, self).__init__()\n",
    "        self.expansion = 2\n",
    "        out_channels = cardinality * bwidth\n",
    "\n",
    "        self.conv1 = nn.Conv2d(in_channels, out_channels, kernel_size=1, stride=1, padding=0, bias=False)\n",
    "        self.bn1 = nn.BatchNorm2d(out_channels)\n",
    "\n",
    "        # Replaced conv2 with SKConv\n",
    "        self.skconv = SKConv(out_channels, stride=stride, groups=cardinality)\n",
    "\n",
    "        self.conv3 = nn.Conv2d(out_channels, out_channels * self.expansion, kernel_size=1, stride=1, padding=0, bias=False)\n",
    "        self.bn3 = nn.BatchNorm2d(out_channels * self.expansion)\n",
    "\n",
    "        self.relu = nn.ReLU(inplace=True)\n",
    "        self.identity_downsample = idt_downsample\n",
    "\n",
    "    def forward(self, x):\n",
    "        identity = x\n",
    "\n",
    "        out = self.conv1(x)\n",
    "        out = self.bn1(out)\n",
    "        out = self.relu(out)\n",
    "\n",
    "        out = self.skconv(out)\n",
    "\n",
    "        out = self.conv3(out)\n",
    "        out = self.bn3(out)\n",
    "\n",
    "        if self.identity_downsample is not None:\n",
    "            identity = self.identity_downsample(identity)\n",
    "\n",
    "        out += identity\n",
    "        out = self.relu(out)\n",
    "        return out\n",
    "\n",
    "# == SKResNeXt50 Encoder ==\n",
    "class SKResNeXt(nn.Module):\n",
    "    def __init__(self, resnet_block, layers, cardinality, bwidth, img_channels, num_classes):\n",
    "        super(SKResNeXt, self).__init__()\n",
    "        self.in_channels = 64\n",
    "        self.cardinality = cardinality\n",
    "        self.bwidth = bwidth\n",
    "\n",
    "        self.stem = nn.Sequential(\n",
    "            nn.Conv2d(img_channels, 64, kernel_size=7, stride=2, padding=3, bias=False),\n",
    "            nn.BatchNorm2d(64),\n",
    "            nn.ReLU(inplace=True)\n",
    "        )\n",
    "        self.maxpool = nn.MaxPool2d(kernel_size=3, stride=2, padding=1)\n",
    "        self.layer1 = self._layers(resnet_block, layers[0], stride=1)\n",
    "        self.layer2 = self._layers(resnet_block, layers[1], stride=2)\n",
    "        self.layer3 = self._layers(resnet_block, layers[2], stride=2)\n",
    "        self.layer4 = self._layers(resnet_block, layers[3], stride=2)\n",
    "\n",
    "    def forward(self, x):\n",
    "        x0 = self.stem(x)\n",
    "        x0p = self.maxpool(x0)\n",
    "        x1 = self.layer1(x0p)\n",
    "        x2 = self.layer2(x1)\n",
    "        x3 = self.layer3(x2)\n",
    "        x4 = self.layer4(x3)\n",
    "\n",
    "        return x0, x1, x2, x3, x4\n",
    "\n",
    "    def _layers(self, block, blocks, stride):\n",
    "        identity_downsample = None\n",
    "        out_channels = self.cardinality * self.bwidth\n",
    "        layers = []\n",
    "\n",
    "        if stride != 1 or self.in_channels != out_channels * 2:\n",
    "            identity_downsample = nn.Sequential(\n",
    "                nn.Conv2d(self.in_channels, out_channels * 2, kernel_size=1, stride=stride, bias=False),\n",
    "                nn.BatchNorm2d(out_channels * 2)\n",
    "            )\n",
    "\n",
    "        layers.append(block(self.in_channels, self.cardinality, self.bwidth, identity_downsample, stride))\n",
    "        self.in_channels = out_channels * 2\n",
    "\n",
    "        for _ in range(1, blocks):\n",
    "            layers.append(block(self.in_channels, self.cardinality, self.bwidth))\n",
    "\n",
    "        self.bwidth *= 2\n",
    "        return nn.Sequential(*layers)\n",
    "\n",
    "def SKResNeXt50(img_channels=4, num_classes=6, cardinality=32, bwidth=4):\n",
    "    return SKResNeXt(resnext_block, [3, 4, 6, 3], cardinality, bwidth, img_channels, num_classes)"
   ]
  },
  {
   "cell_type": "markdown",
   "metadata": {
    "id": "lv9swEmHKXh2"
   },
   "source": [
    "U-Net SK-ResNeXt50 Baseline"
   ]
  },
  {
   "cell_type": "code",
   "execution_count": 27,
   "metadata": {
    "executionInfo": {
     "elapsed": 5,
     "status": "ok",
     "timestamp": 1750603440316,
     "user": {
      "displayName": "Bimbingan TG 2025",
      "userId": "17786358260686151756"
     },
     "user_tz": -420
    },
    "id": "BYbjh6qaKTzj"
   },
   "outputs": [],
   "source": [
    "class UNet_SKResNeXt50(nn.Module):\n",
    "    def __init__(self, in_channels=4, out_channels=6, cardinality=32, bwidth=4):\n",
    "        super(UNet_SKResNeXt50, self).__init__()\n",
    "        self.encoder = SKResNeXt50(img_channels=in_channels, num_classes=out_channels, cardinality=cardinality, bwidth=bwidth)\n",
    "\n",
    "        # Decoder\n",
    "        self.expansion_filter = (cardinality * bwidth) * 2\n",
    "\n",
    "        self.up1 = nn.ConvTranspose2d(self.expansion_filter*8, self.expansion_filter*4, kernel_size=2, stride=2)\n",
    "        self.dec1 = self.conv_block(self.expansion_filter*8, self.expansion_filter*4)  # 1024 + skip 1024\n",
    "\n",
    "        self.up2 = nn.ConvTranspose2d(self.expansion_filter*4, self.expansion_filter*2, kernel_size=2, stride=2)\n",
    "        self.dec2 = self.conv_block(self.expansion_filter*4, self.expansion_filter*2)   # 512 + skip 512\n",
    "\n",
    "        self.up3 = nn.ConvTranspose2d(self.expansion_filter*2, self.expansion_filter, kernel_size=2, stride=2)\n",
    "        self.dec3 = self.conv_block(self.expansion_filter*2, self.expansion_filter)    # 256 + skip 256\n",
    "\n",
    "        self.up4 = nn.ConvTranspose2d(self.expansion_filter, 128, kernel_size=2, stride=2)\n",
    "        self.dec4 = self.conv_block(128 + 64, 64)\n",
    "\n",
    "        self.out_conv = nn.Conv2d(64, out_channels, kernel_size=1)\n",
    "\n",
    "\n",
    "    def conv_block(self, in_c, out_c):\n",
    "        return nn.Sequential(\n",
    "            nn.Conv2d(in_c, out_c, kernel_size=3, padding=1),\n",
    "            nn.ReLU(inplace=True),\n",
    "            nn.Conv2d(out_c, out_c, kernel_size=3, padding=1),\n",
    "            nn.ReLU(inplace=True),\n",
    "        )\n",
    "\n",
    "    def forward(self, x):\n",
    "        # Encoder\n",
    "        x0, x1, x2, x3, x4 = self.encoder(x)\n",
    "\n",
    "        # Decoder\n",
    "        d1 = self.up1(x4)\n",
    "        d1 = self.dec1(torch.cat([d1, x3], dim=1))\n",
    "\n",
    "        d2 = self.up2(d1)\n",
    "        d2 = self.dec2(torch.cat([d2, x2], dim=1))\n",
    "\n",
    "        d3 = self.up3(d2)\n",
    "        d3 = self.dec3(torch.cat([d3, x1], dim=1))\n",
    "\n",
    "        d4 = self.up4(d3)\n",
    "        d4 = self.dec4(torch.cat([d4, x0], dim=1))\n",
    "\n",
    "        out =  self.out_conv(d4)\n",
    "        out = F.interpolate(out, size=x.shape[2:], mode='bilinear', align_corners=False)\n",
    "        return out"
   ]
  },
  {
   "cell_type": "markdown",
   "metadata": {
    "id": "EhdeorxJKhGg"
   },
   "source": [
    "# Train"
   ]
  },
  {
   "cell_type": "code",
   "execution_count": 28,
   "metadata": {
    "executionInfo": {
     "elapsed": 42,
     "status": "ok",
     "timestamp": 1750603498208,
     "user": {
      "displayName": "Bimbingan TG 2025",
      "userId": "17786358260686151756"
     },
     "user_tz": -420
    },
    "id": "5NkpHW0sKT12"
   },
   "outputs": [],
   "source": [
    "def pixel_accuracy(output, mask):\n",
    "    \"\"\"\n",
    "    Menghitung pixel-wise accuracy untuk semantic segmentation.\n",
    "\n",
    "    Args:\n",
    "        output (torch.Tensor): Output dari model, shape (B, C, H, W)\n",
    "        mask (torch.Tensor): Ground truth label, shape (B, H, W)\n",
    "\n",
    "    Returns:\n",
    "        float: Pixel accuracy (%)\n",
    "    \"\"\"\n",
    "    # Ambil prediksi kelas (argmax di dimensi channel)\n",
    "    preds = torch.argmax(output, dim=1)  # shape: (B, H, W)\n",
    "\n",
    "    # Hitung jumlah piksel yang benar\n",
    "    correct = (preds == mask).float().sum()\n",
    "    total = mask.numel()\n",
    "\n",
    "    return (correct / total).item() * 100"
   ]
  },
  {
   "cell_type": "code",
   "execution_count": 29,
   "metadata": {
    "executionInfo": {
     "elapsed": 4,
     "status": "ok",
     "timestamp": 1750603440323,
     "user": {
      "displayName": "Bimbingan TG 2025",
      "userId": "17786358260686151756"
     },
     "user_tz": -420
    },
    "id": "h9ePtm59KT4A"
   },
   "outputs": [],
   "source": [
    "def evaluate(model, val_loader, device, criterion):\n",
    "    model.eval()\n",
    "    total_acc = 0\n",
    "    total_loss = 0\n",
    "    with torch.no_grad():\n",
    "        for images, masks in val_loader:\n",
    "            images, masks = images.to(device), masks.to(device)\n",
    "            outputs = model(images)\n",
    "\n",
    "            loss = criterion(outputs, masks)\n",
    "            acc = pixel_accuracy(outputs, masks)\n",
    "\n",
    "            total_loss += loss.item()\n",
    "            total_acc += acc\n",
    "\n",
    "    avg_loss = total_loss / len(val_loader)\n",
    "    avg_acc = total_acc / len(val_loader)\n",
    "    return avg_loss, avg_acc"
   ]
  },
  {
   "cell_type": "code",
   "execution_count": 30,
   "metadata": {
    "executionInfo": {
     "elapsed": 2,
     "status": "ok",
     "timestamp": 1750603440327,
     "user": {
      "displayName": "Bimbingan TG 2025",
      "userId": "17786358260686151756"
     },
     "user_tz": -420
    },
    "id": "pg6GL59IGjOD"
   },
   "outputs": [],
   "source": [
    "# ========== Cek & Load Checkpoint ==========\n",
    "def get_latest_checkpoint(checkpoint_dir):\n",
    "    if not os.path.exists(checkpoint_dir):\n",
    "        return None\n",
    "    checkpoints = [f for f in os.listdir(checkpoint_dir) if f.endswith('.pth')]\n",
    "    if not checkpoints:\n",
    "        return None\n",
    "    checkpoints.sort(key=lambda x: int(x.split('_')[-1].split('.')[0]))\n",
    "    return os.path.join(checkpoint_dir, checkpoints[-1])"
   ]
  },
  {
   "cell_type": "code",
   "execution_count": 31,
   "metadata": {
    "colab": {
     "base_uri": "https://localhost:8080/"
    },
    "executionInfo": {
     "elapsed": 657,
     "status": "ok",
     "timestamp": 1750631514541,
     "user": {
      "displayName": "Bimbingan TG 2025",
      "userId": "17786358260686151756"
     },
     "user_tz": -420
    },
    "id": "nA_fL-MoKjiK",
    "outputId": "ee7460e8-a8c0-4ea9-fe7f-cf09a2badf2f"
   },
   "outputs": [
    {
     "name": "stdout",
     "output_type": "stream",
     "text": [
      "Device: cuda\n"
     ]
    }
   ],
   "source": [
    "# ========== 3. Training Setup ==========\n",
    "device = torch.device(\"cuda\" if torch.cuda.is_available() else \"cpu\")\n",
    "print(\"Device:\", device)\n",
    "\n",
    "model = UNet_SKResNeXt50(in_channels=4, out_channels=6, cardinality=32, bwidth=4).to(device)\n",
    "\n",
    "criterion = nn.CrossEntropyLoss()\n",
    "\n",
    "optimizer = optim.Adam(model.parameters(), lr=0.0005)\n",
    "num_epochs = 120"
   ]
  },
  {
   "cell_type": "markdown",
   "metadata": {
    "id": "qdD4tip4OtPB"
   },
   "source": [
    "Model Spesification"
   ]
  },
  {
   "cell_type": "code",
   "execution_count": 32,
   "metadata": {
    "colab": {
     "base_uri": "https://localhost:8080/"
    },
    "executionInfo": {
     "elapsed": 23,
     "status": "ok",
     "timestamp": 1750631517463,
     "user": {
      "displayName": "Bimbingan TG 2025",
      "userId": "17786358260686151756"
     },
     "user_tz": -420
    },
    "id": "3VcEm6DNK9UF",
    "outputId": "a8201f74-4d66-4bba-901c-507a13158475"
   },
   "outputs": [
    {
     "data": {
      "text/plain": [
       "UNet_SKResNeXt50(\n",
       "  (encoder): SKResNeXt(\n",
       "    (stem): Sequential(\n",
       "      (0): Conv2d(4, 64, kernel_size=(7, 7), stride=(2, 2), padding=(3, 3), bias=False)\n",
       "      (1): BatchNorm2d(64, eps=1e-05, momentum=0.1, affine=True, track_running_stats=True)\n",
       "      (2): ReLU(inplace=True)\n",
       "    )\n",
       "    (maxpool): MaxPool2d(kernel_size=3, stride=2, padding=1, dilation=1, ceil_mode=False)\n",
       "    (layer1): Sequential(\n",
       "      (0): resnext_block(\n",
       "        (conv1): Conv2d(64, 128, kernel_size=(1, 1), stride=(1, 1), bias=False)\n",
       "        (bn1): BatchNorm2d(128, eps=1e-05, momentum=0.1, affine=True, track_running_stats=True)\n",
       "        (skconv): SKConv(\n",
       "          (conv3): Conv2d(128, 128, kernel_size=(3, 3), stride=(1, 1), padding=(1, 1), groups=32, bias=False)\n",
       "          (bn3): BatchNorm2d(128, eps=1e-05, momentum=0.1, affine=True, track_running_stats=True)\n",
       "          (conv5): Conv2d(128, 128, kernel_size=(3, 3), stride=(1, 1), padding=(2, 2), dilation=(2, 2), groups=32, bias=False)\n",
       "          (bn5): BatchNorm2d(128, eps=1e-05, momentum=0.1, affine=True, track_running_stats=True)\n",
       "          (relu): ReLU(inplace=True)\n",
       "          (global_pool): AdaptiveAvgPool2d(output_size=1)\n",
       "          (fc1): Conv2d(128, 8, kernel_size=(1, 1), stride=(1, 1), bias=False)\n",
       "          (fc2): Conv2d(8, 256, kernel_size=(1, 1), stride=(1, 1), bias=False)\n",
       "          (softmax): Softmax(dim=1)\n",
       "        )\n",
       "        (conv3): Conv2d(128, 256, kernel_size=(1, 1), stride=(1, 1), bias=False)\n",
       "        (bn3): BatchNorm2d(256, eps=1e-05, momentum=0.1, affine=True, track_running_stats=True)\n",
       "        (relu): ReLU(inplace=True)\n",
       "        (identity_downsample): Sequential(\n",
       "          (0): Conv2d(64, 256, kernel_size=(1, 1), stride=(1, 1), bias=False)\n",
       "          (1): BatchNorm2d(256, eps=1e-05, momentum=0.1, affine=True, track_running_stats=True)\n",
       "        )\n",
       "      )\n",
       "      (1): resnext_block(\n",
       "        (conv1): Conv2d(256, 128, kernel_size=(1, 1), stride=(1, 1), bias=False)\n",
       "        (bn1): BatchNorm2d(128, eps=1e-05, momentum=0.1, affine=True, track_running_stats=True)\n",
       "        (skconv): SKConv(\n",
       "          (conv3): Conv2d(128, 128, kernel_size=(3, 3), stride=(1, 1), padding=(1, 1), groups=32, bias=False)\n",
       "          (bn3): BatchNorm2d(128, eps=1e-05, momentum=0.1, affine=True, track_running_stats=True)\n",
       "          (conv5): Conv2d(128, 128, kernel_size=(3, 3), stride=(1, 1), padding=(2, 2), dilation=(2, 2), groups=32, bias=False)\n",
       "          (bn5): BatchNorm2d(128, eps=1e-05, momentum=0.1, affine=True, track_running_stats=True)\n",
       "          (relu): ReLU(inplace=True)\n",
       "          (global_pool): AdaptiveAvgPool2d(output_size=1)\n",
       "          (fc1): Conv2d(128, 8, kernel_size=(1, 1), stride=(1, 1), bias=False)\n",
       "          (fc2): Conv2d(8, 256, kernel_size=(1, 1), stride=(1, 1), bias=False)\n",
       "          (softmax): Softmax(dim=1)\n",
       "        )\n",
       "        (conv3): Conv2d(128, 256, kernel_size=(1, 1), stride=(1, 1), bias=False)\n",
       "        (bn3): BatchNorm2d(256, eps=1e-05, momentum=0.1, affine=True, track_running_stats=True)\n",
       "        (relu): ReLU(inplace=True)\n",
       "      )\n",
       "      (2): resnext_block(\n",
       "        (conv1): Conv2d(256, 128, kernel_size=(1, 1), stride=(1, 1), bias=False)\n",
       "        (bn1): BatchNorm2d(128, eps=1e-05, momentum=0.1, affine=True, track_running_stats=True)\n",
       "        (skconv): SKConv(\n",
       "          (conv3): Conv2d(128, 128, kernel_size=(3, 3), stride=(1, 1), padding=(1, 1), groups=32, bias=False)\n",
       "          (bn3): BatchNorm2d(128, eps=1e-05, momentum=0.1, affine=True, track_running_stats=True)\n",
       "          (conv5): Conv2d(128, 128, kernel_size=(3, 3), stride=(1, 1), padding=(2, 2), dilation=(2, 2), groups=32, bias=False)\n",
       "          (bn5): BatchNorm2d(128, eps=1e-05, momentum=0.1, affine=True, track_running_stats=True)\n",
       "          (relu): ReLU(inplace=True)\n",
       "          (global_pool): AdaptiveAvgPool2d(output_size=1)\n",
       "          (fc1): Conv2d(128, 8, kernel_size=(1, 1), stride=(1, 1), bias=False)\n",
       "          (fc2): Conv2d(8, 256, kernel_size=(1, 1), stride=(1, 1), bias=False)\n",
       "          (softmax): Softmax(dim=1)\n",
       "        )\n",
       "        (conv3): Conv2d(128, 256, kernel_size=(1, 1), stride=(1, 1), bias=False)\n",
       "        (bn3): BatchNorm2d(256, eps=1e-05, momentum=0.1, affine=True, track_running_stats=True)\n",
       "        (relu): ReLU(inplace=True)\n",
       "      )\n",
       "    )\n",
       "    (layer2): Sequential(\n",
       "      (0): resnext_block(\n",
       "        (conv1): Conv2d(256, 256, kernel_size=(1, 1), stride=(1, 1), bias=False)\n",
       "        (bn1): BatchNorm2d(256, eps=1e-05, momentum=0.1, affine=True, track_running_stats=True)\n",
       "        (skconv): SKConv(\n",
       "          (conv3): Conv2d(256, 256, kernel_size=(3, 3), stride=(2, 2), padding=(1, 1), groups=32, bias=False)\n",
       "          (bn3): BatchNorm2d(256, eps=1e-05, momentum=0.1, affine=True, track_running_stats=True)\n",
       "          (conv5): Conv2d(256, 256, kernel_size=(3, 3), stride=(2, 2), padding=(2, 2), dilation=(2, 2), groups=32, bias=False)\n",
       "          (bn5): BatchNorm2d(256, eps=1e-05, momentum=0.1, affine=True, track_running_stats=True)\n",
       "          (relu): ReLU(inplace=True)\n",
       "          (global_pool): AdaptiveAvgPool2d(output_size=1)\n",
       "          (fc1): Conv2d(256, 16, kernel_size=(1, 1), stride=(1, 1), bias=False)\n",
       "          (fc2): Conv2d(16, 512, kernel_size=(1, 1), stride=(1, 1), bias=False)\n",
       "          (softmax): Softmax(dim=1)\n",
       "        )\n",
       "        (conv3): Conv2d(256, 512, kernel_size=(1, 1), stride=(1, 1), bias=False)\n",
       "        (bn3): BatchNorm2d(512, eps=1e-05, momentum=0.1, affine=True, track_running_stats=True)\n",
       "        (relu): ReLU(inplace=True)\n",
       "        (identity_downsample): Sequential(\n",
       "          (0): Conv2d(256, 512, kernel_size=(1, 1), stride=(2, 2), bias=False)\n",
       "          (1): BatchNorm2d(512, eps=1e-05, momentum=0.1, affine=True, track_running_stats=True)\n",
       "        )\n",
       "      )\n",
       "      (1): resnext_block(\n",
       "        (conv1): Conv2d(512, 256, kernel_size=(1, 1), stride=(1, 1), bias=False)\n",
       "        (bn1): BatchNorm2d(256, eps=1e-05, momentum=0.1, affine=True, track_running_stats=True)\n",
       "        (skconv): SKConv(\n",
       "          (conv3): Conv2d(256, 256, kernel_size=(3, 3), stride=(1, 1), padding=(1, 1), groups=32, bias=False)\n",
       "          (bn3): BatchNorm2d(256, eps=1e-05, momentum=0.1, affine=True, track_running_stats=True)\n",
       "          (conv5): Conv2d(256, 256, kernel_size=(3, 3), stride=(1, 1), padding=(2, 2), dilation=(2, 2), groups=32, bias=False)\n",
       "          (bn5): BatchNorm2d(256, eps=1e-05, momentum=0.1, affine=True, track_running_stats=True)\n",
       "          (relu): ReLU(inplace=True)\n",
       "          (global_pool): AdaptiveAvgPool2d(output_size=1)\n",
       "          (fc1): Conv2d(256, 16, kernel_size=(1, 1), stride=(1, 1), bias=False)\n",
       "          (fc2): Conv2d(16, 512, kernel_size=(1, 1), stride=(1, 1), bias=False)\n",
       "          (softmax): Softmax(dim=1)\n",
       "        )\n",
       "        (conv3): Conv2d(256, 512, kernel_size=(1, 1), stride=(1, 1), bias=False)\n",
       "        (bn3): BatchNorm2d(512, eps=1e-05, momentum=0.1, affine=True, track_running_stats=True)\n",
       "        (relu): ReLU(inplace=True)\n",
       "      )\n",
       "      (2): resnext_block(\n",
       "        (conv1): Conv2d(512, 256, kernel_size=(1, 1), stride=(1, 1), bias=False)\n",
       "        (bn1): BatchNorm2d(256, eps=1e-05, momentum=0.1, affine=True, track_running_stats=True)\n",
       "        (skconv): SKConv(\n",
       "          (conv3): Conv2d(256, 256, kernel_size=(3, 3), stride=(1, 1), padding=(1, 1), groups=32, bias=False)\n",
       "          (bn3): BatchNorm2d(256, eps=1e-05, momentum=0.1, affine=True, track_running_stats=True)\n",
       "          (conv5): Conv2d(256, 256, kernel_size=(3, 3), stride=(1, 1), padding=(2, 2), dilation=(2, 2), groups=32, bias=False)\n",
       "          (bn5): BatchNorm2d(256, eps=1e-05, momentum=0.1, affine=True, track_running_stats=True)\n",
       "          (relu): ReLU(inplace=True)\n",
       "          (global_pool): AdaptiveAvgPool2d(output_size=1)\n",
       "          (fc1): Conv2d(256, 16, kernel_size=(1, 1), stride=(1, 1), bias=False)\n",
       "          (fc2): Conv2d(16, 512, kernel_size=(1, 1), stride=(1, 1), bias=False)\n",
       "          (softmax): Softmax(dim=1)\n",
       "        )\n",
       "        (conv3): Conv2d(256, 512, kernel_size=(1, 1), stride=(1, 1), bias=False)\n",
       "        (bn3): BatchNorm2d(512, eps=1e-05, momentum=0.1, affine=True, track_running_stats=True)\n",
       "        (relu): ReLU(inplace=True)\n",
       "      )\n",
       "      (3): resnext_block(\n",
       "        (conv1): Conv2d(512, 256, kernel_size=(1, 1), stride=(1, 1), bias=False)\n",
       "        (bn1): BatchNorm2d(256, eps=1e-05, momentum=0.1, affine=True, track_running_stats=True)\n",
       "        (skconv): SKConv(\n",
       "          (conv3): Conv2d(256, 256, kernel_size=(3, 3), stride=(1, 1), padding=(1, 1), groups=32, bias=False)\n",
       "          (bn3): BatchNorm2d(256, eps=1e-05, momentum=0.1, affine=True, track_running_stats=True)\n",
       "          (conv5): Conv2d(256, 256, kernel_size=(3, 3), stride=(1, 1), padding=(2, 2), dilation=(2, 2), groups=32, bias=False)\n",
       "          (bn5): BatchNorm2d(256, eps=1e-05, momentum=0.1, affine=True, track_running_stats=True)\n",
       "          (relu): ReLU(inplace=True)\n",
       "          (global_pool): AdaptiveAvgPool2d(output_size=1)\n",
       "          (fc1): Conv2d(256, 16, kernel_size=(1, 1), stride=(1, 1), bias=False)\n",
       "          (fc2): Conv2d(16, 512, kernel_size=(1, 1), stride=(1, 1), bias=False)\n",
       "          (softmax): Softmax(dim=1)\n",
       "        )\n",
       "        (conv3): Conv2d(256, 512, kernel_size=(1, 1), stride=(1, 1), bias=False)\n",
       "        (bn3): BatchNorm2d(512, eps=1e-05, momentum=0.1, affine=True, track_running_stats=True)\n",
       "        (relu): ReLU(inplace=True)\n",
       "      )\n",
       "    )\n",
       "    (layer3): Sequential(\n",
       "      (0): resnext_block(\n",
       "        (conv1): Conv2d(512, 512, kernel_size=(1, 1), stride=(1, 1), bias=False)\n",
       "        (bn1): BatchNorm2d(512, eps=1e-05, momentum=0.1, affine=True, track_running_stats=True)\n",
       "        (skconv): SKConv(\n",
       "          (conv3): Conv2d(512, 512, kernel_size=(3, 3), stride=(2, 2), padding=(1, 1), groups=32, bias=False)\n",
       "          (bn3): BatchNorm2d(512, eps=1e-05, momentum=0.1, affine=True, track_running_stats=True)\n",
       "          (conv5): Conv2d(512, 512, kernel_size=(3, 3), stride=(2, 2), padding=(2, 2), dilation=(2, 2), groups=32, bias=False)\n",
       "          (bn5): BatchNorm2d(512, eps=1e-05, momentum=0.1, affine=True, track_running_stats=True)\n",
       "          (relu): ReLU(inplace=True)\n",
       "          (global_pool): AdaptiveAvgPool2d(output_size=1)\n",
       "          (fc1): Conv2d(512, 32, kernel_size=(1, 1), stride=(1, 1), bias=False)\n",
       "          (fc2): Conv2d(32, 1024, kernel_size=(1, 1), stride=(1, 1), bias=False)\n",
       "          (softmax): Softmax(dim=1)\n",
       "        )\n",
       "        (conv3): Conv2d(512, 1024, kernel_size=(1, 1), stride=(1, 1), bias=False)\n",
       "        (bn3): BatchNorm2d(1024, eps=1e-05, momentum=0.1, affine=True, track_running_stats=True)\n",
       "        (relu): ReLU(inplace=True)\n",
       "        (identity_downsample): Sequential(\n",
       "          (0): Conv2d(512, 1024, kernel_size=(1, 1), stride=(2, 2), bias=False)\n",
       "          (1): BatchNorm2d(1024, eps=1e-05, momentum=0.1, affine=True, track_running_stats=True)\n",
       "        )\n",
       "      )\n",
       "      (1): resnext_block(\n",
       "        (conv1): Conv2d(1024, 512, kernel_size=(1, 1), stride=(1, 1), bias=False)\n",
       "        (bn1): BatchNorm2d(512, eps=1e-05, momentum=0.1, affine=True, track_running_stats=True)\n",
       "        (skconv): SKConv(\n",
       "          (conv3): Conv2d(512, 512, kernel_size=(3, 3), stride=(1, 1), padding=(1, 1), groups=32, bias=False)\n",
       "          (bn3): BatchNorm2d(512, eps=1e-05, momentum=0.1, affine=True, track_running_stats=True)\n",
       "          (conv5): Conv2d(512, 512, kernel_size=(3, 3), stride=(1, 1), padding=(2, 2), dilation=(2, 2), groups=32, bias=False)\n",
       "          (bn5): BatchNorm2d(512, eps=1e-05, momentum=0.1, affine=True, track_running_stats=True)\n",
       "          (relu): ReLU(inplace=True)\n",
       "          (global_pool): AdaptiveAvgPool2d(output_size=1)\n",
       "          (fc1): Conv2d(512, 32, kernel_size=(1, 1), stride=(1, 1), bias=False)\n",
       "          (fc2): Conv2d(32, 1024, kernel_size=(1, 1), stride=(1, 1), bias=False)\n",
       "          (softmax): Softmax(dim=1)\n",
       "        )\n",
       "        (conv3): Conv2d(512, 1024, kernel_size=(1, 1), stride=(1, 1), bias=False)\n",
       "        (bn3): BatchNorm2d(1024, eps=1e-05, momentum=0.1, affine=True, track_running_stats=True)\n",
       "        (relu): ReLU(inplace=True)\n",
       "      )\n",
       "      (2): resnext_block(\n",
       "        (conv1): Conv2d(1024, 512, kernel_size=(1, 1), stride=(1, 1), bias=False)\n",
       "        (bn1): BatchNorm2d(512, eps=1e-05, momentum=0.1, affine=True, track_running_stats=True)\n",
       "        (skconv): SKConv(\n",
       "          (conv3): Conv2d(512, 512, kernel_size=(3, 3), stride=(1, 1), padding=(1, 1), groups=32, bias=False)\n",
       "          (bn3): BatchNorm2d(512, eps=1e-05, momentum=0.1, affine=True, track_running_stats=True)\n",
       "          (conv5): Conv2d(512, 512, kernel_size=(3, 3), stride=(1, 1), padding=(2, 2), dilation=(2, 2), groups=32, bias=False)\n",
       "          (bn5): BatchNorm2d(512, eps=1e-05, momentum=0.1, affine=True, track_running_stats=True)\n",
       "          (relu): ReLU(inplace=True)\n",
       "          (global_pool): AdaptiveAvgPool2d(output_size=1)\n",
       "          (fc1): Conv2d(512, 32, kernel_size=(1, 1), stride=(1, 1), bias=False)\n",
       "          (fc2): Conv2d(32, 1024, kernel_size=(1, 1), stride=(1, 1), bias=False)\n",
       "          (softmax): Softmax(dim=1)\n",
       "        )\n",
       "        (conv3): Conv2d(512, 1024, kernel_size=(1, 1), stride=(1, 1), bias=False)\n",
       "        (bn3): BatchNorm2d(1024, eps=1e-05, momentum=0.1, affine=True, track_running_stats=True)\n",
       "        (relu): ReLU(inplace=True)\n",
       "      )\n",
       "      (3): resnext_block(\n",
       "        (conv1): Conv2d(1024, 512, kernel_size=(1, 1), stride=(1, 1), bias=False)\n",
       "        (bn1): BatchNorm2d(512, eps=1e-05, momentum=0.1, affine=True, track_running_stats=True)\n",
       "        (skconv): SKConv(\n",
       "          (conv3): Conv2d(512, 512, kernel_size=(3, 3), stride=(1, 1), padding=(1, 1), groups=32, bias=False)\n",
       "          (bn3): BatchNorm2d(512, eps=1e-05, momentum=0.1, affine=True, track_running_stats=True)\n",
       "          (conv5): Conv2d(512, 512, kernel_size=(3, 3), stride=(1, 1), padding=(2, 2), dilation=(2, 2), groups=32, bias=False)\n",
       "          (bn5): BatchNorm2d(512, eps=1e-05, momentum=0.1, affine=True, track_running_stats=True)\n",
       "          (relu): ReLU(inplace=True)\n",
       "          (global_pool): AdaptiveAvgPool2d(output_size=1)\n",
       "          (fc1): Conv2d(512, 32, kernel_size=(1, 1), stride=(1, 1), bias=False)\n",
       "          (fc2): Conv2d(32, 1024, kernel_size=(1, 1), stride=(1, 1), bias=False)\n",
       "          (softmax): Softmax(dim=1)\n",
       "        )\n",
       "        (conv3): Conv2d(512, 1024, kernel_size=(1, 1), stride=(1, 1), bias=False)\n",
       "        (bn3): BatchNorm2d(1024, eps=1e-05, momentum=0.1, affine=True, track_running_stats=True)\n",
       "        (relu): ReLU(inplace=True)\n",
       "      )\n",
       "      (4): resnext_block(\n",
       "        (conv1): Conv2d(1024, 512, kernel_size=(1, 1), stride=(1, 1), bias=False)\n",
       "        (bn1): BatchNorm2d(512, eps=1e-05, momentum=0.1, affine=True, track_running_stats=True)\n",
       "        (skconv): SKConv(\n",
       "          (conv3): Conv2d(512, 512, kernel_size=(3, 3), stride=(1, 1), padding=(1, 1), groups=32, bias=False)\n",
       "          (bn3): BatchNorm2d(512, eps=1e-05, momentum=0.1, affine=True, track_running_stats=True)\n",
       "          (conv5): Conv2d(512, 512, kernel_size=(3, 3), stride=(1, 1), padding=(2, 2), dilation=(2, 2), groups=32, bias=False)\n",
       "          (bn5): BatchNorm2d(512, eps=1e-05, momentum=0.1, affine=True, track_running_stats=True)\n",
       "          (relu): ReLU(inplace=True)\n",
       "          (global_pool): AdaptiveAvgPool2d(output_size=1)\n",
       "          (fc1): Conv2d(512, 32, kernel_size=(1, 1), stride=(1, 1), bias=False)\n",
       "          (fc2): Conv2d(32, 1024, kernel_size=(1, 1), stride=(1, 1), bias=False)\n",
       "          (softmax): Softmax(dim=1)\n",
       "        )\n",
       "        (conv3): Conv2d(512, 1024, kernel_size=(1, 1), stride=(1, 1), bias=False)\n",
       "        (bn3): BatchNorm2d(1024, eps=1e-05, momentum=0.1, affine=True, track_running_stats=True)\n",
       "        (relu): ReLU(inplace=True)\n",
       "      )\n",
       "      (5): resnext_block(\n",
       "        (conv1): Conv2d(1024, 512, kernel_size=(1, 1), stride=(1, 1), bias=False)\n",
       "        (bn1): BatchNorm2d(512, eps=1e-05, momentum=0.1, affine=True, track_running_stats=True)\n",
       "        (skconv): SKConv(\n",
       "          (conv3): Conv2d(512, 512, kernel_size=(3, 3), stride=(1, 1), padding=(1, 1), groups=32, bias=False)\n",
       "          (bn3): BatchNorm2d(512, eps=1e-05, momentum=0.1, affine=True, track_running_stats=True)\n",
       "          (conv5): Conv2d(512, 512, kernel_size=(3, 3), stride=(1, 1), padding=(2, 2), dilation=(2, 2), groups=32, bias=False)\n",
       "          (bn5): BatchNorm2d(512, eps=1e-05, momentum=0.1, affine=True, track_running_stats=True)\n",
       "          (relu): ReLU(inplace=True)\n",
       "          (global_pool): AdaptiveAvgPool2d(output_size=1)\n",
       "          (fc1): Conv2d(512, 32, kernel_size=(1, 1), stride=(1, 1), bias=False)\n",
       "          (fc2): Conv2d(32, 1024, kernel_size=(1, 1), stride=(1, 1), bias=False)\n",
       "          (softmax): Softmax(dim=1)\n",
       "        )\n",
       "        (conv3): Conv2d(512, 1024, kernel_size=(1, 1), stride=(1, 1), bias=False)\n",
       "        (bn3): BatchNorm2d(1024, eps=1e-05, momentum=0.1, affine=True, track_running_stats=True)\n",
       "        (relu): ReLU(inplace=True)\n",
       "      )\n",
       "    )\n",
       "    (layer4): Sequential(\n",
       "      (0): resnext_block(\n",
       "        (conv1): Conv2d(1024, 1024, kernel_size=(1, 1), stride=(1, 1), bias=False)\n",
       "        (bn1): BatchNorm2d(1024, eps=1e-05, momentum=0.1, affine=True, track_running_stats=True)\n",
       "        (skconv): SKConv(\n",
       "          (conv3): Conv2d(1024, 1024, kernel_size=(3, 3), stride=(2, 2), padding=(1, 1), groups=32, bias=False)\n",
       "          (bn3): BatchNorm2d(1024, eps=1e-05, momentum=0.1, affine=True, track_running_stats=True)\n",
       "          (conv5): Conv2d(1024, 1024, kernel_size=(3, 3), stride=(2, 2), padding=(2, 2), dilation=(2, 2), groups=32, bias=False)\n",
       "          (bn5): BatchNorm2d(1024, eps=1e-05, momentum=0.1, affine=True, track_running_stats=True)\n",
       "          (relu): ReLU(inplace=True)\n",
       "          (global_pool): AdaptiveAvgPool2d(output_size=1)\n",
       "          (fc1): Conv2d(1024, 64, kernel_size=(1, 1), stride=(1, 1), bias=False)\n",
       "          (fc2): Conv2d(64, 2048, kernel_size=(1, 1), stride=(1, 1), bias=False)\n",
       "          (softmax): Softmax(dim=1)\n",
       "        )\n",
       "        (conv3): Conv2d(1024, 2048, kernel_size=(1, 1), stride=(1, 1), bias=False)\n",
       "        (bn3): BatchNorm2d(2048, eps=1e-05, momentum=0.1, affine=True, track_running_stats=True)\n",
       "        (relu): ReLU(inplace=True)\n",
       "        (identity_downsample): Sequential(\n",
       "          (0): Conv2d(1024, 2048, kernel_size=(1, 1), stride=(2, 2), bias=False)\n",
       "          (1): BatchNorm2d(2048, eps=1e-05, momentum=0.1, affine=True, track_running_stats=True)\n",
       "        )\n",
       "      )\n",
       "      (1): resnext_block(\n",
       "        (conv1): Conv2d(2048, 1024, kernel_size=(1, 1), stride=(1, 1), bias=False)\n",
       "        (bn1): BatchNorm2d(1024, eps=1e-05, momentum=0.1, affine=True, track_running_stats=True)\n",
       "        (skconv): SKConv(\n",
       "          (conv3): Conv2d(1024, 1024, kernel_size=(3, 3), stride=(1, 1), padding=(1, 1), groups=32, bias=False)\n",
       "          (bn3): BatchNorm2d(1024, eps=1e-05, momentum=0.1, affine=True, track_running_stats=True)\n",
       "          (conv5): Conv2d(1024, 1024, kernel_size=(3, 3), stride=(1, 1), padding=(2, 2), dilation=(2, 2), groups=32, bias=False)\n",
       "          (bn5): BatchNorm2d(1024, eps=1e-05, momentum=0.1, affine=True, track_running_stats=True)\n",
       "          (relu): ReLU(inplace=True)\n",
       "          (global_pool): AdaptiveAvgPool2d(output_size=1)\n",
       "          (fc1): Conv2d(1024, 64, kernel_size=(1, 1), stride=(1, 1), bias=False)\n",
       "          (fc2): Conv2d(64, 2048, kernel_size=(1, 1), stride=(1, 1), bias=False)\n",
       "          (softmax): Softmax(dim=1)\n",
       "        )\n",
       "        (conv3): Conv2d(1024, 2048, kernel_size=(1, 1), stride=(1, 1), bias=False)\n",
       "        (bn3): BatchNorm2d(2048, eps=1e-05, momentum=0.1, affine=True, track_running_stats=True)\n",
       "        (relu): ReLU(inplace=True)\n",
       "      )\n",
       "      (2): resnext_block(\n",
       "        (conv1): Conv2d(2048, 1024, kernel_size=(1, 1), stride=(1, 1), bias=False)\n",
       "        (bn1): BatchNorm2d(1024, eps=1e-05, momentum=0.1, affine=True, track_running_stats=True)\n",
       "        (skconv): SKConv(\n",
       "          (conv3): Conv2d(1024, 1024, kernel_size=(3, 3), stride=(1, 1), padding=(1, 1), groups=32, bias=False)\n",
       "          (bn3): BatchNorm2d(1024, eps=1e-05, momentum=0.1, affine=True, track_running_stats=True)\n",
       "          (conv5): Conv2d(1024, 1024, kernel_size=(3, 3), stride=(1, 1), padding=(2, 2), dilation=(2, 2), groups=32, bias=False)\n",
       "          (bn5): BatchNorm2d(1024, eps=1e-05, momentum=0.1, affine=True, track_running_stats=True)\n",
       "          (relu): ReLU(inplace=True)\n",
       "          (global_pool): AdaptiveAvgPool2d(output_size=1)\n",
       "          (fc1): Conv2d(1024, 64, kernel_size=(1, 1), stride=(1, 1), bias=False)\n",
       "          (fc2): Conv2d(64, 2048, kernel_size=(1, 1), stride=(1, 1), bias=False)\n",
       "          (softmax): Softmax(dim=1)\n",
       "        )\n",
       "        (conv3): Conv2d(1024, 2048, kernel_size=(1, 1), stride=(1, 1), bias=False)\n",
       "        (bn3): BatchNorm2d(2048, eps=1e-05, momentum=0.1, affine=True, track_running_stats=True)\n",
       "        (relu): ReLU(inplace=True)\n",
       "      )\n",
       "    )\n",
       "  )\n",
       "  (up1): ConvTranspose2d(2048, 1024, kernel_size=(2, 2), stride=(2, 2))\n",
       "  (dec1): Sequential(\n",
       "    (0): Conv2d(2048, 1024, kernel_size=(3, 3), stride=(1, 1), padding=(1, 1))\n",
       "    (1): ReLU(inplace=True)\n",
       "    (2): Conv2d(1024, 1024, kernel_size=(3, 3), stride=(1, 1), padding=(1, 1))\n",
       "    (3): ReLU(inplace=True)\n",
       "  )\n",
       "  (up2): ConvTranspose2d(1024, 512, kernel_size=(2, 2), stride=(2, 2))\n",
       "  (dec2): Sequential(\n",
       "    (0): Conv2d(1024, 512, kernel_size=(3, 3), stride=(1, 1), padding=(1, 1))\n",
       "    (1): ReLU(inplace=True)\n",
       "    (2): Conv2d(512, 512, kernel_size=(3, 3), stride=(1, 1), padding=(1, 1))\n",
       "    (3): ReLU(inplace=True)\n",
       "  )\n",
       "  (up3): ConvTranspose2d(512, 256, kernel_size=(2, 2), stride=(2, 2))\n",
       "  (dec3): Sequential(\n",
       "    (0): Conv2d(512, 256, kernel_size=(3, 3), stride=(1, 1), padding=(1, 1))\n",
       "    (1): ReLU(inplace=True)\n",
       "    (2): Conv2d(256, 256, kernel_size=(3, 3), stride=(1, 1), padding=(1, 1))\n",
       "    (3): ReLU(inplace=True)\n",
       "  )\n",
       "  (up4): ConvTranspose2d(256, 128, kernel_size=(2, 2), stride=(2, 2))\n",
       "  (dec4): Sequential(\n",
       "    (0): Conv2d(192, 64, kernel_size=(3, 3), stride=(1, 1), padding=(1, 1))\n",
       "    (1): ReLU(inplace=True)\n",
       "    (2): Conv2d(64, 64, kernel_size=(3, 3), stride=(1, 1), padding=(1, 1))\n",
       "    (3): ReLU(inplace=True)\n",
       "  )\n",
       "  (out_conv): Conv2d(64, 6, kernel_size=(1, 1), stride=(1, 1))\n",
       ")"
      ]
     },
     "execution_count": 32,
     "metadata": {},
     "output_type": "execute_result"
    }
   ],
   "source": [
    "model.eval()"
   ]
  },
  {
   "cell_type": "code",
   "execution_count": 33,
   "metadata": {
    "colab": {
     "base_uri": "https://localhost:8080/"
    },
    "executionInfo": {
     "elapsed": 4,
     "status": "ok",
     "timestamp": 1750631521827,
     "user": {
      "displayName": "Bimbingan TG 2025",
      "userId": "17786358260686151756"
     },
     "user_tz": -420
    },
    "id": "DsRa3L5TK5Vt",
    "outputId": "02477cc4-0cdb-4644-d320-2df6874427fe"
   },
   "outputs": [
    {
     "data": {
      "text/plain": [
       "73809414"
      ]
     },
     "execution_count": 33,
     "metadata": {},
     "output_type": "execute_result"
    }
   ],
   "source": [
    "# Hitung total parameters model\n",
    "total_params = sum(p.numel() for p in model.parameters() if p.requires_grad)\n",
    "total_params"
   ]
  },
  {
   "cell_type": "markdown",
   "metadata": {
    "id": "uwh9LlsXQVLX"
   },
   "source": [
    "**Training**"
   ]
  },
  {
   "cell_type": "markdown",
   "metadata": {
    "id": "d5yRyIXTQqXo"
   },
   "source": [
    "Inisialisasi Output Path"
   ]
  },
  {
   "cell_type": "code",
   "execution_count": 34,
   "metadata": {
    "executionInfo": {
     "elapsed": 3,
     "status": "ok",
     "timestamp": 1750631526600,
     "user": {
      "displayName": "Bimbingan TG 2025",
      "userId": "17786358260686151756"
     },
     "user_tz": -420
    },
    "id": "sjn-pbxfIdL9"
   },
   "outputs": [],
   "source": [
    "# Define name of folder output main path\n",
    "\n",
    "output_path = \"baseline_32x4d\" #JANGAN LUPA GANTI INI"
   ]
  },
  {
   "cell_type": "markdown",
   "metadata": {
    "id": "iL90xr-51LSM"
   },
   "source": [
    "Output path"
   ]
  },
  {
   "cell_type": "code",
   "execution_count": null,
   "metadata": {
    "executionInfo": {
     "elapsed": 354,
     "status": "ok",
     "timestamp": 1750631530968,
     "user": {
      "displayName": "Bimbingan TG 2025",
      "userId": "17786358260686151756"
     },
     "user_tz": -420
    },
    "id": "5Zi94RHOQW7h"
   },
   "outputs": [],
   "source": [
    "# Paths\n",
    "timestamp = datetime.datetime.now().strftime(\"%Y%m%d_%H%M%S\")\n",
    "last_model_path = f\"output/{output_path}/last_model/unet_skresnext50_baseline_last.pt\"\n",
    "best_model_path = f\"output/{output_path}/best_model/unet_skresnext50_baseline_best.pt\"\n",
    "checkpoint_dir = f\"output/{output_path}/checkpoint\"\n",
    "log_dir = f\"output/{output_path}/logs\"\n",
    "log_path = os.path.join(log_dir, f\"training_log_{timestamp}.txt\")\n",
    "csv_path = os.path.join(log_dir, \"trainlog.csv\")\n",
    "csv_path_resume = os.path.join(log_dir, \"trainlog_resume.csv\")\n",
    "diagram_dir = f\"output/{output_path}/diagram\"\n",
    "inference_dir = f\"output/{output_path}/inference\"\n",
    "\n",
    "# Ensure directories exist\n",
    "os.makedirs(os.path.dirname(best_model_path), exist_ok=True)\n",
    "os.makedirs(os.path.dirname(last_model_path), exist_ok=True)\n",
    "os.makedirs(diagram_dir, exist_ok=True)\n",
    "os.makedirs(checkpoint_dir, exist_ok=True)\n",
    "os.makedirs(log_dir, exist_ok=True)\n",
    "os.makedirs(inference_dir, exist_ok=True)"
   ]
  },
  {
   "cell_type": "markdown",
   "metadata": {
    "id": "49qmoVtQQgCt"
   },
   "source": [
    "Inisialisasi Logging"
   ]
  },
  {
   "cell_type": "code",
   "execution_count": 39,
   "metadata": {
    "executionInfo": {
     "elapsed": 18,
     "status": "ok",
     "timestamp": 1750631533077,
     "user": {
      "displayName": "Bimbingan TG 2025",
      "userId": "17786358260686151756"
     },
     "user_tz": -420
    },
    "id": "84DEYfmIQflm"
   },
   "outputs": [],
   "source": [
    "log_lines = []\n",
    "log_lines.append(f\"🕒 Training Started: {timestamp}\")\n",
    "log_lines.append(f\"Best Model Path: {best_model_path}\")\n",
    "log_lines.append(f\"Checkpoint Directory: {checkpoint_dir}\")\n",
    "log_lines.append(\"\")"
   ]
  },
  {
   "cell_type": "markdown",
   "metadata": {
    "id": "xfIVlMPUj0Gt"
   },
   "source": [
    "Inisialisasi History Untuk Plot Diagram Garis Train dan Val"
   ]
  },
  {
   "cell_type": "code",
   "execution_count": 40,
   "metadata": {
    "executionInfo": {
     "elapsed": 1,
     "status": "ok",
     "timestamp": 1750631534486,
     "user": {
      "displayName": "Bimbingan TG 2025",
      "userId": "17786358260686151756"
     },
     "user_tz": -420
    },
    "id": "j01XBcK5jzbN"
   },
   "outputs": [],
   "source": [
    "train_losses = []\n",
    "train_accuracies = []\n",
    "val_losses = []\n",
    "val_accuracies = []"
   ]
  },
  {
   "cell_type": "markdown",
   "metadata": {
    "id": "aMAFuNlWQwG3"
   },
   "source": [
    "Training Loop"
   ]
  },
  {
   "cell_type": "code",
   "execution_count": null,
   "metadata": {
    "colab": {
     "base_uri": "https://localhost:8080/"
    },
    "executionInfo": {
     "elapsed": 12542400,
     "status": "ok",
     "timestamp": 1750630743349,
     "user": {
      "displayName": "Bimbingan TG 2025",
      "userId": "17786358260686151756"
     },
     "user_tz": -420
    },
    "id": "QddbfFN5Niw5",
    "outputId": "7ccb9fc2-6d64-41fe-d5fa-50c537f1ef48"
   },
   "outputs": [
    {
     "name": "stderr",
     "output_type": "stream",
     "text": [
      "Epoch 1/120: 100%|██████████| 507/507 [03:25<00:00,  2.46it/s, acc=64.9, loss=0.755]\n"
     ]
    },
    {
     "name": "stdout",
     "output_type": "stream",
     "text": [
      "✅ Model disimpan (Val Loss: 1.0239)\n",
      "Epoch 1 | Val Loss: 1.0239 | Val Acc: 61.45%\n"
     ]
    },
    {
     "name": "stderr",
     "output_type": "stream",
     "text": [
      "Epoch 2/120: 100%|██████████| 507/507 [03:26<00:00,  2.46it/s, acc=62.8, loss=0.864]\n"
     ]
    },
    {
     "name": "stdout",
     "output_type": "stream",
     "text": [
      "✅ Model disimpan (Val Loss: 0.6842)\n",
      "Epoch 2 | Val Loss: 0.6842 | Val Acc: 73.70%\n"
     ]
    },
    {
     "name": "stderr",
     "output_type": "stream",
     "text": [
      "Epoch 3/120: 100%|██████████| 507/507 [03:25<00:00,  2.46it/s, acc=55.2, loss=1.05]\n"
     ]
    },
    {
     "name": "stdout",
     "output_type": "stream",
     "text": [
      "Epoch 3 | Val Loss: 0.9714 | Val Acc: 64.65%\n"
     ]
    },
    {
     "name": "stderr",
     "output_type": "stream",
     "text": [
      "Epoch 4/120: 100%|██████████| 507/507 [03:25<00:00,  2.46it/s, acc=56.7, loss=0.913]\n"
     ]
    },
    {
     "name": "stdout",
     "output_type": "stream",
     "text": [
      "Epoch 4 | Val Loss: 0.7026 | Val Acc: 71.98%\n"
     ]
    },
    {
     "name": "stderr",
     "output_type": "stream",
     "text": [
      "Epoch 5/120: 100%|██████████| 507/507 [03:25<00:00,  2.47it/s, acc=61.8, loss=0.809]\n"
     ]
    },
    {
     "name": "stdout",
     "output_type": "stream",
     "text": [
      "Epoch 5 | Val Loss: 0.7397 | Val Acc: 72.14%\n"
     ]
    },
    {
     "name": "stderr",
     "output_type": "stream",
     "text": [
      "Epoch 6/120: 100%|██████████| 507/507 [03:25<00:00,  2.47it/s, acc=67.2, loss=0.98]\n"
     ]
    },
    {
     "name": "stdout",
     "output_type": "stream",
     "text": [
      "✅ Model disimpan (Val Loss: 0.6238)\n",
      "Epoch 6 | Val Loss: 0.6238 | Val Acc: 75.62%\n"
     ]
    },
    {
     "name": "stderr",
     "output_type": "stream",
     "text": [
      "Epoch 7/120: 100%|██████████| 507/507 [03:25<00:00,  2.47it/s, acc=73.4, loss=0.708]\n"
     ]
    },
    {
     "name": "stdout",
     "output_type": "stream",
     "text": [
      "✅ Model disimpan (Val Loss: 0.5921)\n",
      "Epoch 7 | Val Loss: 0.5921 | Val Acc: 77.15%\n"
     ]
    },
    {
     "name": "stderr",
     "output_type": "stream",
     "text": [
      "Epoch 8/120: 100%|██████████| 507/507 [03:24<00:00,  2.48it/s, acc=59.7, loss=1.06]\n"
     ]
    },
    {
     "name": "stdout",
     "output_type": "stream",
     "text": [
      "Epoch 8 | Val Loss: 0.6036 | Val Acc: 76.62%\n"
     ]
    },
    {
     "name": "stderr",
     "output_type": "stream",
     "text": [
      "Epoch 9/120: 100%|██████████| 507/507 [03:24<00:00,  2.48it/s, acc=62.6, loss=0.823]\n"
     ]
    },
    {
     "name": "stdout",
     "output_type": "stream",
     "text": [
      "✅ Model disimpan (Val Loss: 0.5822)\n",
      "Epoch 9 | Val Loss: 0.5822 | Val Acc: 77.31%\n"
     ]
    },
    {
     "name": "stderr",
     "output_type": "stream",
     "text": [
      "Epoch 10/120: 100%|██████████| 507/507 [03:24<00:00,  2.47it/s, acc=77.5, loss=0.738]\n"
     ]
    },
    {
     "name": "stdout",
     "output_type": "stream",
     "text": [
      "Epoch 10 | Val Loss: 0.7831 | Val Acc: 70.35%\n"
     ]
    },
    {
     "name": "stderr",
     "output_type": "stream",
     "text": [
      "Epoch 11/120: 100%|██████████| 507/507 [03:24<00:00,  2.47it/s, acc=61.2, loss=1.36]\n"
     ]
    },
    {
     "name": "stdout",
     "output_type": "stream",
     "text": [
      "✅ Model disimpan (Val Loss: 0.5465)\n",
      "Epoch 11 | Val Loss: 0.5465 | Val Acc: 78.35%\n"
     ]
    },
    {
     "name": "stderr",
     "output_type": "stream",
     "text": [
      "Epoch 12/120: 100%|██████████| 507/507 [03:25<00:00,  2.47it/s, acc=71.8, loss=0.727]\n"
     ]
    },
    {
     "name": "stdout",
     "output_type": "stream",
     "text": [
      "Epoch 12 | Val Loss: 0.5984 | Val Acc: 76.58%\n"
     ]
    },
    {
     "name": "stderr",
     "output_type": "stream",
     "text": [
      "Epoch 13/120: 100%|██████████| 507/507 [03:25<00:00,  2.47it/s, acc=72, loss=0.701]\n"
     ]
    },
    {
     "name": "stdout",
     "output_type": "stream",
     "text": [
      "Epoch 13 | Val Loss: 0.7804 | Val Acc: 71.39%\n"
     ]
    },
    {
     "name": "stderr",
     "output_type": "stream",
     "text": [
      "Epoch 14/120: 100%|██████████| 507/507 [03:24<00:00,  2.48it/s, acc=72.9, loss=0.667]\n"
     ]
    },
    {
     "name": "stdout",
     "output_type": "stream",
     "text": [
      "Epoch 14 | Val Loss: 0.5489 | Val Acc: 78.50%\n"
     ]
    },
    {
     "name": "stderr",
     "output_type": "stream",
     "text": [
      "Epoch 15/120: 100%|██████████| 507/507 [03:24<00:00,  2.48it/s, acc=72.1, loss=0.765]\n"
     ]
    },
    {
     "name": "stdout",
     "output_type": "stream",
     "text": [
      "Epoch 15 | Val Loss: 0.8400 | Val Acc: 70.41%\n"
     ]
    },
    {
     "name": "stderr",
     "output_type": "stream",
     "text": [
      "Epoch 16/120: 100%|██████████| 507/507 [03:24<00:00,  2.48it/s, acc=76.1, loss=0.585]\n"
     ]
    },
    {
     "name": "stdout",
     "output_type": "stream",
     "text": [
      "✅ Model disimpan (Val Loss: 0.5432)\n",
      "Epoch 16 | Val Loss: 0.5432 | Val Acc: 78.42%\n"
     ]
    },
    {
     "name": "stderr",
     "output_type": "stream",
     "text": [
      "Epoch 17/120: 100%|██████████| 507/507 [03:25<00:00,  2.47it/s, acc=84.2, loss=0.561]\n"
     ]
    },
    {
     "name": "stdout",
     "output_type": "stream",
     "text": [
      "Epoch 17 | Val Loss: 0.6566 | Val Acc: 75.32%\n"
     ]
    },
    {
     "name": "stderr",
     "output_type": "stream",
     "text": [
      "Epoch 18/120: 100%|██████████| 507/507 [03:24<00:00,  2.47it/s, acc=86.5, loss=0.404]\n"
     ]
    },
    {
     "name": "stdout",
     "output_type": "stream",
     "text": [
      "Epoch 18 | Val Loss: 0.5478 | Val Acc: 78.68%\n"
     ]
    },
    {
     "name": "stderr",
     "output_type": "stream",
     "text": [
      "Epoch 19/120: 100%|██████████| 507/507 [03:24<00:00,  2.48it/s, acc=60.2, loss=0.896]\n"
     ]
    },
    {
     "name": "stdout",
     "output_type": "stream",
     "text": [
      "✅ Model disimpan (Val Loss: 0.5259)\n",
      "Epoch 19 | Val Loss: 0.5259 | Val Acc: 79.37%\n"
     ]
    },
    {
     "name": "stderr",
     "output_type": "stream",
     "text": [
      "Epoch 20/120: 100%|██████████| 507/507 [03:24<00:00,  2.48it/s, acc=68.3, loss=0.792]\n"
     ]
    },
    {
     "name": "stdout",
     "output_type": "stream",
     "text": [
      "💾 Checkpoint disimpan: /content/drive/MyDrive/KoTA-309/APE/APE-Train-2/output/baseline_8x14d_run2/checkpoint/checkpoint_epoch_20.pth\n",
      "Epoch 20 | Val Loss: 0.5470 | Val Acc: 78.60%\n"
     ]
    },
    {
     "name": "stderr",
     "output_type": "stream",
     "text": [
      "Epoch 21/120: 100%|██████████| 507/507 [03:23<00:00,  2.49it/s, acc=85.6, loss=0.357]\n"
     ]
    },
    {
     "name": "stdout",
     "output_type": "stream",
     "text": [
      "Epoch 21 | Val Loss: 0.5306 | Val Acc: 79.90%\n"
     ]
    },
    {
     "name": "stderr",
     "output_type": "stream",
     "text": [
      "Epoch 22/120: 100%|██████████| 507/507 [03:23<00:00,  2.49it/s, acc=76.2, loss=0.612]\n"
     ]
    },
    {
     "name": "stdout",
     "output_type": "stream",
     "text": [
      "✅ Model disimpan (Val Loss: 0.5035)\n",
      "Epoch 22 | Val Loss: 0.5035 | Val Acc: 80.38%\n"
     ]
    },
    {
     "name": "stderr",
     "output_type": "stream",
     "text": [
      "Epoch 23/120: 100%|██████████| 507/507 [03:23<00:00,  2.49it/s, acc=59.1, loss=1.03]\n"
     ]
    },
    {
     "name": "stdout",
     "output_type": "stream",
     "text": [
      "Epoch 23 | Val Loss: 0.5127 | Val Acc: 79.76%\n"
     ]
    },
    {
     "name": "stderr",
     "output_type": "stream",
     "text": [
      "Epoch 24/120: 100%|██████████| 507/507 [03:23<00:00,  2.49it/s, acc=75.7, loss=0.623]\n"
     ]
    },
    {
     "name": "stdout",
     "output_type": "stream",
     "text": [
      "Epoch 24 | Val Loss: 0.5129 | Val Acc: 80.27%\n"
     ]
    },
    {
     "name": "stderr",
     "output_type": "stream",
     "text": [
      "Epoch 25/120: 100%|██████████| 507/507 [03:23<00:00,  2.49it/s, acc=76.2, loss=0.691]\n"
     ]
    },
    {
     "name": "stdout",
     "output_type": "stream",
     "text": [
      "Epoch 25 | Val Loss: 0.5195 | Val Acc: 79.44%\n"
     ]
    },
    {
     "name": "stderr",
     "output_type": "stream",
     "text": [
      "Epoch 26/120: 100%|██████████| 507/507 [03:23<00:00,  2.49it/s, acc=68.5, loss=0.731]\n"
     ]
    },
    {
     "name": "stdout",
     "output_type": "stream",
     "text": [
      "Epoch 26 | Val Loss: 0.5220 | Val Acc: 79.77%\n"
     ]
    },
    {
     "name": "stderr",
     "output_type": "stream",
     "text": [
      "Epoch 27/120: 100%|██████████| 507/507 [03:23<00:00,  2.49it/s, acc=78, loss=0.599]\n"
     ]
    },
    {
     "name": "stdout",
     "output_type": "stream",
     "text": [
      "✅ Model disimpan (Val Loss: 0.4682)\n",
      "Epoch 27 | Val Loss: 0.4682 | Val Acc: 81.72%\n"
     ]
    },
    {
     "name": "stderr",
     "output_type": "stream",
     "text": [
      "Epoch 28/120: 100%|██████████| 507/507 [03:24<00:00,  2.48it/s, acc=76.3, loss=0.802]\n"
     ]
    },
    {
     "name": "stdout",
     "output_type": "stream",
     "text": [
      "Epoch 28 | Val Loss: 0.5416 | Val Acc: 78.83%\n"
     ]
    },
    {
     "name": "stderr",
     "output_type": "stream",
     "text": [
      "Epoch 29/120: 100%|██████████| 507/507 [03:23<00:00,  2.49it/s, acc=71.4, loss=0.736]\n"
     ]
    },
    {
     "name": "stdout",
     "output_type": "stream",
     "text": [
      "Epoch 29 | Val Loss: 0.5577 | Val Acc: 78.23%\n"
     ]
    },
    {
     "name": "stderr",
     "output_type": "stream",
     "text": [
      "Epoch 30/120: 100%|██████████| 507/507 [03:24<00:00,  2.48it/s, acc=79.2, loss=0.534]\n"
     ]
    },
    {
     "name": "stdout",
     "output_type": "stream",
     "text": [
      "Epoch 30 | Val Loss: 0.4892 | Val Acc: 80.68%\n"
     ]
    },
    {
     "name": "stderr",
     "output_type": "stream",
     "text": [
      "Epoch 31/120: 100%|██████████| 507/507 [03:23<00:00,  2.49it/s, acc=77.6, loss=0.605]\n"
     ]
    },
    {
     "name": "stdout",
     "output_type": "stream",
     "text": [
      "✅ Model disimpan (Val Loss: 0.4662)\n",
      "Epoch 31 | Val Loss: 0.4662 | Val Acc: 81.84%\n"
     ]
    },
    {
     "name": "stderr",
     "output_type": "stream",
     "text": [
      "Epoch 32/120: 100%|██████████| 507/507 [03:23<00:00,  2.49it/s, acc=79.8, loss=0.477]\n"
     ]
    },
    {
     "name": "stdout",
     "output_type": "stream",
     "text": [
      "Epoch 32 | Val Loss: 0.5248 | Val Acc: 79.95%\n"
     ]
    },
    {
     "name": "stderr",
     "output_type": "stream",
     "text": [
      "Epoch 33/120: 100%|██████████| 507/507 [03:23<00:00,  2.49it/s, acc=89.3, loss=0.323]\n"
     ]
    },
    {
     "name": "stdout",
     "output_type": "stream",
     "text": [
      "Epoch 33 | Val Loss: 0.5088 | Val Acc: 80.01%\n"
     ]
    },
    {
     "name": "stderr",
     "output_type": "stream",
     "text": [
      "Epoch 34/120: 100%|██████████| 507/507 [03:23<00:00,  2.49it/s, acc=85.2, loss=0.367]\n"
     ]
    },
    {
     "name": "stdout",
     "output_type": "stream",
     "text": [
      "Epoch 34 | Val Loss: 0.5629 | Val Acc: 77.92%\n"
     ]
    },
    {
     "name": "stderr",
     "output_type": "stream",
     "text": [
      "Epoch 35/120: 100%|██████████| 507/507 [03:23<00:00,  2.49it/s, acc=84.7, loss=0.498]\n"
     ]
    },
    {
     "name": "stdout",
     "output_type": "stream",
     "text": [
      "Epoch 35 | Val Loss: 0.4935 | Val Acc: 81.09%\n"
     ]
    },
    {
     "name": "stderr",
     "output_type": "stream",
     "text": [
      "Epoch 36/120: 100%|██████████| 507/507 [03:23<00:00,  2.49it/s, acc=53.6, loss=1.19]\n"
     ]
    },
    {
     "name": "stdout",
     "output_type": "stream",
     "text": [
      "Epoch 36 | Val Loss: 0.4743 | Val Acc: 81.78%\n"
     ]
    },
    {
     "name": "stderr",
     "output_type": "stream",
     "text": [
      "Epoch 37/120: 100%|██████████| 507/507 [03:23<00:00,  2.49it/s, acc=85.6, loss=0.337]\n"
     ]
    },
    {
     "name": "stdout",
     "output_type": "stream",
     "text": [
      "Epoch 37 | Val Loss: 0.4677 | Val Acc: 82.02%\n"
     ]
    },
    {
     "name": "stderr",
     "output_type": "stream",
     "text": [
      "Epoch 38/120: 100%|██████████| 507/507 [03:24<00:00,  2.48it/s, acc=76.2, loss=0.582]\n"
     ]
    },
    {
     "name": "stdout",
     "output_type": "stream",
     "text": [
      "Epoch 38 | Val Loss: 0.5117 | Val Acc: 80.62%\n"
     ]
    },
    {
     "name": "stderr",
     "output_type": "stream",
     "text": [
      "Epoch 39/120: 100%|██████████| 507/507 [03:24<00:00,  2.48it/s, acc=60.2, loss=1]\n"
     ]
    },
    {
     "name": "stdout",
     "output_type": "stream",
     "text": [
      "Epoch 39 | Val Loss: 0.5330 | Val Acc: 79.34%\n"
     ]
    },
    {
     "name": "stderr",
     "output_type": "stream",
     "text": [
      "Epoch 40/120: 100%|██████████| 507/507 [03:24<00:00,  2.48it/s, acc=56.2, loss=1.19]\n"
     ]
    },
    {
     "name": "stdout",
     "output_type": "stream",
     "text": [
      "💾 Checkpoint disimpan: /content/drive/MyDrive/KoTA-309/APE/APE-Train-2/output/baseline_8x14d_run2/checkpoint/checkpoint_epoch_40.pth\n",
      "Epoch 40 | Val Loss: 0.4972 | Val Acc: 80.39%\n"
     ]
    },
    {
     "name": "stderr",
     "output_type": "stream",
     "text": [
      "Epoch 41/120: 100%|██████████| 507/507 [03:24<00:00,  2.48it/s, acc=83.4, loss=0.445]\n"
     ]
    },
    {
     "name": "stdout",
     "output_type": "stream",
     "text": [
      "Epoch 41 | Val Loss: 0.7723 | Val Acc: 72.78%\n"
     ]
    },
    {
     "name": "stderr",
     "output_type": "stream",
     "text": [
      "Epoch 42/120: 100%|██████████| 507/507 [03:23<00:00,  2.49it/s, acc=72.8, loss=0.647]\n"
     ]
    },
    {
     "name": "stdout",
     "output_type": "stream",
     "text": [
      "Epoch 42 | Val Loss: 0.4821 | Val Acc: 80.97%\n"
     ]
    },
    {
     "name": "stderr",
     "output_type": "stream",
     "text": [
      "Epoch 43/120: 100%|██████████| 507/507 [03:23<00:00,  2.49it/s, acc=86.7, loss=0.37]\n"
     ]
    },
    {
     "name": "stdout",
     "output_type": "stream",
     "text": [
      "Epoch 43 | Val Loss: 0.5017 | Val Acc: 80.17%\n"
     ]
    },
    {
     "name": "stderr",
     "output_type": "stream",
     "text": [
      "Epoch 44/120: 100%|██████████| 507/507 [03:23<00:00,  2.49it/s, acc=77.5, loss=0.519]\n"
     ]
    },
    {
     "name": "stdout",
     "output_type": "stream",
     "text": [
      "✅ Model disimpan (Val Loss: 0.4507)\n",
      "Epoch 44 | Val Loss: 0.4507 | Val Acc: 82.16%\n"
     ]
    },
    {
     "name": "stderr",
     "output_type": "stream",
     "text": [
      "Epoch 45/120: 100%|██████████| 507/507 [03:24<00:00,  2.49it/s, acc=72.9, loss=0.648]\n"
     ]
    },
    {
     "name": "stdout",
     "output_type": "stream",
     "text": [
      "Epoch 45 | Val Loss: 0.4584 | Val Acc: 82.10%\n"
     ]
    },
    {
     "name": "stderr",
     "output_type": "stream",
     "text": [
      "Epoch 46/120: 100%|██████████| 507/507 [03:24<00:00,  2.48it/s, acc=73.6, loss=0.638]\n"
     ]
    },
    {
     "name": "stdout",
     "output_type": "stream",
     "text": [
      "Epoch 46 | Val Loss: 0.4638 | Val Acc: 82.26%\n"
     ]
    },
    {
     "name": "stderr",
     "output_type": "stream",
     "text": [
      "Epoch 47/120: 100%|██████████| 507/507 [03:24<00:00,  2.48it/s, acc=81.4, loss=0.51]\n"
     ]
    },
    {
     "name": "stdout",
     "output_type": "stream",
     "text": [
      "✅ Model disimpan (Val Loss: 0.4312)\n",
      "Epoch 47 | Val Loss: 0.4312 | Val Acc: 83.30%\n"
     ]
    },
    {
     "name": "stderr",
     "output_type": "stream",
     "text": [
      "Epoch 48/120: 100%|██████████| 507/507 [03:24<00:00,  2.48it/s, acc=89, loss=0.312]\n"
     ]
    },
    {
     "name": "stdout",
     "output_type": "stream",
     "text": [
      "Epoch 48 | Val Loss: 0.4953 | Val Acc: 80.45%\n"
     ]
    },
    {
     "name": "stderr",
     "output_type": "stream",
     "text": [
      "Epoch 49/120: 100%|██████████| 507/507 [03:23<00:00,  2.49it/s, acc=90.5, loss=0.245]\n"
     ]
    },
    {
     "name": "stdout",
     "output_type": "stream",
     "text": [
      "Epoch 49 | Val Loss: 0.4377 | Val Acc: 82.82%\n"
     ]
    },
    {
     "name": "stderr",
     "output_type": "stream",
     "text": [
      "Epoch 50/120: 100%|██████████| 507/507 [03:23<00:00,  2.49it/s, acc=77.3, loss=0.589]\n"
     ]
    },
    {
     "name": "stdout",
     "output_type": "stream",
     "text": [
      "Epoch 50 | Val Loss: 0.4373 | Val Acc: 82.73%\n"
     ]
    },
    {
     "name": "stderr",
     "output_type": "stream",
     "text": [
      "Epoch 51/120: 100%|██████████| 507/507 [03:23<00:00,  2.49it/s, acc=80, loss=0.541]\n"
     ]
    },
    {
     "name": "stdout",
     "output_type": "stream",
     "text": [
      "Epoch 51 | Val Loss: 0.4446 | Val Acc: 82.35%\n"
     ]
    },
    {
     "name": "stderr",
     "output_type": "stream",
     "text": [
      "Epoch 52/120: 100%|██████████| 507/507 [03:23<00:00,  2.49it/s, acc=79.1, loss=0.531]\n"
     ]
    },
    {
     "name": "stdout",
     "output_type": "stream",
     "text": [
      "Epoch 52 | Val Loss: 0.4656 | Val Acc: 81.88%\n"
     ]
    },
    {
     "name": "stderr",
     "output_type": "stream",
     "text": [
      "Epoch 53/120: 100%|██████████| 507/507 [03:24<00:00,  2.48it/s, acc=74.7, loss=0.706]\n"
     ]
    },
    {
     "name": "stdout",
     "output_type": "stream",
     "text": [
      "Epoch 53 | Val Loss: 0.4532 | Val Acc: 82.09%\n"
     ]
    },
    {
     "name": "stderr",
     "output_type": "stream",
     "text": [
      "Epoch 54/120: 100%|██████████| 507/507 [03:23<00:00,  2.49it/s, acc=68.6, loss=0.796]\n"
     ]
    },
    {
     "name": "stdout",
     "output_type": "stream",
     "text": [
      "Epoch 54 | Val Loss: 0.4678 | Val Acc: 81.53%\n"
     ]
    },
    {
     "name": "stderr",
     "output_type": "stream",
     "text": [
      "Epoch 55/120: 100%|██████████| 507/507 [03:23<00:00,  2.49it/s, acc=73.2, loss=0.73]\n"
     ]
    },
    {
     "name": "stdout",
     "output_type": "stream",
     "text": [
      "Epoch 55 | Val Loss: 0.4815 | Val Acc: 81.13%\n"
     ]
    },
    {
     "name": "stderr",
     "output_type": "stream",
     "text": [
      "Epoch 56/120: 100%|██████████| 507/507 [03:23<00:00,  2.49it/s, acc=47.8, loss=1.64]\n"
     ]
    },
    {
     "name": "stdout",
     "output_type": "stream",
     "text": [
      "Epoch 56 | Val Loss: 0.6752 | Val Acc: 75.29%\n"
     ]
    },
    {
     "name": "stderr",
     "output_type": "stream",
     "text": [
      "Epoch 57/120: 100%|██████████| 507/507 [03:23<00:00,  2.49it/s, acc=78.8, loss=0.518]\n"
     ]
    },
    {
     "name": "stdout",
     "output_type": "stream",
     "text": [
      "Epoch 57 | Val Loss: 0.4556 | Val Acc: 82.06%\n"
     ]
    },
    {
     "name": "stderr",
     "output_type": "stream",
     "text": [
      "Epoch 58/120: 100%|██████████| 507/507 [03:24<00:00,  2.49it/s, acc=68.9, loss=0.806]\n"
     ]
    },
    {
     "name": "stdout",
     "output_type": "stream",
     "text": [
      "Epoch 58 | Val Loss: 0.4392 | Val Acc: 82.93%\n"
     ]
    },
    {
     "name": "stderr",
     "output_type": "stream",
     "text": [
      "Epoch 59/120: 100%|██████████| 507/507 [03:23<00:00,  2.49it/s, acc=74.7, loss=0.612]\n"
     ]
    },
    {
     "name": "stdout",
     "output_type": "stream",
     "text": [
      "Epoch 59 | Val Loss: 0.4481 | Val Acc: 82.34%\n"
     ]
    },
    {
     "name": "stderr",
     "output_type": "stream",
     "text": [
      "Epoch 60/120: 100%|██████████| 507/507 [03:23<00:00,  2.49it/s, acc=76.2, loss=0.656]\n"
     ]
    },
    {
     "name": "stdout",
     "output_type": "stream",
     "text": [
      "💾 Checkpoint disimpan: /content/drive/MyDrive/KoTA-309/APE/APE-Train-2/output/baseline_8x14d_run2/checkpoint/checkpoint_epoch_60.pth\n",
      "Epoch 60 | Val Loss: 0.4357 | Val Acc: 83.02%\n"
     ]
    },
    {
     "name": "stderr",
     "output_type": "stream",
     "text": [
      "Epoch 61/120: 100%|██████████| 507/507 [03:23<00:00,  2.49it/s, acc=78.7, loss=0.452]\n"
     ]
    },
    {
     "name": "stdout",
     "output_type": "stream",
     "text": [
      "Epoch 61 | Val Loss: 0.4571 | Val Acc: 82.41%\n"
     ]
    },
    {
     "name": "stderr",
     "output_type": "stream",
     "text": [
      "Epoch 62/120: 100%|██████████| 507/507 [03:23<00:00,  2.49it/s, acc=81.8, loss=0.487]\n"
     ]
    },
    {
     "name": "stdout",
     "output_type": "stream",
     "text": [
      "Epoch 62 | Val Loss: 0.4543 | Val Acc: 82.31%\n"
     ]
    },
    {
     "name": "stderr",
     "output_type": "stream",
     "text": [
      "Epoch 63/120: 100%|██████████| 507/507 [03:23<00:00,  2.49it/s, acc=77.9, loss=0.559]\n"
     ]
    },
    {
     "name": "stdout",
     "output_type": "stream",
     "text": [
      "Epoch 63 | Val Loss: 0.4613 | Val Acc: 82.25%\n"
     ]
    },
    {
     "name": "stderr",
     "output_type": "stream",
     "text": [
      "Epoch 64/120: 100%|██████████| 507/507 [03:23<00:00,  2.50it/s, acc=75, loss=0.698]\n"
     ]
    },
    {
     "name": "stdout",
     "output_type": "stream",
     "text": [
      "✅ Model disimpan (Val Loss: 0.4296)\n",
      "Epoch 64 | Val Loss: 0.4296 | Val Acc: 83.24%\n"
     ]
    },
    {
     "name": "stderr",
     "output_type": "stream",
     "text": [
      "Epoch 65/120: 100%|██████████| 507/507 [03:23<00:00,  2.50it/s, acc=77.7, loss=0.543]\n"
     ]
    },
    {
     "name": "stdout",
     "output_type": "stream",
     "text": [
      "Epoch 65 | Val Loss: 0.6118 | Val Acc: 77.18%\n"
     ]
    },
    {
     "name": "stderr",
     "output_type": "stream",
     "text": [
      "Epoch 66/120: 100%|██████████| 507/507 [03:22<00:00,  2.50it/s, acc=87.1, loss=0.364]\n"
     ]
    },
    {
     "name": "stdout",
     "output_type": "stream",
     "text": [
      "Epoch 66 | Val Loss: 0.4330 | Val Acc: 83.02%\n"
     ]
    },
    {
     "name": "stderr",
     "output_type": "stream",
     "text": [
      "Epoch 67/120: 100%|██████████| 507/507 [03:23<00:00,  2.50it/s, acc=80.3, loss=0.557]\n"
     ]
    },
    {
     "name": "stdout",
     "output_type": "stream",
     "text": [
      "Epoch 67 | Val Loss: 0.4499 | Val Acc: 82.61%\n"
     ]
    },
    {
     "name": "stderr",
     "output_type": "stream",
     "text": [
      "Epoch 68/120: 100%|██████████| 507/507 [03:22<00:00,  2.50it/s, acc=76.7, loss=0.603]\n"
     ]
    },
    {
     "name": "stdout",
     "output_type": "stream",
     "text": [
      "Epoch 68 | Val Loss: 0.4374 | Val Acc: 83.20%\n"
     ]
    },
    {
     "name": "stderr",
     "output_type": "stream",
     "text": [
      "Epoch 69/120: 100%|██████████| 507/507 [03:23<00:00,  2.50it/s, acc=85.3, loss=0.392]\n"
     ]
    },
    {
     "name": "stdout",
     "output_type": "stream",
     "text": [
      "Epoch 69 | Val Loss: 0.4390 | Val Acc: 83.03%\n"
     ]
    },
    {
     "name": "stderr",
     "output_type": "stream",
     "text": [
      "Epoch 70/120: 100%|██████████| 507/507 [03:22<00:00,  2.50it/s, acc=75.8, loss=0.593]\n"
     ]
    },
    {
     "name": "stdout",
     "output_type": "stream",
     "text": [
      "✅ Model disimpan (Val Loss: 0.4164)\n",
      "Epoch 70 | Val Loss: 0.4164 | Val Acc: 83.62%\n"
     ]
    },
    {
     "name": "stderr",
     "output_type": "stream",
     "text": [
      "Epoch 71/120: 100%|██████████| 507/507 [03:23<00:00,  2.50it/s, acc=78.1, loss=0.531]\n"
     ]
    },
    {
     "name": "stdout",
     "output_type": "stream",
     "text": [
      "Epoch 71 | Val Loss: 0.4288 | Val Acc: 83.37%\n"
     ]
    },
    {
     "name": "stderr",
     "output_type": "stream",
     "text": [
      "Epoch 72/120: 100%|██████████| 507/507 [03:23<00:00,  2.50it/s, acc=77.7, loss=0.611]\n"
     ]
    },
    {
     "name": "stdout",
     "output_type": "stream",
     "text": [
      "Epoch 72 | Val Loss: 0.4384 | Val Acc: 82.88%\n"
     ]
    },
    {
     "name": "stderr",
     "output_type": "stream",
     "text": [
      "Epoch 73/120: 100%|██████████| 507/507 [03:23<00:00,  2.50it/s, acc=71.8, loss=0.781]\n"
     ]
    },
    {
     "name": "stdout",
     "output_type": "stream",
     "text": [
      "Epoch 73 | Val Loss: 0.4402 | Val Acc: 82.66%\n"
     ]
    },
    {
     "name": "stderr",
     "output_type": "stream",
     "text": [
      "Epoch 74/120: 100%|██████████| 507/507 [03:22<00:00,  2.50it/s, acc=75.9, loss=0.554]\n"
     ]
    },
    {
     "name": "stdout",
     "output_type": "stream",
     "text": [
      "Epoch 74 | Val Loss: 0.4502 | Val Acc: 82.58%\n"
     ]
    },
    {
     "name": "stderr",
     "output_type": "stream",
     "text": [
      "Epoch 75/120: 100%|██████████| 507/507 [03:22<00:00,  2.50it/s, acc=83.2, loss=0.518]\n"
     ]
    },
    {
     "name": "stdout",
     "output_type": "stream",
     "text": [
      "Epoch 75 | Val Loss: 0.4792 | Val Acc: 81.61%\n"
     ]
    },
    {
     "name": "stderr",
     "output_type": "stream",
     "text": [
      "Epoch 76/120: 100%|██████████| 507/507 [03:23<00:00,  2.50it/s, acc=73.2, loss=0.638]\n"
     ]
    },
    {
     "name": "stdout",
     "output_type": "stream",
     "text": [
      "Epoch 76 | Val Loss: 0.5473 | Val Acc: 79.46%\n"
     ]
    },
    {
     "name": "stderr",
     "output_type": "stream",
     "text": [
      "Epoch 77/120: 100%|██████████| 507/507 [03:22<00:00,  2.50it/s, acc=87.2, loss=0.355]\n"
     ]
    },
    {
     "name": "stdout",
     "output_type": "stream",
     "text": [
      "Epoch 77 | Val Loss: 0.4378 | Val Acc: 83.12%\n"
     ]
    },
    {
     "name": "stderr",
     "output_type": "stream",
     "text": [
      "Epoch 78/120: 100%|██████████| 507/507 [03:22<00:00,  2.50it/s, acc=77.8, loss=0.545]\n"
     ]
    },
    {
     "name": "stdout",
     "output_type": "stream",
     "text": [
      "Epoch 78 | Val Loss: 0.4856 | Val Acc: 80.97%\n"
     ]
    },
    {
     "name": "stderr",
     "output_type": "stream",
     "text": [
      "Epoch 79/120: 100%|██████████| 507/507 [03:22<00:00,  2.50it/s, acc=57.8, loss=0.961]\n"
     ]
    },
    {
     "name": "stdout",
     "output_type": "stream",
     "text": [
      "Epoch 79 | Val Loss: 0.4581 | Val Acc: 82.08%\n"
     ]
    },
    {
     "name": "stderr",
     "output_type": "stream",
     "text": [
      "Epoch 80/120: 100%|██████████| 507/507 [03:22<00:00,  2.50it/s, acc=84.8, loss=0.423]\n"
     ]
    },
    {
     "name": "stdout",
     "output_type": "stream",
     "text": [
      "💾 Checkpoint disimpan: /content/drive/MyDrive/KoTA-309/APE/APE-Train-2/output/baseline_8x14d_run2/checkpoint/checkpoint_epoch_80.pth\n",
      "Epoch 80 | Val Loss: 0.4301 | Val Acc: 83.34%\n"
     ]
    },
    {
     "name": "stderr",
     "output_type": "stream",
     "text": [
      "Epoch 81/120: 100%|██████████| 507/507 [03:23<00:00,  2.50it/s, acc=60.7, loss=1.34]\n"
     ]
    },
    {
     "name": "stdout",
     "output_type": "stream",
     "text": [
      "Epoch 81 | Val Loss: 0.4469 | Val Acc: 82.53%\n"
     ]
    },
    {
     "name": "stderr",
     "output_type": "stream",
     "text": [
      "Epoch 82/120: 100%|██████████| 507/507 [03:22<00:00,  2.50it/s, acc=87.1, loss=0.401]\n"
     ]
    },
    {
     "name": "stdout",
     "output_type": "stream",
     "text": [
      "Epoch 82 | Val Loss: 0.4454 | Val Acc: 82.72%\n"
     ]
    },
    {
     "name": "stderr",
     "output_type": "stream",
     "text": [
      "Epoch 83/120: 100%|██████████| 507/507 [03:22<00:00,  2.50it/s, acc=85, loss=0.375]\n"
     ]
    },
    {
     "name": "stdout",
     "output_type": "stream",
     "text": [
      "Epoch 83 | Val Loss: 0.4648 | Val Acc: 82.00%\n"
     ]
    },
    {
     "name": "stderr",
     "output_type": "stream",
     "text": [
      "Epoch 84/120: 100%|██████████| 507/507 [03:23<00:00,  2.49it/s, acc=87.9, loss=0.401]\n"
     ]
    },
    {
     "name": "stdout",
     "output_type": "stream",
     "text": [
      "Epoch 84 | Val Loss: 0.4280 | Val Acc: 83.15%\n"
     ]
    },
    {
     "name": "stderr",
     "output_type": "stream",
     "text": [
      "Epoch 85/120: 100%|██████████| 507/507 [03:23<00:00,  2.50it/s, acc=67.4, loss=0.895]\n"
     ]
    },
    {
     "name": "stdout",
     "output_type": "stream",
     "text": [
      "Epoch 85 | Val Loss: 0.4583 | Val Acc: 82.55%\n"
     ]
    },
    {
     "name": "stderr",
     "output_type": "stream",
     "text": [
      "Epoch 86/120: 100%|██████████| 507/507 [03:22<00:00,  2.50it/s, acc=89.4, loss=0.351]\n"
     ]
    },
    {
     "name": "stdout",
     "output_type": "stream",
     "text": [
      "✅ Model disimpan (Val Loss: 0.4128)\n",
      "Epoch 86 | Val Loss: 0.4128 | Val Acc: 83.94%\n"
     ]
    },
    {
     "name": "stderr",
     "output_type": "stream",
     "text": [
      "Epoch 87/120: 100%|██████████| 507/507 [03:23<00:00,  2.50it/s, acc=76.2, loss=0.795]\n"
     ]
    },
    {
     "name": "stdout",
     "output_type": "stream",
     "text": [
      "Epoch 87 | Val Loss: 0.8082 | Val Acc: 73.30%\n"
     ]
    },
    {
     "name": "stderr",
     "output_type": "stream",
     "text": [
      "Epoch 88/120: 100%|██████████| 507/507 [03:22<00:00,  2.50it/s, acc=81, loss=0.476]\n"
     ]
    },
    {
     "name": "stdout",
     "output_type": "stream",
     "text": [
      "Epoch 88 | Val Loss: 0.4411 | Val Acc: 82.77%\n"
     ]
    },
    {
     "name": "stderr",
     "output_type": "stream",
     "text": [
      "Epoch 89/120: 100%|██████████| 507/507 [03:22<00:00,  2.50it/s, acc=77.4, loss=0.503]\n"
     ]
    },
    {
     "name": "stdout",
     "output_type": "stream",
     "text": [
      "Epoch 89 | Val Loss: 0.4747 | Val Acc: 81.58%\n"
     ]
    },
    {
     "name": "stderr",
     "output_type": "stream",
     "text": [
      "Epoch 90/120: 100%|██████████| 507/507 [03:22<00:00,  2.50it/s, acc=78.3, loss=0.55]\n"
     ]
    },
    {
     "name": "stdout",
     "output_type": "stream",
     "text": [
      "Epoch 90 | Val Loss: 0.4251 | Val Acc: 83.37%\n"
     ]
    },
    {
     "name": "stderr",
     "output_type": "stream",
     "text": [
      "Epoch 91/120: 100%|██████████| 507/507 [03:23<00:00,  2.49it/s, acc=88.9, loss=0.311]\n"
     ]
    },
    {
     "name": "stdout",
     "output_type": "stream",
     "text": [
      "Epoch 91 | Val Loss: 0.4429 | Val Acc: 82.78%\n"
     ]
    },
    {
     "name": "stderr",
     "output_type": "stream",
     "text": [
      "Epoch 92/120: 100%|██████████| 507/507 [03:22<00:00,  2.50it/s, acc=79.8, loss=0.491]\n"
     ]
    },
    {
     "name": "stdout",
     "output_type": "stream",
     "text": [
      "Epoch 92 | Val Loss: 0.4898 | Val Acc: 81.10%\n"
     ]
    },
    {
     "name": "stderr",
     "output_type": "stream",
     "text": [
      "Epoch 93/120: 100%|██████████| 507/507 [03:22<00:00,  2.50it/s, acc=90.7, loss=0.314]\n"
     ]
    },
    {
     "name": "stdout",
     "output_type": "stream",
     "text": [
      "Epoch 93 | Val Loss: 0.5106 | Val Acc: 80.54%\n"
     ]
    },
    {
     "name": "stderr",
     "output_type": "stream",
     "text": [
      "Epoch 94/120: 100%|██████████| 507/507 [03:22<00:00,  2.50it/s, acc=83.4, loss=0.418]\n"
     ]
    },
    {
     "name": "stdout",
     "output_type": "stream",
     "text": [
      "Epoch 94 | Val Loss: 0.4139 | Val Acc: 83.89%\n"
     ]
    },
    {
     "name": "stderr",
     "output_type": "stream",
     "text": [
      "Epoch 95/120: 100%|██████████| 507/507 [03:23<00:00,  2.50it/s, acc=88.3, loss=0.353]\n"
     ]
    },
    {
     "name": "stdout",
     "output_type": "stream",
     "text": [
      "Epoch 95 | Val Loss: 0.4212 | Val Acc: 83.73%\n"
     ]
    },
    {
     "name": "stderr",
     "output_type": "stream",
     "text": [
      "Epoch 96/120: 100%|██████████| 507/507 [03:22<00:00,  2.50it/s, acc=83, loss=0.398]\n"
     ]
    },
    {
     "name": "stdout",
     "output_type": "stream",
     "text": [
      "Epoch 96 | Val Loss: 0.4279 | Val Acc: 83.50%\n"
     ]
    },
    {
     "name": "stderr",
     "output_type": "stream",
     "text": [
      "Epoch 97/120: 100%|██████████| 507/507 [03:23<00:00,  2.50it/s, acc=82.1, loss=0.475]\n"
     ]
    },
    {
     "name": "stdout",
     "output_type": "stream",
     "text": [
      "Epoch 97 | Val Loss: 0.4507 | Val Acc: 82.88%\n"
     ]
    },
    {
     "name": "stderr",
     "output_type": "stream",
     "text": [
      "Epoch 98/120: 100%|██████████| 507/507 [03:22<00:00,  2.50it/s, acc=86.7, loss=0.357]\n"
     ]
    },
    {
     "name": "stdout",
     "output_type": "stream",
     "text": [
      "Epoch 98 | Val Loss: 0.4642 | Val Acc: 81.88%\n"
     ]
    },
    {
     "name": "stderr",
     "output_type": "stream",
     "text": [
      "Epoch 99/120: 100%|██████████| 507/507 [03:22<00:00,  2.50it/s, acc=87.1, loss=0.31]\n"
     ]
    },
    {
     "name": "stdout",
     "output_type": "stream",
     "text": [
      "Epoch 99 | Val Loss: 0.4230 | Val Acc: 83.93%\n"
     ]
    },
    {
     "name": "stderr",
     "output_type": "stream",
     "text": [
      "Epoch 100/120: 100%|██████████| 507/507 [03:23<00:00,  2.50it/s, acc=79.6, loss=0.604]\n"
     ]
    },
    {
     "name": "stdout",
     "output_type": "stream",
     "text": [
      "💾 Checkpoint disimpan: /content/drive/MyDrive/KoTA-309/APE/APE-Train-2/output/baseline_8x14d_run2/checkpoint/checkpoint_epoch_100.pth\n",
      "Epoch 100 | Val Loss: 0.4680 | Val Acc: 82.04%\n"
     ]
    },
    {
     "name": "stderr",
     "output_type": "stream",
     "text": [
      "Epoch 101/120: 100%|██████████| 507/507 [03:23<00:00,  2.50it/s, acc=74.8, loss=0.586]\n"
     ]
    },
    {
     "name": "stdout",
     "output_type": "stream",
     "text": [
      "✅ Model disimpan (Val Loss: 0.4110)\n",
      "Epoch 101 | Val Loss: 0.4110 | Val Acc: 83.92%\n"
     ]
    },
    {
     "name": "stderr",
     "output_type": "stream",
     "text": [
      "Epoch 102/120: 100%|██████████| 507/507 [03:23<00:00,  2.50it/s, acc=82.6, loss=0.386]\n"
     ]
    },
    {
     "name": "stdout",
     "output_type": "stream",
     "text": [
      "Epoch 102 | Val Loss: 0.4371 | Val Acc: 83.17%\n"
     ]
    },
    {
     "name": "stderr",
     "output_type": "stream",
     "text": [
      "Epoch 103/120: 100%|██████████| 507/507 [03:22<00:00,  2.50it/s, acc=85.3, loss=0.382]\n"
     ]
    },
    {
     "name": "stdout",
     "output_type": "stream",
     "text": [
      "Epoch 103 | Val Loss: 0.4445 | Val Acc: 83.06%\n"
     ]
    },
    {
     "name": "stderr",
     "output_type": "stream",
     "text": [
      "Epoch 104/120: 100%|██████████| 507/507 [03:22<00:00,  2.51it/s, acc=84.9, loss=0.37]\n"
     ]
    },
    {
     "name": "stdout",
     "output_type": "stream",
     "text": [
      "Epoch 104 | Val Loss: 0.4438 | Val Acc: 82.85%\n"
     ]
    },
    {
     "name": "stderr",
     "output_type": "stream",
     "text": [
      "Epoch 105/120: 100%|██████████| 507/507 [03:22<00:00,  2.50it/s, acc=82.2, loss=0.455]\n"
     ]
    },
    {
     "name": "stdout",
     "output_type": "stream",
     "text": [
      "Epoch 105 | Val Loss: 0.4240 | Val Acc: 83.53%\n"
     ]
    },
    {
     "name": "stderr",
     "output_type": "stream",
     "text": [
      "Epoch 106/120: 100%|██████████| 507/507 [03:22<00:00,  2.50it/s, acc=86.2, loss=0.398]\n"
     ]
    },
    {
     "name": "stdout",
     "output_type": "stream",
     "text": [
      "Epoch 106 | Val Loss: 0.4272 | Val Acc: 83.68%\n"
     ]
    },
    {
     "name": "stderr",
     "output_type": "stream",
     "text": [
      "Epoch 107/120: 100%|██████████| 507/507 [03:22<00:00,  2.50it/s, acc=82.1, loss=0.457]\n"
     ]
    },
    {
     "name": "stdout",
     "output_type": "stream",
     "text": [
      "Epoch 107 | Val Loss: 0.4352 | Val Acc: 83.53%\n"
     ]
    },
    {
     "name": "stderr",
     "output_type": "stream",
     "text": [
      "Epoch 108/120: 100%|██████████| 507/507 [03:22<00:00,  2.50it/s, acc=86.6, loss=0.367]\n"
     ]
    },
    {
     "name": "stdout",
     "output_type": "stream",
     "text": [
      "✅ Model disimpan (Val Loss: 0.4100)\n",
      "Epoch 108 | Val Loss: 0.4100 | Val Acc: 83.97%\n"
     ]
    },
    {
     "name": "stderr",
     "output_type": "stream",
     "text": [
      "Epoch 109/120: 100%|██████████| 507/507 [03:23<00:00,  2.49it/s, acc=86.2, loss=0.358]\n"
     ]
    },
    {
     "name": "stdout",
     "output_type": "stream",
     "text": [
      "Epoch 109 | Val Loss: 0.4343 | Val Acc: 83.17%\n"
     ]
    },
    {
     "name": "stderr",
     "output_type": "stream",
     "text": [
      "Epoch 110/120: 100%|██████████| 507/507 [03:22<00:00,  2.50it/s, acc=77.2, loss=0.526]\n"
     ]
    },
    {
     "name": "stdout",
     "output_type": "stream",
     "text": [
      "Epoch 110 | Val Loss: 0.4181 | Val Acc: 83.64%\n"
     ]
    },
    {
     "name": "stderr",
     "output_type": "stream",
     "text": [
      "Epoch 111/120: 100%|██████████| 507/507 [03:23<00:00,  2.49it/s, acc=77.9, loss=0.554]\n"
     ]
    },
    {
     "name": "stdout",
     "output_type": "stream",
     "text": [
      "Epoch 111 | Val Loss: 0.4886 | Val Acc: 81.84%\n"
     ]
    },
    {
     "name": "stderr",
     "output_type": "stream",
     "text": [
      "Epoch 112/120: 100%|██████████| 507/507 [03:23<00:00,  2.49it/s, acc=85.7, loss=0.386]\n"
     ]
    },
    {
     "name": "stdout",
     "output_type": "stream",
     "text": [
      "Epoch 112 | Val Loss: 0.4217 | Val Acc: 83.45%\n"
     ]
    },
    {
     "name": "stderr",
     "output_type": "stream",
     "text": [
      "Epoch 113/120: 100%|██████████| 507/507 [03:22<00:00,  2.51it/s, acc=59.8, loss=1.08]\n"
     ]
    },
    {
     "name": "stdout",
     "output_type": "stream",
     "text": [
      "Epoch 113 | Val Loss: 0.4895 | Val Acc: 81.20%\n"
     ]
    },
    {
     "name": "stderr",
     "output_type": "stream",
     "text": [
      "Epoch 114/120: 100%|██████████| 507/507 [03:22<00:00,  2.50it/s, acc=76.5, loss=0.534]\n"
     ]
    },
    {
     "name": "stdout",
     "output_type": "stream",
     "text": [
      "Epoch 114 | Val Loss: 0.4231 | Val Acc: 83.49%\n"
     ]
    },
    {
     "name": "stderr",
     "output_type": "stream",
     "text": [
      "Epoch 115/120: 100%|██████████| 507/507 [03:22<00:00,  2.50it/s, acc=75.2, loss=0.547]\n"
     ]
    },
    {
     "name": "stdout",
     "output_type": "stream",
     "text": [
      "✅ Model disimpan (Val Loss: 0.3981)\n",
      "Epoch 115 | Val Loss: 0.3981 | Val Acc: 84.59%\n"
     ]
    },
    {
     "name": "stderr",
     "output_type": "stream",
     "text": [
      "Epoch 116/120: 100%|██████████| 507/507 [03:22<00:00,  2.50it/s, acc=79.5, loss=0.483]\n"
     ]
    },
    {
     "name": "stdout",
     "output_type": "stream",
     "text": [
      "Epoch 116 | Val Loss: 0.4236 | Val Acc: 83.71%\n"
     ]
    },
    {
     "name": "stderr",
     "output_type": "stream",
     "text": [
      "Epoch 117/120: 100%|██████████| 507/507 [03:22<00:00,  2.50it/s, acc=68.6, loss=0.741]\n"
     ]
    },
    {
     "name": "stdout",
     "output_type": "stream",
     "text": [
      "Epoch 117 | Val Loss: 0.4327 | Val Acc: 83.44%\n"
     ]
    },
    {
     "name": "stderr",
     "output_type": "stream",
     "text": [
      "Epoch 118/120: 100%|██████████| 507/507 [03:22<00:00,  2.50it/s, acc=79.4, loss=0.56]\n"
     ]
    },
    {
     "name": "stdout",
     "output_type": "stream",
     "text": [
      "Epoch 118 | Val Loss: 0.4125 | Val Acc: 83.94%\n"
     ]
    },
    {
     "name": "stderr",
     "output_type": "stream",
     "text": [
      "Epoch 119/120: 100%|██████████| 507/507 [03:22<00:00,  2.51it/s, acc=85.5, loss=0.398]\n"
     ]
    },
    {
     "name": "stdout",
     "output_type": "stream",
     "text": [
      "Epoch 119 | Val Loss: 0.4412 | Val Acc: 83.36%\n"
     ]
    },
    {
     "name": "stderr",
     "output_type": "stream",
     "text": [
      "Epoch 120/120: 100%|██████████| 507/507 [03:22<00:00,  2.51it/s, acc=79.3, loss=0.517]\n"
     ]
    },
    {
     "name": "stdout",
     "output_type": "stream",
     "text": [
      "💾 Checkpoint disimpan: /content/drive/MyDrive/KoTA-309/APE/APE-Train-2/output/baseline_8x14d_run2/checkpoint/checkpoint_epoch_120.pth\n",
      "Epoch 120 | Val Loss: 0.4187 | Val Acc: 83.97%\n",
      "\n",
      "📄 Log training disimpan di: /content/drive/MyDrive/KoTA-309/APE/APE-Train-2/output/baseline_8x14d_run2/logs/training_log_20250622_144401.txt\n",
      "📦 Model terakhir disimpan di: /content/drive/MyDrive/KoTA-309/APE/APE-Train-2/output/baseline_8x14d_run2/last_model/unet_skresnext50_baseline_last.pt\n"
     ]
    }
   ],
   "source": [
    "best_val_loss = float('inf')\n",
    "\n",
    "for epoch in range(num_epochs):\n",
    "    model.train()\n",
    "    epoch_loss = 0\n",
    "    epoch_acc = 0\n",
    "\n",
    "    train_pbar = tqdm(train_loader, desc=f\"Epoch {epoch+1}/{num_epochs}\", leave=True)\n",
    "\n",
    "    for images, masks in train_pbar:\n",
    "        images, masks = images.to(device), masks.to(device)\n",
    "\n",
    "        outputs = model(images)\n",
    "        loss = criterion(outputs, masks)\n",
    "\n",
    "        optimizer.zero_grad()\n",
    "        loss.backward()\n",
    "        torch.nn.utils.clip_grad_norm_(model.parameters(), max_norm=1.0)\n",
    "        optimizer.step()\n",
    "\n",
    "        acc = pixel_accuracy(outputs, masks)\n",
    "        epoch_loss += loss.item()\n",
    "        epoch_acc += acc\n",
    "\n",
    "        train_pbar.set_postfix(loss=loss.item(), acc=acc)\n",
    "        log_lines.append(f\"Epoch {epoch+1} | Loss: {loss.item():.4f}, Acc: {acc:.2f}%\")\n",
    "\n",
    "    val_loss, val_acc = evaluate(model, val_loader, device, criterion)\n",
    "\n",
    "    train_losses.append(epoch_loss / len(train_loader))\n",
    "    train_accuracies.append(epoch_acc / len(train_loader))\n",
    "    val_losses.append(val_loss)\n",
    "    val_accuracies.append(val_acc)\n",
    "\n",
    "    with open(csv_path, mode='w', newline='') as file:\n",
    "        writer = csv.writer(file)\n",
    "        writer.writerow([\"Epoch\", \"Train Loss\", \"Train Accuracy\", \"Val Loss\", \"Val Accuracy\"])\n",
    "        for i in range(len(train_losses)):\n",
    "            writer.writerow([\n",
    "                i + 1,\n",
    "                train_losses[i],\n",
    "                train_accuracies[i],\n",
    "                val_losses[i],\n",
    "                val_accuracies[i]\n",
    "            ])\n",
    "\n",
    "    if val_loss < best_val_loss:\n",
    "        best_val_loss = val_loss\n",
    "        torch.save(model.state_dict(), best_model_path)\n",
    "        print(f\"✅ Model disimpan (Val Loss: {val_loss:.4f})\")\n",
    "        log_lines.append(f\"✅ Model disimpan (Val Loss: {val_loss:.4f}) [Epoch {epoch+1}]\")\n",
    "\n",
    "    if (epoch + 1) % 20 == 0:\n",
    "        checkpoint_path = os.path.join(checkpoint_dir, f\"checkpoint_epoch_{epoch+1}.pth\")\n",
    "        torch.save({\n",
    "            'epoch': epoch + 1,\n",
    "            'model_state_dict': model.state_dict(),\n",
    "            'optimizer_state_dict': optimizer.state_dict(),\n",
    "            'loss': val_loss,\n",
    "            'best_val_loss': best_val_loss\n",
    "        }, checkpoint_path)\n",
    "        print(f\"💾 Checkpoint disimpan: {checkpoint_path}\")\n",
    "        log_lines.append(f\"💾 Checkpoint disimpan: {checkpoint_path}\")\n",
    "\n",
    "    log_line = f\"Epoch {epoch+1} | Val Loss: {val_loss:.4f} | Val Acc: {val_acc:.2f}%\"\n",
    "    print(log_line)\n",
    "    log_lines.append(log_line)\n",
    "\n",
    "with open(log_path, \"w\") as f:\n",
    "    f.write(\"\\n\".join(log_lines))\n",
    "print(f\"\\n📄 Log training disimpan di: {log_path}\")\n",
    "\n",
    "torch.save(model.state_dict(), last_model_path)\n",
    "print(f\"📦 Model terakhir disimpan di: {last_model_path}\")"
   ]
  },
  {
   "cell_type": "code",
   "execution_count": null,
   "metadata": {
    "colab": {
     "base_uri": "https://localhost:8080/"
    },
    "executionInfo": {
     "elapsed": 9918125,
     "status": "ok",
     "timestamp": 1750293797531,
     "user": {
      "displayName": "Bimbingan TG 2025",
      "userId": "17786358260686151756"
     },
     "user_tz": -420
    },
    "id": "UajjpprZQByZ",
    "outputId": "bc10819c-a5c5-4bec-b15d-6e27b161f0c0"
   },
   "outputs": [
    {
     "name": "stdout",
     "output_type": "stream",
     "text": [
      "🔄 Melanjutkan training dari checkpoint: /content/drive/MyDrive/KoTA-309/APE/APE-Train-2/output/baseline_32x4d_run2/checkpoint/checkpoint_epoch_80.pth\n"
     ]
    },
    {
     "name": "stderr",
     "output_type": "stream",
     "text": [
      "Epoch 81/120: 100%|██████████| 507/507 [03:43<00:00,  2.27it/s, acc=83.1, loss=0.491]\n"
     ]
    },
    {
     "name": "stdout",
     "output_type": "stream",
     "text": [
      "✅ Best model updated at epoch 81\n",
      "Epoch 81 | Train Loss: 198.2319, Acc: 84.78% | Val Loss: 0.4173, Acc: 83.73%\n"
     ]
    },
    {
     "name": "stderr",
     "output_type": "stream",
     "text": [
      "Epoch 82/120: 100%|██████████| 507/507 [03:43<00:00,  2.27it/s, acc=91.1, loss=0.271]\n"
     ]
    },
    {
     "name": "stdout",
     "output_type": "stream",
     "text": [
      "Epoch 82 | Train Loss: 201.1796, Acc: 84.58% | Val Loss: 0.4370, Acc: 83.20%\n"
     ]
    },
    {
     "name": "stderr",
     "output_type": "stream",
     "text": [
      "Epoch 83/120: 100%|██████████| 507/507 [03:43<00:00,  2.27it/s, acc=78.1, loss=0.507]\n"
     ]
    },
    {
     "name": "stdout",
     "output_type": "stream",
     "text": [
      "✅ Best model updated at epoch 83\n",
      "Epoch 83 | Train Loss: 198.3701, Acc: 84.76% | Val Loss: 0.4070, Acc: 84.03%\n"
     ]
    },
    {
     "name": "stderr",
     "output_type": "stream",
     "text": [
      "Epoch 84/120: 100%|██████████| 507/507 [03:43<00:00,  2.27it/s, acc=86.4, loss=0.356]\n"
     ]
    },
    {
     "name": "stdout",
     "output_type": "stream",
     "text": [
      "Epoch 84 | Train Loss: 198.5102, Acc: 84.79% | Val Loss: 0.4181, Acc: 83.81%\n"
     ]
    },
    {
     "name": "stderr",
     "output_type": "stream",
     "text": [
      "Epoch 85/120: 100%|██████████| 507/507 [03:43<00:00,  2.27it/s, acc=78.7, loss=0.516]\n"
     ]
    },
    {
     "name": "stdout",
     "output_type": "stream",
     "text": [
      "Epoch 85 | Train Loss: 196.8347, Acc: 84.84% | Val Loss: 0.4270, Acc: 83.15%\n"
     ]
    },
    {
     "name": "stderr",
     "output_type": "stream",
     "text": [
      "Epoch 86/120: 100%|██████████| 507/507 [03:42<00:00,  2.28it/s, acc=76.8, loss=0.565]\n"
     ]
    },
    {
     "name": "stdout",
     "output_type": "stream",
     "text": [
      "Epoch 86 | Train Loss: 196.4968, Acc: 84.94% | Val Loss: 0.4255, Acc: 83.42%\n"
     ]
    },
    {
     "name": "stderr",
     "output_type": "stream",
     "text": [
      "Epoch 87/120: 100%|██████████| 507/507 [03:42<00:00,  2.28it/s, acc=87.5, loss=0.373]\n"
     ]
    },
    {
     "name": "stdout",
     "output_type": "stream",
     "text": [
      "Epoch 87 | Train Loss: 198.1721, Acc: 84.77% | Val Loss: 0.4691, Acc: 81.93%\n"
     ]
    },
    {
     "name": "stderr",
     "output_type": "stream",
     "text": [
      "Epoch 88/120: 100%|██████████| 507/507 [03:42<00:00,  2.28it/s, acc=77.9, loss=0.442]\n"
     ]
    },
    {
     "name": "stdout",
     "output_type": "stream",
     "text": [
      "Epoch 88 | Train Loss: 201.3830, Acc: 84.63% | Val Loss: 0.4489, Acc: 82.87%\n"
     ]
    },
    {
     "name": "stderr",
     "output_type": "stream",
     "text": [
      "Epoch 89/120: 100%|██████████| 507/507 [03:42<00:00,  2.28it/s, acc=65.9, loss=0.755]\n"
     ]
    },
    {
     "name": "stdout",
     "output_type": "stream",
     "text": [
      "Epoch 89 | Train Loss: 196.2672, Acc: 84.88% | Val Loss: 0.4554, Acc: 82.26%\n"
     ]
    },
    {
     "name": "stderr",
     "output_type": "stream",
     "text": [
      "Epoch 90/120: 100%|██████████| 507/507 [03:42<00:00,  2.28it/s, acc=85.5, loss=0.419]\n"
     ]
    },
    {
     "name": "stdout",
     "output_type": "stream",
     "text": [
      "Epoch 90 | Train Loss: 197.2522, Acc: 84.89% | Val Loss: 0.7216, Acc: 74.14%\n"
     ]
    },
    {
     "name": "stderr",
     "output_type": "stream",
     "text": [
      "Epoch 91/120: 100%|██████████| 507/507 [03:42<00:00,  2.28it/s, acc=89.8, loss=0.301]\n"
     ]
    },
    {
     "name": "stdout",
     "output_type": "stream",
     "text": [
      "Epoch 91 | Train Loss: 194.4148, Acc: 85.08% | Val Loss: 0.4083, Acc: 84.14%\n"
     ]
    },
    {
     "name": "stderr",
     "output_type": "stream",
     "text": [
      "Epoch 92/120: 100%|██████████| 507/507 [03:43<00:00,  2.27it/s, acc=60.1, loss=1.12]\n"
     ]
    },
    {
     "name": "stdout",
     "output_type": "stream",
     "text": [
      "Epoch 92 | Train Loss: 195.3510, Acc: 85.03% | Val Loss: 0.4092, Acc: 84.04%\n"
     ]
    },
    {
     "name": "stderr",
     "output_type": "stream",
     "text": [
      "Epoch 93/120: 100%|██████████| 507/507 [03:43<00:00,  2.27it/s, acc=51.6, loss=1.03]\n"
     ]
    },
    {
     "name": "stdout",
     "output_type": "stream",
     "text": [
      "Epoch 93 | Train Loss: 197.5179, Acc: 84.81% | Val Loss: 0.4474, Acc: 82.91%\n"
     ]
    },
    {
     "name": "stderr",
     "output_type": "stream",
     "text": [
      "Epoch 94/120: 100%|██████████| 507/507 [03:43<00:00,  2.27it/s, acc=77.6, loss=0.535]\n"
     ]
    },
    {
     "name": "stdout",
     "output_type": "stream",
     "text": [
      "Epoch 94 | Train Loss: 194.8820, Acc: 85.02% | Val Loss: 0.4482, Acc: 82.78%\n"
     ]
    },
    {
     "name": "stderr",
     "output_type": "stream",
     "text": [
      "Epoch 95/120: 100%|██████████| 507/507 [03:43<00:00,  2.27it/s, acc=82.6, loss=0.454]\n"
     ]
    },
    {
     "name": "stdout",
     "output_type": "stream",
     "text": [
      "Epoch 95 | Train Loss: 194.5172, Acc: 85.06% | Val Loss: 0.4252, Acc: 83.57%\n"
     ]
    },
    {
     "name": "stderr",
     "output_type": "stream",
     "text": [
      "Epoch 96/120: 100%|██████████| 507/507 [03:44<00:00,  2.26it/s, acc=87, loss=0.394]\n"
     ]
    },
    {
     "name": "stdout",
     "output_type": "stream",
     "text": [
      "Epoch 96 | Train Loss: 195.4446, Acc: 84.97% | Val Loss: 0.4222, Acc: 83.49%\n"
     ]
    },
    {
     "name": "stderr",
     "output_type": "stream",
     "text": [
      "Epoch 97/120: 100%|██████████| 507/507 [03:44<00:00,  2.26it/s, acc=78.5, loss=0.512]\n"
     ]
    },
    {
     "name": "stdout",
     "output_type": "stream",
     "text": [
      "✅ Best model updated at epoch 97\n",
      "Epoch 97 | Train Loss: 192.4832, Acc: 85.23% | Val Loss: 0.4000, Acc: 84.43%\n"
     ]
    },
    {
     "name": "stderr",
     "output_type": "stream",
     "text": [
      "Epoch 98/120: 100%|██████████| 507/507 [03:44<00:00,  2.26it/s, acc=82.5, loss=0.399]\n"
     ]
    },
    {
     "name": "stdout",
     "output_type": "stream",
     "text": [
      "Epoch 98 | Train Loss: 193.2153, Acc: 85.12% | Val Loss: 0.4623, Acc: 82.19%\n"
     ]
    },
    {
     "name": "stderr",
     "output_type": "stream",
     "text": [
      "Epoch 99/120: 100%|██████████| 507/507 [03:43<00:00,  2.27it/s, acc=76.6, loss=0.61]\n"
     ]
    },
    {
     "name": "stdout",
     "output_type": "stream",
     "text": [
      "Epoch 99 | Train Loss: 191.4321, Acc: 85.28% | Val Loss: 0.4143, Acc: 83.93%\n"
     ]
    },
    {
     "name": "stderr",
     "output_type": "stream",
     "text": [
      "Epoch 100/120: 100%|██████████| 507/507 [03:42<00:00,  2.28it/s, acc=74, loss=0.744]\n"
     ]
    },
    {
     "name": "stdout",
     "output_type": "stream",
     "text": [
      "💾 Checkpoint disimpan: /content/drive/MyDrive/KoTA-309/APE/APE-Train-2/output/baseline_32x4d_run2/checkpoint/checkpoint_epoch_100.pt\n",
      "Epoch 100 | Train Loss: 190.9929, Acc: 85.30% | Val Loss: 0.4168, Acc: 83.57%\n"
     ]
    },
    {
     "name": "stderr",
     "output_type": "stream",
     "text": [
      "Epoch 101/120: 100%|██████████| 507/507 [03:42<00:00,  2.28it/s, acc=75.7, loss=0.647]\n"
     ]
    },
    {
     "name": "stdout",
     "output_type": "stream",
     "text": [
      "Epoch 101 | Train Loss: 189.9422, Acc: 85.38% | Val Loss: 0.4238, Acc: 83.71%\n"
     ]
    },
    {
     "name": "stderr",
     "output_type": "stream",
     "text": [
      "Epoch 102/120: 100%|██████████| 507/507 [03:42<00:00,  2.28it/s, acc=76.8, loss=0.733]\n"
     ]
    },
    {
     "name": "stdout",
     "output_type": "stream",
     "text": [
      "Epoch 102 | Train Loss: 189.6004, Acc: 85.43% | Val Loss: 0.4420, Acc: 82.77%\n"
     ]
    },
    {
     "name": "stderr",
     "output_type": "stream",
     "text": [
      "Epoch 103/120: 100%|██████████| 507/507 [03:42<00:00,  2.28it/s, acc=88.8, loss=0.351]\n"
     ]
    },
    {
     "name": "stdout",
     "output_type": "stream",
     "text": [
      "✅ Best model updated at epoch 103\n",
      "Epoch 103 | Train Loss: 193.4405, Acc: 85.20% | Val Loss: 0.3944, Acc: 84.64%\n"
     ]
    },
    {
     "name": "stderr",
     "output_type": "stream",
     "text": [
      "Epoch 104/120: 100%|██████████| 507/507 [03:42<00:00,  2.28it/s, acc=86.2, loss=0.422]\n"
     ]
    },
    {
     "name": "stdout",
     "output_type": "stream",
     "text": [
      "Epoch 104 | Train Loss: 190.2577, Acc: 85.40% | Val Loss: 0.4116, Acc: 83.89%\n"
     ]
    },
    {
     "name": "stderr",
     "output_type": "stream",
     "text": [
      "Epoch 105/120: 100%|██████████| 507/507 [03:42<00:00,  2.28it/s, acc=80.7, loss=0.528]\n"
     ]
    },
    {
     "name": "stdout",
     "output_type": "stream",
     "text": [
      "Epoch 105 | Train Loss: 189.6654, Acc: 85.36% | Val Loss: 0.4180, Acc: 83.86%\n"
     ]
    },
    {
     "name": "stderr",
     "output_type": "stream",
     "text": [
      "Epoch 106/120: 100%|██████████| 507/507 [03:42<00:00,  2.27it/s, acc=61.1, loss=0.69]\n"
     ]
    },
    {
     "name": "stdout",
     "output_type": "stream",
     "text": [
      "Epoch 106 | Train Loss: 189.7770, Acc: 85.37% | Val Loss: 0.4309, Acc: 83.34%\n"
     ]
    },
    {
     "name": "stderr",
     "output_type": "stream",
     "text": [
      "Epoch 107/120: 100%|██████████| 507/507 [03:42<00:00,  2.28it/s, acc=73.5, loss=0.687]\n"
     ]
    },
    {
     "name": "stdout",
     "output_type": "stream",
     "text": [
      "Epoch 107 | Train Loss: 192.2653, Acc: 85.26% | Val Loss: 0.4178, Acc: 83.74%\n"
     ]
    },
    {
     "name": "stderr",
     "output_type": "stream",
     "text": [
      "Epoch 108/120: 100%|██████████| 507/507 [03:42<00:00,  2.28it/s, acc=87.9, loss=0.326]\n"
     ]
    },
    {
     "name": "stdout",
     "output_type": "stream",
     "text": [
      "Epoch 108 | Train Loss: 191.7924, Acc: 85.29% | Val Loss: 0.4085, Acc: 83.89%\n"
     ]
    },
    {
     "name": "stderr",
     "output_type": "stream",
     "text": [
      "Epoch 109/120: 100%|██████████| 507/507 [03:42<00:00,  2.28it/s, acc=80.4, loss=0.505]\n"
     ]
    },
    {
     "name": "stdout",
     "output_type": "stream",
     "text": [
      "Epoch 109 | Train Loss: 188.8096, Acc: 85.48% | Val Loss: 0.4288, Acc: 83.29%\n"
     ]
    },
    {
     "name": "stderr",
     "output_type": "stream",
     "text": [
      "Epoch 110/120: 100%|██████████| 507/507 [03:42<00:00,  2.28it/s, acc=83.7, loss=0.466]\n"
     ]
    },
    {
     "name": "stdout",
     "output_type": "stream",
     "text": [
      "Epoch 110 | Train Loss: 190.1241, Acc: 85.36% | Val Loss: 0.4192, Acc: 83.70%\n"
     ]
    },
    {
     "name": "stderr",
     "output_type": "stream",
     "text": [
      "Epoch 111/120: 100%|██████████| 507/507 [03:42<00:00,  2.28it/s, acc=70, loss=0.632]\n"
     ]
    },
    {
     "name": "stdout",
     "output_type": "stream",
     "text": [
      "Epoch 111 | Train Loss: 187.6943, Acc: 85.55% | Val Loss: 0.4078, Acc: 83.86%\n"
     ]
    },
    {
     "name": "stderr",
     "output_type": "stream",
     "text": [
      "Epoch 112/120: 100%|██████████| 507/507 [03:42<00:00,  2.28it/s, acc=89.1, loss=0.321]\n"
     ]
    },
    {
     "name": "stdout",
     "output_type": "stream",
     "text": [
      "Epoch 112 | Train Loss: 187.3490, Acc: 85.61% | Val Loss: 0.4274, Acc: 83.56%\n"
     ]
    },
    {
     "name": "stderr",
     "output_type": "stream",
     "text": [
      "Epoch 113/120: 100%|██████████| 507/507 [03:42<00:00,  2.28it/s, acc=84, loss=0.426]\n"
     ]
    },
    {
     "name": "stdout",
     "output_type": "stream",
     "text": [
      "Epoch 113 | Train Loss: 185.9281, Acc: 85.67% | Val Loss: 0.4003, Acc: 84.43%\n"
     ]
    },
    {
     "name": "stderr",
     "output_type": "stream",
     "text": [
      "Epoch 114/120: 100%|██████████| 507/507 [03:43<00:00,  2.27it/s, acc=81.4, loss=0.465]\n"
     ]
    },
    {
     "name": "stdout",
     "output_type": "stream",
     "text": [
      "Epoch 114 | Train Loss: 186.8926, Acc: 85.61% | Val Loss: 0.4282, Acc: 83.35%\n"
     ]
    },
    {
     "name": "stderr",
     "output_type": "stream",
     "text": [
      "Epoch 115/120: 100%|██████████| 507/507 [03:42<00:00,  2.28it/s, acc=80.6, loss=0.559]\n"
     ]
    },
    {
     "name": "stdout",
     "output_type": "stream",
     "text": [
      "Epoch 115 | Train Loss: 188.5484, Acc: 85.51% | Val Loss: 0.4402, Acc: 83.08%\n"
     ]
    },
    {
     "name": "stderr",
     "output_type": "stream",
     "text": [
      "Epoch 116/120: 100%|██████████| 507/507 [03:42<00:00,  2.28it/s, acc=64.1, loss=0.925]\n"
     ]
    },
    {
     "name": "stdout",
     "output_type": "stream",
     "text": [
      "Epoch 116 | Train Loss: 185.8322, Acc: 85.68% | Val Loss: 0.4177, Acc: 83.94%\n"
     ]
    },
    {
     "name": "stderr",
     "output_type": "stream",
     "text": [
      "Epoch 117/120: 100%|██████████| 507/507 [03:42<00:00,  2.27it/s, acc=65.4, loss=0.867]\n"
     ]
    },
    {
     "name": "stdout",
     "output_type": "stream",
     "text": [
      "Epoch 117 | Train Loss: 187.3140, Acc: 85.57% | Val Loss: 0.4391, Acc: 83.27%\n"
     ]
    },
    {
     "name": "stderr",
     "output_type": "stream",
     "text": [
      "Epoch 118/120: 100%|██████████| 507/507 [03:42<00:00,  2.27it/s, acc=83.8, loss=0.455]\n"
     ]
    },
    {
     "name": "stdout",
     "output_type": "stream",
     "text": [
      "Epoch 118 | Train Loss: 187.2087, Acc: 85.62% | Val Loss: 0.4079, Acc: 84.29%\n"
     ]
    },
    {
     "name": "stderr",
     "output_type": "stream",
     "text": [
      "Epoch 119/120: 100%|██████████| 507/507 [03:44<00:00,  2.26it/s, acc=88.7, loss=0.36]\n"
     ]
    },
    {
     "name": "stdout",
     "output_type": "stream",
     "text": [
      "Epoch 119 | Train Loss: 186.9350, Acc: 85.66% | Val Loss: 0.4219, Acc: 83.73%\n"
     ]
    },
    {
     "name": "stderr",
     "output_type": "stream",
     "text": [
      "Epoch 120/120: 100%|██████████| 507/507 [03:44<00:00,  2.26it/s, acc=65.3, loss=0.85]\n"
     ]
    },
    {
     "name": "stdout",
     "output_type": "stream",
     "text": [
      "💾 Checkpoint disimpan: /content/drive/MyDrive/KoTA-309/APE/APE-Train-2/output/baseline_32x4d_run2/checkpoint/checkpoint_epoch_120.pt\n",
      "Epoch 120 | Train Loss: 185.6096, Acc: 85.69% | Val Loss: 0.4248, Acc: 83.31%\n",
      "📦 Model terakhir disimpan: /content/drive/MyDrive/KoTA-309/APE/APE-Train-2/output/baseline_32x4d_run2/last_model/unet_skresnext50_baseline_last.pt\n",
      "📝 Log disimpan: /content/drive/MyDrive/KoTA-309/APE/APE-Train-2/output/baseline_32x4d_run2/logs/training_log_20250618_215759.txt\n"
     ]
    }
   ],
   "source": [
    "latest_checkpoint_path = get_latest_checkpoint(checkpoint_dir)\n",
    "best_val_loss = float('inf')\n",
    "start_epoch = 0\n",
    "\n",
    "if latest_checkpoint_path:\n",
    "    print(f\"🔄 Melanjutkan training dari checkpoint: {latest_checkpoint_path}\")\n",
    "    checkpoint = torch.load(latest_checkpoint_path, map_location=device)\n",
    "    model.load_state_dict(checkpoint['model_state_dict'])\n",
    "    optimizer.load_state_dict(checkpoint['optimizer_state_dict'])\n",
    "    start_epoch = checkpoint['epoch']\n",
    "    best_val_loss = checkpoint.get('best_val_loss', float('inf'))\n",
    "\n",
    "for epoch in range(start_epoch, num_epochs):\n",
    "    model.train()\n",
    "    epoch_loss, epoch_acc = 0.0, 0.0\n",
    "    pbar = tqdm(train_loader, desc=f\"Epoch {epoch+1}/{num_epochs}\", leave=True)\n",
    "\n",
    "    for images, masks in pbar:\n",
    "        images, masks = images.to(device), masks.to(device)\n",
    "        outputs = model(images)\n",
    "        loss = criterion(outputs, masks)\n",
    "\n",
    "        optimizer.zero_grad()\n",
    "        loss.backward()\n",
    "        torch.nn.utils.clip_grad_norm_(model.parameters(), max_norm=1.0)\n",
    "        optimizer.step()\n",
    "\n",
    "        acc = pixel_accuracy(outputs, masks)\n",
    "        epoch_loss += loss.item()\n",
    "        epoch_acc += acc\n",
    "\n",
    "        pbar.set_postfix(loss=loss.item(), acc=acc)\n",
    "\n",
    "    # === Validasi ===\n",
    "    val_loss, val_acc = evaluate(model, val_loader, device, criterion)  # Asumsinya juga % dari evaluate()\n",
    "\n",
    "    # === Simpan history ke list ===\n",
    "    train_losses.append(epoch_loss / len(train_loader))\n",
    "    train_accuracies.append(epoch_acc / len(train_loader))\n",
    "    val_losses.append(val_loss)\n",
    "    val_accuracies.append(val_acc)\n",
    "\n",
    "    # === Simpan ke CSV ===\n",
    "    with open(csv_path_resume, mode='w', newline='') as file:\n",
    "        writer = csv.writer(file)\n",
    "        writer.writerow([\"Epoch\", \"Train Loss\", \"Train Accuracy (%)\", \"Val Loss\", \"Val Accuracy (%)\"])\n",
    "        for i in range(len(train_losses)):\n",
    "            writer.writerow([\n",
    "                start_epoch + i + 1,\n",
    "                train_losses[i],\n",
    "                train_accuracies[i],\n",
    "                val_losses[i],\n",
    "                val_accuracies[i]\n",
    "            ])\n",
    "\n",
    "    # === Simpan Best Model ===\n",
    "    if val_loss < best_val_loss:\n",
    "        best_val_loss = val_loss\n",
    "        torch.save(model.state_dict(), best_model_path)\n",
    "        print(f\"✅ Best model updated at epoch {epoch+1}\")\n",
    "        log_lines.append(f\"✅ Best model updated at epoch {epoch+1} | Val Loss: {val_loss:.4f}\")\n",
    "\n",
    "    # === Simpan Checkpoint setiap 10 epoch ===\n",
    "    if (epoch + 1) % 10 == 0:\n",
    "        checkpoint_path = os.path.join(checkpoint_dir, f\"checkpoint_epoch_{epoch+1}.pt\")\n",
    "        torch.save({\n",
    "            'epoch': epoch + 1,\n",
    "            'model_state_dict': model.state_dict(),\n",
    "            'optimizer_state_dict': optimizer.state_dict(),\n",
    "            'best_val_loss': best_val_loss\n",
    "        }, checkpoint_path)\n",
    "        print(f\"💾 Checkpoint disimpan: {checkpoint_path}\")\n",
    "\n",
    "    # === Logging ke terminal dan log_lines ===\n",
    "    avg_train_loss = epoch_loss / len(train_loader)\n",
    "    avg_train_acc = epoch_acc / len(train_loader)\n",
    "\n",
    "    log_line = f\"Epoch {epoch+1} | Train Loss: {avg_train_loss:.4f}, Acc: {avg_train_acc:.2f}% | Val Loss: {val_loss:.4f}, Acc: {val_acc:.2f}%\"\n",
    "    print(log_line)\n",
    "    log_lines.append(log_line)\n",
    "\n",
    "# ========== Simpan Model Terakhir ==========\n",
    "torch.save(model.state_dict(), last_model_path)\n",
    "print(f\"📦 Model terakhir disimpan: {last_model_path}\")\n",
    "\n",
    "# ========== Simpan Log ke TXT ==========\n",
    "with open(log_path, \"w\") as f:\n",
    "    f.write(\"\\n\".join(log_lines))\n",
    "print(f\"📝 Log disimpan: {log_path}\")\n"
   ]
  },
  {
   "cell_type": "markdown",
   "metadata": {
    "id": "BrkmwlPrg4tg"
   },
   "source": [
    "Load Model"
   ]
  },
  {
   "cell_type": "code",
   "execution_count": 41,
   "metadata": {
    "colab": {
     "base_uri": "https://localhost:8080/"
    },
    "executionInfo": {
     "elapsed": 6393,
     "status": "ok",
     "timestamp": 1750631546668,
     "user": {
      "displayName": "Bimbingan TG 2025",
      "userId": "17786358260686151756"
     },
     "user_tz": -420
    },
    "id": "pciHc5Yrg6JC",
    "outputId": "c04be030-47f6-490c-9911-5427b74b9c42"
   },
   "outputs": [
    {
     "data": {
      "text/plain": [
       "UNet_SKResNeXt50(\n",
       "  (encoder): SKResNeXt(\n",
       "    (stem): Sequential(\n",
       "      (0): Conv2d(4, 64, kernel_size=(7, 7), stride=(2, 2), padding=(3, 3), bias=False)\n",
       "      (1): BatchNorm2d(64, eps=1e-05, momentum=0.1, affine=True, track_running_stats=True)\n",
       "      (2): ReLU(inplace=True)\n",
       "    )\n",
       "    (maxpool): MaxPool2d(kernel_size=3, stride=2, padding=1, dilation=1, ceil_mode=False)\n",
       "    (layer1): Sequential(\n",
       "      (0): resnext_block(\n",
       "        (conv1): Conv2d(64, 128, kernel_size=(1, 1), stride=(1, 1), bias=False)\n",
       "        (bn1): BatchNorm2d(128, eps=1e-05, momentum=0.1, affine=True, track_running_stats=True)\n",
       "        (skconv): SKConv(\n",
       "          (conv3): Conv2d(128, 128, kernel_size=(3, 3), stride=(1, 1), padding=(1, 1), groups=32, bias=False)\n",
       "          (bn3): BatchNorm2d(128, eps=1e-05, momentum=0.1, affine=True, track_running_stats=True)\n",
       "          (conv5): Conv2d(128, 128, kernel_size=(3, 3), stride=(1, 1), padding=(2, 2), dilation=(2, 2), groups=32, bias=False)\n",
       "          (bn5): BatchNorm2d(128, eps=1e-05, momentum=0.1, affine=True, track_running_stats=True)\n",
       "          (relu): ReLU(inplace=True)\n",
       "          (global_pool): AdaptiveAvgPool2d(output_size=1)\n",
       "          (fc1): Conv2d(128, 8, kernel_size=(1, 1), stride=(1, 1), bias=False)\n",
       "          (fc2): Conv2d(8, 256, kernel_size=(1, 1), stride=(1, 1), bias=False)\n",
       "          (softmax): Softmax(dim=1)\n",
       "        )\n",
       "        (conv3): Conv2d(128, 256, kernel_size=(1, 1), stride=(1, 1), bias=False)\n",
       "        (bn3): BatchNorm2d(256, eps=1e-05, momentum=0.1, affine=True, track_running_stats=True)\n",
       "        (relu): ReLU(inplace=True)\n",
       "        (identity_downsample): Sequential(\n",
       "          (0): Conv2d(64, 256, kernel_size=(1, 1), stride=(1, 1), bias=False)\n",
       "          (1): BatchNorm2d(256, eps=1e-05, momentum=0.1, affine=True, track_running_stats=True)\n",
       "        )\n",
       "      )\n",
       "      (1): resnext_block(\n",
       "        (conv1): Conv2d(256, 128, kernel_size=(1, 1), stride=(1, 1), bias=False)\n",
       "        (bn1): BatchNorm2d(128, eps=1e-05, momentum=0.1, affine=True, track_running_stats=True)\n",
       "        (skconv): SKConv(\n",
       "          (conv3): Conv2d(128, 128, kernel_size=(3, 3), stride=(1, 1), padding=(1, 1), groups=32, bias=False)\n",
       "          (bn3): BatchNorm2d(128, eps=1e-05, momentum=0.1, affine=True, track_running_stats=True)\n",
       "          (conv5): Conv2d(128, 128, kernel_size=(3, 3), stride=(1, 1), padding=(2, 2), dilation=(2, 2), groups=32, bias=False)\n",
       "          (bn5): BatchNorm2d(128, eps=1e-05, momentum=0.1, affine=True, track_running_stats=True)\n",
       "          (relu): ReLU(inplace=True)\n",
       "          (global_pool): AdaptiveAvgPool2d(output_size=1)\n",
       "          (fc1): Conv2d(128, 8, kernel_size=(1, 1), stride=(1, 1), bias=False)\n",
       "          (fc2): Conv2d(8, 256, kernel_size=(1, 1), stride=(1, 1), bias=False)\n",
       "          (softmax): Softmax(dim=1)\n",
       "        )\n",
       "        (conv3): Conv2d(128, 256, kernel_size=(1, 1), stride=(1, 1), bias=False)\n",
       "        (bn3): BatchNorm2d(256, eps=1e-05, momentum=0.1, affine=True, track_running_stats=True)\n",
       "        (relu): ReLU(inplace=True)\n",
       "      )\n",
       "      (2): resnext_block(\n",
       "        (conv1): Conv2d(256, 128, kernel_size=(1, 1), stride=(1, 1), bias=False)\n",
       "        (bn1): BatchNorm2d(128, eps=1e-05, momentum=0.1, affine=True, track_running_stats=True)\n",
       "        (skconv): SKConv(\n",
       "          (conv3): Conv2d(128, 128, kernel_size=(3, 3), stride=(1, 1), padding=(1, 1), groups=32, bias=False)\n",
       "          (bn3): BatchNorm2d(128, eps=1e-05, momentum=0.1, affine=True, track_running_stats=True)\n",
       "          (conv5): Conv2d(128, 128, kernel_size=(3, 3), stride=(1, 1), padding=(2, 2), dilation=(2, 2), groups=32, bias=False)\n",
       "          (bn5): BatchNorm2d(128, eps=1e-05, momentum=0.1, affine=True, track_running_stats=True)\n",
       "          (relu): ReLU(inplace=True)\n",
       "          (global_pool): AdaptiveAvgPool2d(output_size=1)\n",
       "          (fc1): Conv2d(128, 8, kernel_size=(1, 1), stride=(1, 1), bias=False)\n",
       "          (fc2): Conv2d(8, 256, kernel_size=(1, 1), stride=(1, 1), bias=False)\n",
       "          (softmax): Softmax(dim=1)\n",
       "        )\n",
       "        (conv3): Conv2d(128, 256, kernel_size=(1, 1), stride=(1, 1), bias=False)\n",
       "        (bn3): BatchNorm2d(256, eps=1e-05, momentum=0.1, affine=True, track_running_stats=True)\n",
       "        (relu): ReLU(inplace=True)\n",
       "      )\n",
       "    )\n",
       "    (layer2): Sequential(\n",
       "      (0): resnext_block(\n",
       "        (conv1): Conv2d(256, 256, kernel_size=(1, 1), stride=(1, 1), bias=False)\n",
       "        (bn1): BatchNorm2d(256, eps=1e-05, momentum=0.1, affine=True, track_running_stats=True)\n",
       "        (skconv): SKConv(\n",
       "          (conv3): Conv2d(256, 256, kernel_size=(3, 3), stride=(2, 2), padding=(1, 1), groups=32, bias=False)\n",
       "          (bn3): BatchNorm2d(256, eps=1e-05, momentum=0.1, affine=True, track_running_stats=True)\n",
       "          (conv5): Conv2d(256, 256, kernel_size=(3, 3), stride=(2, 2), padding=(2, 2), dilation=(2, 2), groups=32, bias=False)\n",
       "          (bn5): BatchNorm2d(256, eps=1e-05, momentum=0.1, affine=True, track_running_stats=True)\n",
       "          (relu): ReLU(inplace=True)\n",
       "          (global_pool): AdaptiveAvgPool2d(output_size=1)\n",
       "          (fc1): Conv2d(256, 16, kernel_size=(1, 1), stride=(1, 1), bias=False)\n",
       "          (fc2): Conv2d(16, 512, kernel_size=(1, 1), stride=(1, 1), bias=False)\n",
       "          (softmax): Softmax(dim=1)\n",
       "        )\n",
       "        (conv3): Conv2d(256, 512, kernel_size=(1, 1), stride=(1, 1), bias=False)\n",
       "        (bn3): BatchNorm2d(512, eps=1e-05, momentum=0.1, affine=True, track_running_stats=True)\n",
       "        (relu): ReLU(inplace=True)\n",
       "        (identity_downsample): Sequential(\n",
       "          (0): Conv2d(256, 512, kernel_size=(1, 1), stride=(2, 2), bias=False)\n",
       "          (1): BatchNorm2d(512, eps=1e-05, momentum=0.1, affine=True, track_running_stats=True)\n",
       "        )\n",
       "      )\n",
       "      (1): resnext_block(\n",
       "        (conv1): Conv2d(512, 256, kernel_size=(1, 1), stride=(1, 1), bias=False)\n",
       "        (bn1): BatchNorm2d(256, eps=1e-05, momentum=0.1, affine=True, track_running_stats=True)\n",
       "        (skconv): SKConv(\n",
       "          (conv3): Conv2d(256, 256, kernel_size=(3, 3), stride=(1, 1), padding=(1, 1), groups=32, bias=False)\n",
       "          (bn3): BatchNorm2d(256, eps=1e-05, momentum=0.1, affine=True, track_running_stats=True)\n",
       "          (conv5): Conv2d(256, 256, kernel_size=(3, 3), stride=(1, 1), padding=(2, 2), dilation=(2, 2), groups=32, bias=False)\n",
       "          (bn5): BatchNorm2d(256, eps=1e-05, momentum=0.1, affine=True, track_running_stats=True)\n",
       "          (relu): ReLU(inplace=True)\n",
       "          (global_pool): AdaptiveAvgPool2d(output_size=1)\n",
       "          (fc1): Conv2d(256, 16, kernel_size=(1, 1), stride=(1, 1), bias=False)\n",
       "          (fc2): Conv2d(16, 512, kernel_size=(1, 1), stride=(1, 1), bias=False)\n",
       "          (softmax): Softmax(dim=1)\n",
       "        )\n",
       "        (conv3): Conv2d(256, 512, kernel_size=(1, 1), stride=(1, 1), bias=False)\n",
       "        (bn3): BatchNorm2d(512, eps=1e-05, momentum=0.1, affine=True, track_running_stats=True)\n",
       "        (relu): ReLU(inplace=True)\n",
       "      )\n",
       "      (2): resnext_block(\n",
       "        (conv1): Conv2d(512, 256, kernel_size=(1, 1), stride=(1, 1), bias=False)\n",
       "        (bn1): BatchNorm2d(256, eps=1e-05, momentum=0.1, affine=True, track_running_stats=True)\n",
       "        (skconv): SKConv(\n",
       "          (conv3): Conv2d(256, 256, kernel_size=(3, 3), stride=(1, 1), padding=(1, 1), groups=32, bias=False)\n",
       "          (bn3): BatchNorm2d(256, eps=1e-05, momentum=0.1, affine=True, track_running_stats=True)\n",
       "          (conv5): Conv2d(256, 256, kernel_size=(3, 3), stride=(1, 1), padding=(2, 2), dilation=(2, 2), groups=32, bias=False)\n",
       "          (bn5): BatchNorm2d(256, eps=1e-05, momentum=0.1, affine=True, track_running_stats=True)\n",
       "          (relu): ReLU(inplace=True)\n",
       "          (global_pool): AdaptiveAvgPool2d(output_size=1)\n",
       "          (fc1): Conv2d(256, 16, kernel_size=(1, 1), stride=(1, 1), bias=False)\n",
       "          (fc2): Conv2d(16, 512, kernel_size=(1, 1), stride=(1, 1), bias=False)\n",
       "          (softmax): Softmax(dim=1)\n",
       "        )\n",
       "        (conv3): Conv2d(256, 512, kernel_size=(1, 1), stride=(1, 1), bias=False)\n",
       "        (bn3): BatchNorm2d(512, eps=1e-05, momentum=0.1, affine=True, track_running_stats=True)\n",
       "        (relu): ReLU(inplace=True)\n",
       "      )\n",
       "      (3): resnext_block(\n",
       "        (conv1): Conv2d(512, 256, kernel_size=(1, 1), stride=(1, 1), bias=False)\n",
       "        (bn1): BatchNorm2d(256, eps=1e-05, momentum=0.1, affine=True, track_running_stats=True)\n",
       "        (skconv): SKConv(\n",
       "          (conv3): Conv2d(256, 256, kernel_size=(3, 3), stride=(1, 1), padding=(1, 1), groups=32, bias=False)\n",
       "          (bn3): BatchNorm2d(256, eps=1e-05, momentum=0.1, affine=True, track_running_stats=True)\n",
       "          (conv5): Conv2d(256, 256, kernel_size=(3, 3), stride=(1, 1), padding=(2, 2), dilation=(2, 2), groups=32, bias=False)\n",
       "          (bn5): BatchNorm2d(256, eps=1e-05, momentum=0.1, affine=True, track_running_stats=True)\n",
       "          (relu): ReLU(inplace=True)\n",
       "          (global_pool): AdaptiveAvgPool2d(output_size=1)\n",
       "          (fc1): Conv2d(256, 16, kernel_size=(1, 1), stride=(1, 1), bias=False)\n",
       "          (fc2): Conv2d(16, 512, kernel_size=(1, 1), stride=(1, 1), bias=False)\n",
       "          (softmax): Softmax(dim=1)\n",
       "        )\n",
       "        (conv3): Conv2d(256, 512, kernel_size=(1, 1), stride=(1, 1), bias=False)\n",
       "        (bn3): BatchNorm2d(512, eps=1e-05, momentum=0.1, affine=True, track_running_stats=True)\n",
       "        (relu): ReLU(inplace=True)\n",
       "      )\n",
       "    )\n",
       "    (layer3): Sequential(\n",
       "      (0): resnext_block(\n",
       "        (conv1): Conv2d(512, 512, kernel_size=(1, 1), stride=(1, 1), bias=False)\n",
       "        (bn1): BatchNorm2d(512, eps=1e-05, momentum=0.1, affine=True, track_running_stats=True)\n",
       "        (skconv): SKConv(\n",
       "          (conv3): Conv2d(512, 512, kernel_size=(3, 3), stride=(2, 2), padding=(1, 1), groups=32, bias=False)\n",
       "          (bn3): BatchNorm2d(512, eps=1e-05, momentum=0.1, affine=True, track_running_stats=True)\n",
       "          (conv5): Conv2d(512, 512, kernel_size=(3, 3), stride=(2, 2), padding=(2, 2), dilation=(2, 2), groups=32, bias=False)\n",
       "          (bn5): BatchNorm2d(512, eps=1e-05, momentum=0.1, affine=True, track_running_stats=True)\n",
       "          (relu): ReLU(inplace=True)\n",
       "          (global_pool): AdaptiveAvgPool2d(output_size=1)\n",
       "          (fc1): Conv2d(512, 32, kernel_size=(1, 1), stride=(1, 1), bias=False)\n",
       "          (fc2): Conv2d(32, 1024, kernel_size=(1, 1), stride=(1, 1), bias=False)\n",
       "          (softmax): Softmax(dim=1)\n",
       "        )\n",
       "        (conv3): Conv2d(512, 1024, kernel_size=(1, 1), stride=(1, 1), bias=False)\n",
       "        (bn3): BatchNorm2d(1024, eps=1e-05, momentum=0.1, affine=True, track_running_stats=True)\n",
       "        (relu): ReLU(inplace=True)\n",
       "        (identity_downsample): Sequential(\n",
       "          (0): Conv2d(512, 1024, kernel_size=(1, 1), stride=(2, 2), bias=False)\n",
       "          (1): BatchNorm2d(1024, eps=1e-05, momentum=0.1, affine=True, track_running_stats=True)\n",
       "        )\n",
       "      )\n",
       "      (1): resnext_block(\n",
       "        (conv1): Conv2d(1024, 512, kernel_size=(1, 1), stride=(1, 1), bias=False)\n",
       "        (bn1): BatchNorm2d(512, eps=1e-05, momentum=0.1, affine=True, track_running_stats=True)\n",
       "        (skconv): SKConv(\n",
       "          (conv3): Conv2d(512, 512, kernel_size=(3, 3), stride=(1, 1), padding=(1, 1), groups=32, bias=False)\n",
       "          (bn3): BatchNorm2d(512, eps=1e-05, momentum=0.1, affine=True, track_running_stats=True)\n",
       "          (conv5): Conv2d(512, 512, kernel_size=(3, 3), stride=(1, 1), padding=(2, 2), dilation=(2, 2), groups=32, bias=False)\n",
       "          (bn5): BatchNorm2d(512, eps=1e-05, momentum=0.1, affine=True, track_running_stats=True)\n",
       "          (relu): ReLU(inplace=True)\n",
       "          (global_pool): AdaptiveAvgPool2d(output_size=1)\n",
       "          (fc1): Conv2d(512, 32, kernel_size=(1, 1), stride=(1, 1), bias=False)\n",
       "          (fc2): Conv2d(32, 1024, kernel_size=(1, 1), stride=(1, 1), bias=False)\n",
       "          (softmax): Softmax(dim=1)\n",
       "        )\n",
       "        (conv3): Conv2d(512, 1024, kernel_size=(1, 1), stride=(1, 1), bias=False)\n",
       "        (bn3): BatchNorm2d(1024, eps=1e-05, momentum=0.1, affine=True, track_running_stats=True)\n",
       "        (relu): ReLU(inplace=True)\n",
       "      )\n",
       "      (2): resnext_block(\n",
       "        (conv1): Conv2d(1024, 512, kernel_size=(1, 1), stride=(1, 1), bias=False)\n",
       "        (bn1): BatchNorm2d(512, eps=1e-05, momentum=0.1, affine=True, track_running_stats=True)\n",
       "        (skconv): SKConv(\n",
       "          (conv3): Conv2d(512, 512, kernel_size=(3, 3), stride=(1, 1), padding=(1, 1), groups=32, bias=False)\n",
       "          (bn3): BatchNorm2d(512, eps=1e-05, momentum=0.1, affine=True, track_running_stats=True)\n",
       "          (conv5): Conv2d(512, 512, kernel_size=(3, 3), stride=(1, 1), padding=(2, 2), dilation=(2, 2), groups=32, bias=False)\n",
       "          (bn5): BatchNorm2d(512, eps=1e-05, momentum=0.1, affine=True, track_running_stats=True)\n",
       "          (relu): ReLU(inplace=True)\n",
       "          (global_pool): AdaptiveAvgPool2d(output_size=1)\n",
       "          (fc1): Conv2d(512, 32, kernel_size=(1, 1), stride=(1, 1), bias=False)\n",
       "          (fc2): Conv2d(32, 1024, kernel_size=(1, 1), stride=(1, 1), bias=False)\n",
       "          (softmax): Softmax(dim=1)\n",
       "        )\n",
       "        (conv3): Conv2d(512, 1024, kernel_size=(1, 1), stride=(1, 1), bias=False)\n",
       "        (bn3): BatchNorm2d(1024, eps=1e-05, momentum=0.1, affine=True, track_running_stats=True)\n",
       "        (relu): ReLU(inplace=True)\n",
       "      )\n",
       "      (3): resnext_block(\n",
       "        (conv1): Conv2d(1024, 512, kernel_size=(1, 1), stride=(1, 1), bias=False)\n",
       "        (bn1): BatchNorm2d(512, eps=1e-05, momentum=0.1, affine=True, track_running_stats=True)\n",
       "        (skconv): SKConv(\n",
       "          (conv3): Conv2d(512, 512, kernel_size=(3, 3), stride=(1, 1), padding=(1, 1), groups=32, bias=False)\n",
       "          (bn3): BatchNorm2d(512, eps=1e-05, momentum=0.1, affine=True, track_running_stats=True)\n",
       "          (conv5): Conv2d(512, 512, kernel_size=(3, 3), stride=(1, 1), padding=(2, 2), dilation=(2, 2), groups=32, bias=False)\n",
       "          (bn5): BatchNorm2d(512, eps=1e-05, momentum=0.1, affine=True, track_running_stats=True)\n",
       "          (relu): ReLU(inplace=True)\n",
       "          (global_pool): AdaptiveAvgPool2d(output_size=1)\n",
       "          (fc1): Conv2d(512, 32, kernel_size=(1, 1), stride=(1, 1), bias=False)\n",
       "          (fc2): Conv2d(32, 1024, kernel_size=(1, 1), stride=(1, 1), bias=False)\n",
       "          (softmax): Softmax(dim=1)\n",
       "        )\n",
       "        (conv3): Conv2d(512, 1024, kernel_size=(1, 1), stride=(1, 1), bias=False)\n",
       "        (bn3): BatchNorm2d(1024, eps=1e-05, momentum=0.1, affine=True, track_running_stats=True)\n",
       "        (relu): ReLU(inplace=True)\n",
       "      )\n",
       "      (4): resnext_block(\n",
       "        (conv1): Conv2d(1024, 512, kernel_size=(1, 1), stride=(1, 1), bias=False)\n",
       "        (bn1): BatchNorm2d(512, eps=1e-05, momentum=0.1, affine=True, track_running_stats=True)\n",
       "        (skconv): SKConv(\n",
       "          (conv3): Conv2d(512, 512, kernel_size=(3, 3), stride=(1, 1), padding=(1, 1), groups=32, bias=False)\n",
       "          (bn3): BatchNorm2d(512, eps=1e-05, momentum=0.1, affine=True, track_running_stats=True)\n",
       "          (conv5): Conv2d(512, 512, kernel_size=(3, 3), stride=(1, 1), padding=(2, 2), dilation=(2, 2), groups=32, bias=False)\n",
       "          (bn5): BatchNorm2d(512, eps=1e-05, momentum=0.1, affine=True, track_running_stats=True)\n",
       "          (relu): ReLU(inplace=True)\n",
       "          (global_pool): AdaptiveAvgPool2d(output_size=1)\n",
       "          (fc1): Conv2d(512, 32, kernel_size=(1, 1), stride=(1, 1), bias=False)\n",
       "          (fc2): Conv2d(32, 1024, kernel_size=(1, 1), stride=(1, 1), bias=False)\n",
       "          (softmax): Softmax(dim=1)\n",
       "        )\n",
       "        (conv3): Conv2d(512, 1024, kernel_size=(1, 1), stride=(1, 1), bias=False)\n",
       "        (bn3): BatchNorm2d(1024, eps=1e-05, momentum=0.1, affine=True, track_running_stats=True)\n",
       "        (relu): ReLU(inplace=True)\n",
       "      )\n",
       "      (5): resnext_block(\n",
       "        (conv1): Conv2d(1024, 512, kernel_size=(1, 1), stride=(1, 1), bias=False)\n",
       "        (bn1): BatchNorm2d(512, eps=1e-05, momentum=0.1, affine=True, track_running_stats=True)\n",
       "        (skconv): SKConv(\n",
       "          (conv3): Conv2d(512, 512, kernel_size=(3, 3), stride=(1, 1), padding=(1, 1), groups=32, bias=False)\n",
       "          (bn3): BatchNorm2d(512, eps=1e-05, momentum=0.1, affine=True, track_running_stats=True)\n",
       "          (conv5): Conv2d(512, 512, kernel_size=(3, 3), stride=(1, 1), padding=(2, 2), dilation=(2, 2), groups=32, bias=False)\n",
       "          (bn5): BatchNorm2d(512, eps=1e-05, momentum=0.1, affine=True, track_running_stats=True)\n",
       "          (relu): ReLU(inplace=True)\n",
       "          (global_pool): AdaptiveAvgPool2d(output_size=1)\n",
       "          (fc1): Conv2d(512, 32, kernel_size=(1, 1), stride=(1, 1), bias=False)\n",
       "          (fc2): Conv2d(32, 1024, kernel_size=(1, 1), stride=(1, 1), bias=False)\n",
       "          (softmax): Softmax(dim=1)\n",
       "        )\n",
       "        (conv3): Conv2d(512, 1024, kernel_size=(1, 1), stride=(1, 1), bias=False)\n",
       "        (bn3): BatchNorm2d(1024, eps=1e-05, momentum=0.1, affine=True, track_running_stats=True)\n",
       "        (relu): ReLU(inplace=True)\n",
       "      )\n",
       "    )\n",
       "    (layer4): Sequential(\n",
       "      (0): resnext_block(\n",
       "        (conv1): Conv2d(1024, 1024, kernel_size=(1, 1), stride=(1, 1), bias=False)\n",
       "        (bn1): BatchNorm2d(1024, eps=1e-05, momentum=0.1, affine=True, track_running_stats=True)\n",
       "        (skconv): SKConv(\n",
       "          (conv3): Conv2d(1024, 1024, kernel_size=(3, 3), stride=(2, 2), padding=(1, 1), groups=32, bias=False)\n",
       "          (bn3): BatchNorm2d(1024, eps=1e-05, momentum=0.1, affine=True, track_running_stats=True)\n",
       "          (conv5): Conv2d(1024, 1024, kernel_size=(3, 3), stride=(2, 2), padding=(2, 2), dilation=(2, 2), groups=32, bias=False)\n",
       "          (bn5): BatchNorm2d(1024, eps=1e-05, momentum=0.1, affine=True, track_running_stats=True)\n",
       "          (relu): ReLU(inplace=True)\n",
       "          (global_pool): AdaptiveAvgPool2d(output_size=1)\n",
       "          (fc1): Conv2d(1024, 64, kernel_size=(1, 1), stride=(1, 1), bias=False)\n",
       "          (fc2): Conv2d(64, 2048, kernel_size=(1, 1), stride=(1, 1), bias=False)\n",
       "          (softmax): Softmax(dim=1)\n",
       "        )\n",
       "        (conv3): Conv2d(1024, 2048, kernel_size=(1, 1), stride=(1, 1), bias=False)\n",
       "        (bn3): BatchNorm2d(2048, eps=1e-05, momentum=0.1, affine=True, track_running_stats=True)\n",
       "        (relu): ReLU(inplace=True)\n",
       "        (identity_downsample): Sequential(\n",
       "          (0): Conv2d(1024, 2048, kernel_size=(1, 1), stride=(2, 2), bias=False)\n",
       "          (1): BatchNorm2d(2048, eps=1e-05, momentum=0.1, affine=True, track_running_stats=True)\n",
       "        )\n",
       "      )\n",
       "      (1): resnext_block(\n",
       "        (conv1): Conv2d(2048, 1024, kernel_size=(1, 1), stride=(1, 1), bias=False)\n",
       "        (bn1): BatchNorm2d(1024, eps=1e-05, momentum=0.1, affine=True, track_running_stats=True)\n",
       "        (skconv): SKConv(\n",
       "          (conv3): Conv2d(1024, 1024, kernel_size=(3, 3), stride=(1, 1), padding=(1, 1), groups=32, bias=False)\n",
       "          (bn3): BatchNorm2d(1024, eps=1e-05, momentum=0.1, affine=True, track_running_stats=True)\n",
       "          (conv5): Conv2d(1024, 1024, kernel_size=(3, 3), stride=(1, 1), padding=(2, 2), dilation=(2, 2), groups=32, bias=False)\n",
       "          (bn5): BatchNorm2d(1024, eps=1e-05, momentum=0.1, affine=True, track_running_stats=True)\n",
       "          (relu): ReLU(inplace=True)\n",
       "          (global_pool): AdaptiveAvgPool2d(output_size=1)\n",
       "          (fc1): Conv2d(1024, 64, kernel_size=(1, 1), stride=(1, 1), bias=False)\n",
       "          (fc2): Conv2d(64, 2048, kernel_size=(1, 1), stride=(1, 1), bias=False)\n",
       "          (softmax): Softmax(dim=1)\n",
       "        )\n",
       "        (conv3): Conv2d(1024, 2048, kernel_size=(1, 1), stride=(1, 1), bias=False)\n",
       "        (bn3): BatchNorm2d(2048, eps=1e-05, momentum=0.1, affine=True, track_running_stats=True)\n",
       "        (relu): ReLU(inplace=True)\n",
       "      )\n",
       "      (2): resnext_block(\n",
       "        (conv1): Conv2d(2048, 1024, kernel_size=(1, 1), stride=(1, 1), bias=False)\n",
       "        (bn1): BatchNorm2d(1024, eps=1e-05, momentum=0.1, affine=True, track_running_stats=True)\n",
       "        (skconv): SKConv(\n",
       "          (conv3): Conv2d(1024, 1024, kernel_size=(3, 3), stride=(1, 1), padding=(1, 1), groups=32, bias=False)\n",
       "          (bn3): BatchNorm2d(1024, eps=1e-05, momentum=0.1, affine=True, track_running_stats=True)\n",
       "          (conv5): Conv2d(1024, 1024, kernel_size=(3, 3), stride=(1, 1), padding=(2, 2), dilation=(2, 2), groups=32, bias=False)\n",
       "          (bn5): BatchNorm2d(1024, eps=1e-05, momentum=0.1, affine=True, track_running_stats=True)\n",
       "          (relu): ReLU(inplace=True)\n",
       "          (global_pool): AdaptiveAvgPool2d(output_size=1)\n",
       "          (fc1): Conv2d(1024, 64, kernel_size=(1, 1), stride=(1, 1), bias=False)\n",
       "          (fc2): Conv2d(64, 2048, kernel_size=(1, 1), stride=(1, 1), bias=False)\n",
       "          (softmax): Softmax(dim=1)\n",
       "        )\n",
       "        (conv3): Conv2d(1024, 2048, kernel_size=(1, 1), stride=(1, 1), bias=False)\n",
       "        (bn3): BatchNorm2d(2048, eps=1e-05, momentum=0.1, affine=True, track_running_stats=True)\n",
       "        (relu): ReLU(inplace=True)\n",
       "      )\n",
       "    )\n",
       "  )\n",
       "  (up1): ConvTranspose2d(2048, 1024, kernel_size=(2, 2), stride=(2, 2))\n",
       "  (dec1): Sequential(\n",
       "    (0): Conv2d(2048, 1024, kernel_size=(3, 3), stride=(1, 1), padding=(1, 1))\n",
       "    (1): ReLU(inplace=True)\n",
       "    (2): Conv2d(1024, 1024, kernel_size=(3, 3), stride=(1, 1), padding=(1, 1))\n",
       "    (3): ReLU(inplace=True)\n",
       "  )\n",
       "  (up2): ConvTranspose2d(1024, 512, kernel_size=(2, 2), stride=(2, 2))\n",
       "  (dec2): Sequential(\n",
       "    (0): Conv2d(1024, 512, kernel_size=(3, 3), stride=(1, 1), padding=(1, 1))\n",
       "    (1): ReLU(inplace=True)\n",
       "    (2): Conv2d(512, 512, kernel_size=(3, 3), stride=(1, 1), padding=(1, 1))\n",
       "    (3): ReLU(inplace=True)\n",
       "  )\n",
       "  (up3): ConvTranspose2d(512, 256, kernel_size=(2, 2), stride=(2, 2))\n",
       "  (dec3): Sequential(\n",
       "    (0): Conv2d(512, 256, kernel_size=(3, 3), stride=(1, 1), padding=(1, 1))\n",
       "    (1): ReLU(inplace=True)\n",
       "    (2): Conv2d(256, 256, kernel_size=(3, 3), stride=(1, 1), padding=(1, 1))\n",
       "    (3): ReLU(inplace=True)\n",
       "  )\n",
       "  (up4): ConvTranspose2d(256, 128, kernel_size=(2, 2), stride=(2, 2))\n",
       "  (dec4): Sequential(\n",
       "    (0): Conv2d(192, 64, kernel_size=(3, 3), stride=(1, 1), padding=(1, 1))\n",
       "    (1): ReLU(inplace=True)\n",
       "    (2): Conv2d(64, 64, kernel_size=(3, 3), stride=(1, 1), padding=(1, 1))\n",
       "    (3): ReLU(inplace=True)\n",
       "  )\n",
       "  (out_conv): Conv2d(64, 6, kernel_size=(1, 1), stride=(1, 1))\n",
       ")"
      ]
     },
     "execution_count": 41,
     "metadata": {},
     "output_type": "execute_result"
    }
   ],
   "source": [
    "# Load Model GPU\n",
    "model.load_state_dict(torch.load(best_model_path))\n",
    "\n",
    "# Load Model CPU\n",
    "# model.load_state_dict(torch.load(last_model_path, map_location=torch.device('cpu')))\n",
    "\n",
    "model.eval()"
   ]
  },
  {
   "cell_type": "markdown",
   "metadata": {
    "id": "c619-Bv7RG_7"
   },
   "source": [
    "# Evaluasi Model"
   ]
  },
  {
   "cell_type": "markdown",
   "metadata": {
    "id": "MIgh-9ctQEzB"
   },
   "source": [
    "#### Plot Loss and Plot Akurasi dari variabel history train"
   ]
  },
  {
   "cell_type": "markdown",
   "metadata": {
    "id": "4-9Hy8z5eaTq"
   },
   "source": [
    "Plot Loss"
   ]
  },
  {
   "cell_type": "code",
   "execution_count": null,
   "metadata": {
    "colab": {
     "base_uri": "https://localhost:8080/",
     "height": 487
    },
    "executionInfo": {
     "elapsed": 435,
     "status": "ok",
     "timestamp": 1750630754233,
     "user": {
      "displayName": "Bimbingan TG 2025",
      "userId": "17786358260686151756"
     },
     "user_tz": -420
    },
    "id": "Q1jjciElkFYT",
    "outputId": "151a8b9e-fa46-4603-9a4f-296e837206a7"
   },
   "outputs": [
    {
     "data": {
      "image/png": "[encoded data removed]",
      "text/plain": [
       "<Figure size 1000x500 with 1 Axes>"
      ]
     },
     "metadata": {},
     "output_type": "display_data"
    }
   ],
   "source": [
    "# Plot Loss\n",
    "plt.figure(figsize=(10, 5))\n",
    "plt.plot(range(1, num_epochs+1), train_losses, label='Train Loss')\n",
    "plt.plot(range(1, num_epochs+1), val_losses, label='Val Loss')\n",
    "plt.xlabel('Epoch')\n",
    "plt.ylabel('Loss')\n",
    "plt.title('Training vs Validation Loss')\n",
    "plt.legend()\n",
    "plt.grid(True)\n",
    "plt.savefig(f'output/{output_path}/diagram/loss_plot.png')\n",
    "plt.show()"
   ]
  },
  {
   "cell_type": "markdown",
   "metadata": {
    "id": "kdRBYJPQeeEq"
   },
   "source": [
    "Plot Accuracy"
   ]
  },
  {
   "cell_type": "code",
   "execution_count": null,
   "metadata": {
    "colab": {
     "base_uri": "https://localhost:8080/",
     "height": 487
    },
    "executionInfo": {
     "elapsed": 309,
     "status": "ok",
     "timestamp": 1750630757384,
     "user": {
      "displayName": "Bimbingan TG 2025",
      "userId": "17786358260686151756"
     },
     "user_tz": -420
    },
    "id": "x5-t-DGOkFij",
    "outputId": "01b7c6b9-3dc3-476a-ef80-455b069cadc5"
   },
   "outputs": [
    {
     "data": {
      "image/png": "[encoded data removed]",
      "text/plain": [
       "<Figure size 1000x500 with 1 Axes>"
      ]
     },
     "metadata": {},
     "output_type": "display_data"
    }
   ],
   "source": [
    "# Plot Accuracy\n",
    "plt.figure(figsize=(10, 5))\n",
    "plt.plot(range(1, num_epochs+1), train_accuracies, label='Train Accuracy')\n",
    "plt.plot(range(1, num_epochs+1), val_accuracies, label='Val Accuracy')\n",
    "plt.xlabel('Epoch')\n",
    "plt.ylabel('Accuracy (%)')\n",
    "plt.title('Training vs Validation Accuracy')\n",
    "plt.legend()\n",
    "plt.grid(True)\n",
    "plt.savefig(f'output/{output_path}/diagram/accuracy_plot.png')\n",
    "plt.show()"
   ]
  },
  {
   "cell_type": "markdown",
   "metadata": {
    "id": "rnQUKLDVQJcp"
   },
   "source": [
    "#### Plot Loss and Plot Akurasi dari log csv"
   ]
  },
  {
   "cell_type": "code",
   "execution_count": null,
   "metadata": {
    "colab": {
     "base_uri": "https://localhost:8080/",
     "height": 487
    },
    "executionInfo": {
     "elapsed": 1342,
     "status": "ok",
     "timestamp": 1750294422752,
     "user": {
      "displayName": "Bimbingan TG 2025",
      "userId": "17786358260686151756"
     },
     "user_tz": -420
    },
    "id": "d71dqrOCQJEz",
    "outputId": "a0e1edd0-a1e2-4920-8e6a-ea5293a85485"
   },
   "outputs": [
    {
     "data": {
      "image/png": "[encoded data removed]",
      "text/plain": [
       "<Figure size 1000x500 with 1 Axes>"
      ]
     },
     "metadata": {},
     "output_type": "display_data"
    }
   ],
   "source": [
    "# Ganti dengan path ke file CSV kamu jika file sudah disimpan\n",
    "csv_file = f'output/{output_path}/logs/trainlog.csv'\n",
    "\n",
    "# Membaca file CSV\n",
    "df = pd.read_csv(csv_file)\n",
    "\n",
    "# Ekstrak data\n",
    "num_epochs = len(df)\n",
    "train_losses = df['Train Loss']\n",
    "val_losses = df['Val Loss']\n",
    "train_accuracies = df['Train Accuracy']\n",
    "val_accuracies = df['Val Accuracy']\n",
    "\n",
    "# Plot Loss\n",
    "plt.figure(figsize=(10, 5))\n",
    "plt.plot(range(1, num_epochs + 1), train_losses, label='Train Loss')\n",
    "plt.plot(range(1, num_epochs + 1), val_losses, label='Val Loss')\n",
    "plt.xlabel('Epoch')\n",
    "plt.ylabel('Loss')\n",
    "plt.title('Training vs Validation Loss')\n",
    "plt.legend()\n",
    "plt.grid(True)\n",
    "plt.savefig(f'output/{output_path}/diagram/loss_plot.png')\n",
    "plt.show()\n"
   ]
  },
  {
   "cell_type": "code",
   "execution_count": null,
   "metadata": {
    "colab": {
     "base_uri": "https://localhost:8080/",
     "height": 487
    },
    "executionInfo": {
     "elapsed": 297,
     "status": "ok",
     "timestamp": 1750294434279,
     "user": {
      "displayName": "Bimbingan TG 2025",
      "userId": "17786358260686151756"
     },
     "user_tz": -420
    },
    "id": "0CQDnKhsQJMJ",
    "outputId": "f395b636-541e-4144-e7e2-a04befe80129"
   },
   "outputs": [
    {
     "data": {
      "image/png": "[encoded data removed]",
      "text/plain": [
       "<Figure size 1000x500 with 1 Axes>"
      ]
     },
     "metadata": {},
     "output_type": "display_data"
    }
   ],
   "source": [
    "# Plot Accuracy\n",
    "plt.figure(figsize=(10, 5))\n",
    "plt.plot(range(1, num_epochs + 1), train_accuracies, label='Train Accuracy')\n",
    "plt.plot(range(1, num_epochs + 1), val_accuracies, label='Val Accuracy')\n",
    "plt.xlabel('Epoch')\n",
    "plt.ylabel('Accuracy (%)')\n",
    "plt.title('Training vs Validation Accuracy')\n",
    "plt.legend()\n",
    "plt.grid(True)\n",
    "plt.savefig(f'output/{output_path}/diagram/accuracy_plot.png')\n",
    "plt.show()"
   ]
  }
 ],
 "metadata": {
  "accelerator": "GPU",
  "colab": {
   "gpuType": "L4",
   "provenance": []
  },
  "kernelspec": {
   "display_name": "yolov7-gpu-env",
   "language": "python",
   "name": "python3"
  },
  "language_info": {
   "codemirror_mode": {
    "name": "ipython",
    "version": 3
   },
   "file_extension": ".py",
   "mimetype": "text/x-python",
   "name": "python",
   "nbconvert_exporter": "python",
   "pygments_lexer": "ipython3",
   "version": "3.10.16"
  }
 },
 "nbformat": 4,
 "nbformat_minor": 0
}
