{
 "cells": [
  {
   "cell_type": "markdown",
   "metadata": {
    "id": "nMe7DYvKH0nK"
   },
   "source": [
    "install library yang dibutuhkan"
   ]
  },
  {
   "cell_type": "code",
   "execution_count": null,
   "metadata": {
    "colab": {
     "base_uri": "https://localhost:8080/"
    },
    "executionInfo": {
     "elapsed": 119504,
     "status": "ok",
     "timestamp": 1750774104408,
     "user": {
      "displayName": "Bimbingan TG 2025",
      "userId": "17786358260686151756"
     },
     "user_tz": -420
    },
    "id": "NqCevpPdHwpX",
    "outputId": "77c990a5-a9d0-4987-d1f4-079c06571837"
   },
   "outputs": [
    {
     "name": "stdout",
     "output_type": "stream",
     "text": [
      "Requirement already satisfied: matplotlib in /usr/local/lib/python3.11/dist-packages (from -r /content/drive/MyDrive/KoTA-309/APE/APE-Train-2/requirements.txt (line 1)) (3.10.0)\n",
      "Requirement already satisfied: numpy in /usr/local/lib/python3.11/dist-packages (from -r /content/drive/MyDrive/KoTA-309/APE/APE-Train-2/requirements.txt (line 2)) (2.0.2)\n",
      "Requirement already satisfied: Pillow in /usr/local/lib/python3.11/dist-packages (from -r /content/drive/MyDrive/KoTA-309/APE/APE-Train-2/requirements.txt (line 3)) (11.2.1)\n",
      "Collecting rasterio (from -r /content/drive/MyDrive/KoTA-309/APE/APE-Train-2/requirements.txt (line 4))\n",
      "  Downloading rasterio-1.4.3-cp311-cp311-manylinux_2_17_x86_64.manylinux2014_x86_64.whl.metadata (9.1 kB)\n",
      "Requirement already satisfied: scikit_learn in /usr/local/lib/python3.11/dist-packages (from -r /content/drive/MyDrive/KoTA-309/APE/APE-Train-2/requirements.txt (line 5)) (1.6.1)\n",
      "Requirement already satisfied: seaborn in /usr/local/lib/python3.11/dist-packages (from -r /content/drive/MyDrive/KoTA-309/APE/APE-Train-2/requirements.txt (line 6)) (0.13.2)\n",
      "Collecting kornia (from -r /content/drive/MyDrive/KoTA-309/APE/APE-Train-2/requirements.txt (line 7))\n",
      "  Downloading kornia-0.8.1-py2.py3-none-any.whl.metadata (17 kB)\n",
      "Requirement already satisfied: contourpy>=1.0.1 in /usr/local/lib/python3.11/dist-packages (from matplotlib->-r /content/drive/MyDrive/KoTA-309/APE/APE-Train-2/requirements.txt (line 1)) (1.3.2)\n",
      "Requirement already satisfied: cycler>=0.10 in /usr/local/lib/python3.11/dist-packages (from matplotlib->-r /content/drive/MyDrive/KoTA-309/APE/APE-Train-2/requirements.txt (line 1)) (0.12.1)\n",
      "Requirement already satisfied: fonttools>=4.22.0 in /usr/local/lib/python3.11/dist-packages (from matplotlib->-r /content/drive/MyDrive/KoTA-309/APE/APE-Train-2/requirements.txt (line 1)) (4.58.4)\n",
      "Requirement already satisfied: kiwisolver>=1.3.1 in /usr/local/lib/python3.11/dist-packages (from matplotlib->-r /content/drive/MyDrive/KoTA-309/APE/APE-Train-2/requirements.txt (line 1)) (1.4.8)\n",
      "Requirement already satisfied: packaging>=20.0 in /usr/local/lib/python3.11/dist-packages (from matplotlib->-r /content/drive/MyDrive/KoTA-309/APE/APE-Train-2/requirements.txt (line 1)) (24.2)\n",
      "Requirement already satisfied: pyparsing>=2.3.1 in /usr/local/lib/python3.11/dist-packages (from matplotlib->-r /content/drive/MyDrive/KoTA-309/APE/APE-Train-2/requirements.txt (line 1)) (3.2.3)\n",
      "Requirement already satisfied: python-dateutil>=2.7 in /usr/local/lib/python3.11/dist-packages (from matplotlib->-r /content/drive/MyDrive/KoTA-309/APE/APE-Train-2/requirements.txt (line 1)) (2.9.0.post0)\n",
      "Collecting affine (from rasterio->-r /content/drive/MyDrive/KoTA-309/APE/APE-Train-2/requirements.txt (line 4))\n",
      "  Downloading affine-2.4.0-py3-none-any.whl.metadata (4.0 kB)\n",
      "Requirement already satisfied: attrs in /usr/local/lib/python3.11/dist-packages (from rasterio->-r /content/drive/MyDrive/KoTA-309/APE/APE-Train-2/requirements.txt (line 4)) (25.3.0)\n",
      "Requirement already satisfied: certifi in /usr/local/lib/python3.11/dist-packages (from rasterio->-r /content/drive/MyDrive/KoTA-309/APE/APE-Train-2/requirements.txt (line 4)) (2025.6.15)\n",
      "Requirement already satisfied: click>=4.0 in /usr/local/lib/python3.11/dist-packages (from rasterio->-r /content/drive/MyDrive/KoTA-309/APE/APE-Train-2/requirements.txt (line 4)) (8.2.1)\n",
      "Collecting cligj>=0.5 (from rasterio->-r /content/drive/MyDrive/KoTA-309/APE/APE-Train-2/requirements.txt (line 4))\n",
      "  Downloading cligj-0.7.2-py3-none-any.whl.metadata (5.0 kB)\n",
      "Collecting click-plugins (from rasterio->-r /content/drive/MyDrive/KoTA-309/APE/APE-Train-2/requirements.txt (line 4))\n",
      "  Downloading click_plugins-1.1.1-py2.py3-none-any.whl.metadata (6.4 kB)\n",
      "Requirement already satisfied: scipy>=1.6.0 in /usr/local/lib/python3.11/dist-packages (from scikit_learn->-r /content/drive/MyDrive/KoTA-309/APE/APE-Train-2/requirements.txt (line 5)) (1.15.3)\n",
      "Requirement already satisfied: joblib>=1.2.0 in /usr/local/lib/python3.11/dist-packages (from scikit_learn->-r /content/drive/MyDrive/KoTA-309/APE/APE-Train-2/requirements.txt (line 5)) (1.5.1)\n",
      "Requirement already satisfied: threadpoolctl>=3.1.0 in /usr/local/lib/python3.11/dist-packages (from scikit_learn->-r /content/drive/MyDrive/KoTA-309/APE/APE-Train-2/requirements.txt (line 5)) (3.6.0)\n",
      "Requirement already satisfied: pandas>=1.2 in /usr/local/lib/python3.11/dist-packages (from seaborn->-r /content/drive/MyDrive/KoTA-309/APE/APE-Train-2/requirements.txt (line 6)) (2.2.2)\n",
      "Collecting kornia_rs>=0.1.9 (from kornia->-r /content/drive/MyDrive/KoTA-309/APE/APE-Train-2/requirements.txt (line 7))\n",
      "  Downloading kornia_rs-0.1.9-cp311-cp311-manylinux_2_17_x86_64.manylinux2014_x86_64.whl.metadata (11 kB)\n",
      "Requirement already satisfied: torch>=1.9.1 in /usr/local/lib/python3.11/dist-packages (from kornia->-r /content/drive/MyDrive/KoTA-309/APE/APE-Train-2/requirements.txt (line 7)) (2.6.0+cu124)\n",
      "Requirement already satisfied: pytz>=2020.1 in /usr/local/lib/python3.11/dist-packages (from pandas>=1.2->seaborn->-r /content/drive/MyDrive/KoTA-309/APE/APE-Train-2/requirements.txt (line 6)) (2025.2)\n",
      "Requirement already satisfied: tzdata>=2022.7 in /usr/local/lib/python3.11/dist-packages (from pandas>=1.2->seaborn->-r /content/drive/MyDrive/KoTA-309/APE/APE-Train-2/requirements.txt (line 6)) (2025.2)\n",
      "Requirement already satisfied: six>=1.5 in /usr/local/lib/python3.11/dist-packages (from python-dateutil>=2.7->matplotlib->-r /content/drive/MyDrive/KoTA-309/APE/APE-Train-2/requirements.txt (line 1)) (1.17.0)\n",
      "Requirement already satisfied: filelock in /usr/local/lib/python3.11/dist-packages (from torch>=1.9.1->kornia->-r /content/drive/MyDrive/KoTA-309/APE/APE-Train-2/requirements.txt (line 7)) (3.18.0)\n",
      "Requirement already satisfied: typing-extensions>=4.10.0 in /usr/local/lib/python3.11/dist-packages (from torch>=1.9.1->kornia->-r /content/drive/MyDrive/KoTA-309/APE/APE-Train-2/requirements.txt (line 7)) (4.14.0)\n",
      "Requirement already satisfied: networkx in /usr/local/lib/python3.11/dist-packages (from torch>=1.9.1->kornia->-r /content/drive/MyDrive/KoTA-309/APE/APE-Train-2/requirements.txt (line 7)) (3.5)\n",
      "Requirement already satisfied: jinja2 in /usr/local/lib/python3.11/dist-packages (from torch>=1.9.1->kornia->-r /content/drive/MyDrive/KoTA-309/APE/APE-Train-2/requirements.txt (line 7)) (3.1.6)\n",
      "Requirement already satisfied: fsspec in /usr/local/lib/python3.11/dist-packages (from torch>=1.9.1->kornia->-r /content/drive/MyDrive/KoTA-309/APE/APE-Train-2/requirements.txt (line 7)) (2025.3.2)\n",
      "Collecting nvidia-cuda-nvrtc-cu12==12.4.127 (from torch>=1.9.1->kornia->-r /content/drive/MyDrive/KoTA-309/APE/APE-Train-2/requirements.txt (line 7))\n",
      "  Downloading nvidia_cuda_nvrtc_cu12-12.4.127-py3-none-manylinux2014_x86_64.whl.metadata (1.5 kB)\n",
      "Collecting nvidia-cuda-runtime-cu12==12.4.127 (from torch>=1.9.1->kornia->-r /content/drive/MyDrive/KoTA-309/APE/APE-Train-2/requirements.txt (line 7))\n",
      "  Downloading nvidia_cuda_runtime_cu12-12.4.127-py3-none-manylinux2014_x86_64.whl.metadata (1.5 kB)\n",
      "Collecting nvidia-cuda-cupti-cu12==12.4.127 (from torch>=1.9.1->kornia->-r /content/drive/MyDrive/KoTA-309/APE/APE-Train-2/requirements.txt (line 7))\n",
      "  Downloading nvidia_cuda_cupti_cu12-12.4.127-py3-none-manylinux2014_x86_64.whl.metadata (1.6 kB)\n",
      "Collecting nvidia-cudnn-cu12==9.1.0.70 (from torch>=1.9.1->kornia->-r /content/drive/MyDrive/KoTA-309/APE/APE-Train-2/requirements.txt (line 7))\n",
      "  Downloading nvidia_cudnn_cu12-9.1.0.70-py3-none-manylinux2014_x86_64.whl.metadata (1.6 kB)\n",
      "Collecting nvidia-cublas-cu12==12.4.5.8 (from torch>=1.9.1->kornia->-r /content/drive/MyDrive/KoTA-309/APE/APE-Train-2/requirements.txt (line 7))\n",
      "  Downloading nvidia_cublas_cu12-12.4.5.8-py3-none-manylinux2014_x86_64.whl.metadata (1.5 kB)\n",
      "Collecting nvidia-cufft-cu12==11.2.1.3 (from torch>=1.9.1->kornia->-r /content/drive/MyDrive/KoTA-309/APE/APE-Train-2/requirements.txt (line 7))\n",
      "  Downloading nvidia_cufft_cu12-11.2.1.3-py3-none-manylinux2014_x86_64.whl.metadata (1.5 kB)\n",
      "Collecting nvidia-curand-cu12==10.3.5.147 (from torch>=1.9.1->kornia->-r /content/drive/MyDrive/KoTA-309/APE/APE-Train-2/requirements.txt (line 7))\n",
      "  Downloading nvidia_curand_cu12-10.3.5.147-py3-none-manylinux2014_x86_64.whl.metadata (1.5 kB)\n",
      "Collecting nvidia-cusolver-cu12==11.6.1.9 (from torch>=1.9.1->kornia->-r /content/drive/MyDrive/KoTA-309/APE/APE-Train-2/requirements.txt (line 7))\n",
      "  Downloading nvidia_cusolver_cu12-11.6.1.9-py3-none-manylinux2014_x86_64.whl.metadata (1.6 kB)\n",
      "Collecting nvidia-cusparse-cu12==12.3.1.170 (from torch>=1.9.1->kornia->-r /content/drive/MyDrive/KoTA-309/APE/APE-Train-2/requirements.txt (line 7))\n",
      "  Downloading nvidia_cusparse_cu12-12.3.1.170-py3-none-manylinux2014_x86_64.whl.metadata (1.6 kB)\n",
      "Requirement already satisfied: nvidia-cusparselt-cu12==0.6.2 in /usr/local/lib/python3.11/dist-packages (from torch>=1.9.1->kornia->-r /content/drive/MyDrive/KoTA-309/APE/APE-Train-2/requirements.txt (line 7)) (0.6.2)\n",
      "Requirement already satisfied: nvidia-nccl-cu12==2.21.5 in /usr/local/lib/python3.11/dist-packages (from torch>=1.9.1->kornia->-r /content/drive/MyDrive/KoTA-309/APE/APE-Train-2/requirements.txt (line 7)) (2.21.5)\n",
      "Requirement already satisfied: nvidia-nvtx-cu12==12.4.127 in /usr/local/lib/python3.11/dist-packages (from torch>=1.9.1->kornia->-r /content/drive/MyDrive/KoTA-309/APE/APE-Train-2/requirements.txt (line 7)) (12.4.127)\n",
      "Collecting nvidia-nvjitlink-cu12==12.4.127 (from torch>=1.9.1->kornia->-r /content/drive/MyDrive/KoTA-309/APE/APE-Train-2/requirements.txt (line 7))\n",
      "  Downloading nvidia_nvjitlink_cu12-12.4.127-py3-none-manylinux2014_x86_64.whl.metadata (1.5 kB)\n",
      "Requirement already satisfied: triton==3.2.0 in /usr/local/lib/python3.11/dist-packages (from torch>=1.9.1->kornia->-r /content/drive/MyDrive/KoTA-309/APE/APE-Train-2/requirements.txt (line 7)) (3.2.0)\n",
      "Requirement already satisfied: sympy==1.13.1 in /usr/local/lib/python3.11/dist-packages (from torch>=1.9.1->kornia->-r /content/drive/MyDrive/KoTA-309/APE/APE-Train-2/requirements.txt (line 7)) (1.13.1)\n",
      "Requirement already satisfied: mpmath<1.4,>=1.1.0 in /usr/local/lib/python3.11/dist-packages (from sympy==1.13.1->torch>=1.9.1->kornia->-r /content/drive/MyDrive/KoTA-309/APE/APE-Train-2/requirements.txt (line 7)) (1.3.0)\n",
      "Requirement already satisfied: MarkupSafe>=2.0 in /usr/local/lib/python3.11/dist-packages (from jinja2->torch>=1.9.1->kornia->-r /content/drive/MyDrive/KoTA-309/APE/APE-Train-2/requirements.txt (line 7)) (3.0.2)\n",
      "Downloading rasterio-1.4.3-cp311-cp311-manylinux_2_17_x86_64.manylinux2014_x86_64.whl (22.2 MB)\n",
      "\u001b[2K   \u001b[90m━━━━━━━━━━━━━━━━━━━━━━━━━━━━━━━━━━━━━━━━\u001b[0m \u001b[32m22.2/22.2 MB\u001b[0m \u001b[31m70.2 MB/s\u001b[0m eta \u001b[36m0:00:00\u001b[0m\n",
      "\u001b[?25hDownloading kornia-0.8.1-py2.py3-none-any.whl (1.1 MB)\n",
      "\u001b[2K   \u001b[90m━━━━━━━━━━━━━━━━━━━━━━━━━━━━━━━━━━━━━━━━\u001b[0m \u001b[32m1.1/1.1 MB\u001b[0m \u001b[31m52.2 MB/s\u001b[0m eta \u001b[36m0:00:00\u001b[0m\n",
      "\u001b[?25hDownloading cligj-0.7.2-py3-none-any.whl (7.1 kB)\n",
      "Downloading kornia_rs-0.1.9-cp311-cp311-manylinux_2_17_x86_64.manylinux2014_x86_64.whl (2.8 MB)\n",
      "\u001b[2K   \u001b[90m━━━━━━━━━━━━━━━━━━━━━━━━━━━━━━━━━━━━━━━━\u001b[0m \u001b[32m2.8/2.8 MB\u001b[0m \u001b[31m76.0 MB/s\u001b[0m eta \u001b[36m0:00:00\u001b[0m\n",
      "\u001b[?25hDownloading nvidia_cublas_cu12-12.4.5.8-py3-none-manylinux2014_x86_64.whl (363.4 MB)\n",
      "\u001b[2K   \u001b[90m━━━━━━━━━━━━━━━━━━━━━━━━━━━━━━━━━━━━━━━━\u001b[0m \u001b[32m363.4/363.4 MB\u001b[0m \u001b[31m1.4 MB/s\u001b[0m eta \u001b[36m0:00:00\u001b[0m\n",
      "\u001b[?25hDownloading nvidia_cuda_cupti_cu12-12.4.127-py3-none-manylinux2014_x86_64.whl (13.8 MB)\n",
      "\u001b[2K   \u001b[90m━━━━━━━━━━━━━━━━━━━━━━━━━━━━━━━━━━━━━━━━\u001b[0m \u001b[32m13.8/13.8 MB\u001b[0m \u001b[31m83.7 MB/s\u001b[0m eta \u001b[36m0:00:00\u001b[0m\n",
      "\u001b[?25hDownloading nvidia_cuda_nvrtc_cu12-12.4.127-py3-none-manylinux2014_x86_64.whl (24.6 MB)\n",
      "\u001b[2K   \u001b[90m━━━━━━━━━━━━━━━━━━━━━━━━━━━━━━━━━━━━━━━━\u001b[0m \u001b[32m24.6/24.6 MB\u001b[0m \u001b[31m56.2 MB/s\u001b[0m eta \u001b[36m0:00:00\u001b[0m\n",
      "\u001b[?25hDownloading nvidia_cuda_runtime_cu12-12.4.127-py3-none-manylinux2014_x86_64.whl (883 kB)\n",
      "\u001b[2K   \u001b[90m━━━━━━━━━━━━━━━━━━━━━━━━━━━━━━━━━━━━━━━━\u001b[0m \u001b[32m883.7/883.7 kB\u001b[0m \u001b[31m39.4 MB/s\u001b[0m eta \u001b[36m0:00:00\u001b[0m\n",
      "\u001b[?25hDownloading nvidia_cudnn_cu12-9.1.0.70-py3-none-manylinux2014_x86_64.whl (664.8 MB)\n",
      "\u001b[2K   \u001b[90m━━━━━━━━━━━━━━━━━━━━━━━━━━━━━━━━━━━━━━━━\u001b[0m \u001b[32m664.8/664.8 MB\u001b[0m \u001b[31m2.3 MB/s\u001b[0m eta \u001b[36m0:00:00\u001b[0m\n",
      "\u001b[?25hDownloading nvidia_cufft_cu12-11.2.1.3-py3-none-manylinux2014_x86_64.whl (211.5 MB)\n",
      "\u001b[2K   \u001b[90m━━━━━━━━━━━━━━━━━━━━━━━━━━━━━━━━━━━━━━━━\u001b[0m \u001b[32m211.5/211.5 MB\u001b[0m \u001b[31m5.4 MB/s\u001b[0m eta \u001b[36m0:00:00\u001b[0m\n",
      "\u001b[?25hDownloading nvidia_curand_cu12-10.3.5.147-py3-none-manylinux2014_x86_64.whl (56.3 MB)\n",
      "\u001b[2K   \u001b[90m━━━━━━━━━━━━━━━━━━━━━━━━━━━━━━━━━━━━━━━━\u001b[0m \u001b[32m56.3/56.3 MB\u001b[0m \u001b[31m10.3 MB/s\u001b[0m eta \u001b[36m0:00:00\u001b[0m\n",
      "\u001b[?25hDownloading nvidia_cusolver_cu12-11.6.1.9-py3-none-manylinux2014_x86_64.whl (127.9 MB)\n",
      "\u001b[2K   \u001b[90m━━━━━━━━━━━━━━━━━━━━━━━━━━━━━━━━━━━━━━━━\u001b[0m \u001b[32m127.9/127.9 MB\u001b[0m \u001b[31m8.9 MB/s\u001b[0m eta \u001b[36m0:00:00\u001b[0m\n",
      "\u001b[?25hDownloading nvidia_cusparse_cu12-12.3.1.170-py3-none-manylinux2014_x86_64.whl (207.5 MB)\n",
      "\u001b[2K   \u001b[90m━━━━━━━━━━━━━━━━━━━━━━━━━━━━━━━━━━━━━━━━\u001b[0m \u001b[32m207.5/207.5 MB\u001b[0m \u001b[31m5.0 MB/s\u001b[0m eta \u001b[36m0:00:00\u001b[0m\n",
      "\u001b[?25hDownloading nvidia_nvjitlink_cu12-12.4.127-py3-none-manylinux2014_x86_64.whl (21.1 MB)\n",
      "\u001b[2K   \u001b[90m━━━━━━━━━━━━━━━━━━━━━━━━━━━━━━━━━━━━━━━━\u001b[0m \u001b[32m21.1/21.1 MB\u001b[0m \u001b[31m48.3 MB/s\u001b[0m eta \u001b[36m0:00:00\u001b[0m\n",
      "\u001b[?25hDownloading affine-2.4.0-py3-none-any.whl (15 kB)\n",
      "Downloading click_plugins-1.1.1-py2.py3-none-any.whl (7.5 kB)\n",
      "Installing collected packages: nvidia-nvjitlink-cu12, nvidia-curand-cu12, nvidia-cufft-cu12, nvidia-cuda-runtime-cu12, nvidia-cuda-nvrtc-cu12, nvidia-cuda-cupti-cu12, nvidia-cublas-cu12, kornia_rs, cligj, click-plugins, affine, rasterio, nvidia-cusparse-cu12, nvidia-cudnn-cu12, nvidia-cusolver-cu12, kornia\n",
      "  Attempting uninstall: nvidia-nvjitlink-cu12\n",
      "    Found existing installation: nvidia-nvjitlink-cu12 12.5.82\n",
      "    Uninstalling nvidia-nvjitlink-cu12-12.5.82:\n",
      "      Successfully uninstalled nvidia-nvjitlink-cu12-12.5.82\n",
      "  Attempting uninstall: nvidia-curand-cu12\n",
      "    Found existing installation: nvidia-curand-cu12 10.3.6.82\n",
      "    Uninstalling nvidia-curand-cu12-10.3.6.82:\n",
      "      Successfully uninstalled nvidia-curand-cu12-10.3.6.82\n",
      "  Attempting uninstall: nvidia-cufft-cu12\n",
      "    Found existing installation: nvidia-cufft-cu12 11.2.3.61\n",
      "    Uninstalling nvidia-cufft-cu12-11.2.3.61:\n",
      "      Successfully uninstalled nvidia-cufft-cu12-11.2.3.61\n",
      "  Attempting uninstall: nvidia-cuda-runtime-cu12\n",
      "    Found existing installation: nvidia-cuda-runtime-cu12 12.5.82\n",
      "    Uninstalling nvidia-cuda-runtime-cu12-12.5.82:\n",
      "      Successfully uninstalled nvidia-cuda-runtime-cu12-12.5.82\n",
      "  Attempting uninstall: nvidia-cuda-nvrtc-cu12\n",
      "    Found existing installation: nvidia-cuda-nvrtc-cu12 12.5.82\n",
      "    Uninstalling nvidia-cuda-nvrtc-cu12-12.5.82:\n",
      "      Successfully uninstalled nvidia-cuda-nvrtc-cu12-12.5.82\n",
      "  Attempting uninstall: nvidia-cuda-cupti-cu12\n",
      "    Found existing installation: nvidia-cuda-cupti-cu12 12.5.82\n",
      "    Uninstalling nvidia-cuda-cupti-cu12-12.5.82:\n",
      "      Successfully uninstalled nvidia-cuda-cupti-cu12-12.5.82\n",
      "  Attempting uninstall: nvidia-cublas-cu12\n",
      "    Found existing installation: nvidia-cublas-cu12 12.5.3.2\n",
      "    Uninstalling nvidia-cublas-cu12-12.5.3.2:\n",
      "      Successfully uninstalled nvidia-cublas-cu12-12.5.3.2\n",
      "  Attempting uninstall: nvidia-cusparse-cu12\n",
      "    Found existing installation: nvidia-cusparse-cu12 12.5.1.3\n",
      "    Uninstalling nvidia-cusparse-cu12-12.5.1.3:\n",
      "      Successfully uninstalled nvidia-cusparse-cu12-12.5.1.3\n",
      "  Attempting uninstall: nvidia-cudnn-cu12\n",
      "    Found existing installation: nvidia-cudnn-cu12 9.3.0.75\n",
      "    Uninstalling nvidia-cudnn-cu12-9.3.0.75:\n",
      "      Successfully uninstalled nvidia-cudnn-cu12-9.3.0.75\n",
      "  Attempting uninstall: nvidia-cusolver-cu12\n",
      "    Found existing installation: nvidia-cusolver-cu12 11.6.3.83\n",
      "    Uninstalling nvidia-cusolver-cu12-11.6.3.83:\n",
      "      Successfully uninstalled nvidia-cusolver-cu12-11.6.3.83\n",
      "Successfully installed affine-2.4.0 click-plugins-1.1.1 cligj-0.7.2 kornia-0.8.1 kornia_rs-0.1.9 nvidia-cublas-cu12-12.4.5.8 nvidia-cuda-cupti-cu12-12.4.127 nvidia-cuda-nvrtc-cu12-12.4.127 nvidia-cuda-runtime-cu12-12.4.127 nvidia-cudnn-cu12-9.1.0.70 nvidia-cufft-cu12-11.2.1.3 nvidia-curand-cu12-10.3.5.147 nvidia-cusolver-cu12-11.6.1.9 nvidia-cusparse-cu12-12.3.1.170 nvidia-nvjitlink-cu12-12.4.127 rasterio-1.4.3\n"
     ]
    }
   ],
   "source": [
    "%pip install -r \"../requirements.txt\""
   ]
  },
  {
   "cell_type": "markdown",
   "metadata": {
    "id": "gqOJAMebIfEQ"
   },
   "source": [
    "# Import Library"
   ]
  },
  {
   "cell_type": "markdown",
   "metadata": {
    "id": "uXHgLa5kIo--"
   },
   "source": [
    "Code untuk melakukan import library library yang dibutuhkan"
   ]
  },
  {
   "cell_type": "code",
   "execution_count": null,
   "metadata": {
    "executionInfo": {
     "elapsed": 26781,
     "status": "ok",
     "timestamp": 1750774131187,
     "user": {
      "displayName": "Bimbingan TG 2025",
      "userId": "17786358260686151756"
     },
     "user_tz": -420
    },
    "id": "PVZY6bWJH3fd"
   },
   "outputs": [],
   "source": [
    "import os\n",
    "import numpy as np\n",
    "import torch\n",
    "import torch.nn as nn\n",
    "import torch.optim as optim\n",
    "import torch.nn.functional as F\n",
    "import torchvision.transforms as transforms\n",
    "import kornia.augmentation as K\n",
    "from torch.utils.data import Dataset, DataLoader, random_split\n",
    "import torchvision.models as models\n",
    "import matplotlib.pyplot as plt\n",
    "from sklearn.metrics import accuracy_score, precision_recall_fscore_support, confusion_matrix\n",
    "import seaborn as sns\n",
    "import rasterio\n",
    "import datetime\n",
    "from tqdm import tqdm\n",
    "import time\n",
    "from PIL import Image\n",
    "import csv\n",
    "import random\n",
    "import pandas as pd\n",
    "import zipfie"
   ]
  },
  {
   "cell_type": "markdown",
   "metadata": {
    "id": "7LzgaM-rJWfS"
   },
   "source": [
    "# Data Preparation"
   ]
  },
  {
   "cell_type": "markdown",
   "metadata": {
    "id": "oET2MtFLJcl_"
   },
   "source": [
    "Inisialisasi Class Mempersiapkan Dataset"
   ]
  },
  {
   "cell_type": "code",
   "execution_count": null,
   "metadata": {
    "id": "247H1qDPIhfq"
   },
   "outputs": [],
   "source": [
    "class RandomAugmentation(nn.Module):\n",
    "    def __init__(self):\n",
    "        super().__init__()\n",
    "        self.aug = nn.Sequential(\n",
    "            K.RandomHorizontalFlip(p=0.5),\n",
    "            K.RandomVerticalFlip(p=0.5),\n",
    "            K.RandomRotation(degrees=(0, 360), p=0.5, resample=\"bilinear\")\n",
    "        )\n",
    "\n",
    "    def forward(self, image, mask):\n",
    "        # image: Tensor [C, H, W], mask: Tensor [H, W]\n",
    "        image = image.unsqueeze(0)  # -> [1, C, H, W]\n",
    "        mask  = mask.unsqueeze(0).unsqueeze(0).float()  # -> [1, 1, H, W]\n",
    "\n",
    "        # Apply same transformation to both\n",
    "        out = self.aug(torch.cat([image, mask], dim=1))  # [1, C+1, H, W]\n",
    "\n",
    "        image_aug = out[:, :-1, :, :].squeeze(0)  # [C, H, W]\n",
    "        mask_aug = out[:, -1, :, :].squeeze(0).long()  # [H, W]\n",
    "\n",
    "        return image_aug, mask_aug"
   ]
  },
  {
   "cell_type": "code",
   "execution_count": null,
   "metadata": {
    "id": "bEV1wrmrzJjf"
   },
   "outputs": [],
   "source": [
    "# ========== 2. Dataset ==========\n",
    "class SatelliteDataset(Dataset):\n",
    "    def __init__(self, image_dir, mask_dir, transform=None):\n",
    "        self.image_dir = image_dir\n",
    "        self.mask_dir = mask_dir\n",
    "        self.transform = transform\n",
    "        self.images = sorted([f for f in os.listdir(image_dir) if f.endswith(\".tif\")])\n",
    "        self.masks  = sorted([f for f in os.listdir(mask_dir)  if f.endswith(\".png\")])\n",
    "\n",
    "    def __len__(self):\n",
    "        return len(self.images)\n",
    "\n",
    "    def __getitem__(self, idx):\n",
    "        img_path = os.path.join(self.image_dir, self.images[idx])\n",
    "        mask_path = os.path.join(self.mask_dir, self.masks[idx])\n",
    "\n",
    "        # Read 16-bit image with rasterio\n",
    "        with rasterio.open(img_path) as src:\n",
    "            image = src.read().astype(np.float32) / 65535.0  # normalize\n",
    "\n",
    "        image = torch.from_numpy(image).float()  # (C, H, W)\n",
    "\n",
    "        # Load mask\n",
    "        mask = np.array(Image.open(mask_path))\n",
    "        mask = torch.tensor(mask, dtype=torch.long)  # (H, W)\n",
    "\n",
    "        if self.transform:\n",
    "            image, mask = self.transform(image, mask)\n",
    "\n",
    "        return image, mask"
   ]
  },
  {
   "cell_type": "markdown",
   "metadata": {
    "id": "GLDEcSDsJnma"
   },
   "source": [
    "Load Dataset"
   ]
  },
  {
   "cell_type": "code",
   "execution_count": null,
   "metadata": {},
   "outputs": [],
   "source": [
    "image_dir = \"dataset/dataset_16bit\"\n",
    "mask_dir = \"dataset/label_index\"\n",
    "\n",
    "# Validasi apakah folder benar-benar ada\n",
    "assert os.path.exists(image_dir), f\"Folder gambar tidak ditemukan: {image_dir}\"\n",
    "assert os.path.exists(mask_dir), f\"Folder label tidak ditemukan: {mask_dir}\"\n",
    "\n",
    "print(\"✅ Path valid. Siap melanjutkan...\")"
   ]
  },
  {
   "cell_type": "markdown",
   "metadata": {
    "id": "k5kacRb--mf-"
   },
   "source": [
    "Train 80, Validation 20"
   ]
  },
  {
   "cell_type": "code",
   "execution_count": null,
   "metadata": {
    "id": "2knOUVlqzTMa"
   },
   "outputs": [],
   "source": [
    "# ========== 3. Data Preparation ==========\n",
    "full_dataset = SatelliteDataset(image_dir, mask_dir)\n",
    "\n",
    "batch_size = 16\n",
    "\n",
    "# Split 80% train, 20% validation\n",
    "total_size = len(full_dataset)\n",
    "val_size = int(0.2 * total_size)\n",
    "train_size = total_size - val_size\n",
    "\n",
    "generator = torch.Generator().manual_seed(42)\n",
    "train_dataset, val_dataset = random_split(full_dataset, [train_size, val_size], generator=generator)\n",
    "\n",
    "# Ganti transform hanya pada train_dataset\n",
    "train_dataset.dataset.transform = RandomAugmentation()  # assign transform to dataset inside Subset\n",
    "\n",
    "# ========== 4. DataLoaders ==========\n",
    "train_loader = DataLoader(train_dataset, batch_size=batch_size, shuffle=True)\n",
    "val_loader = DataLoader(val_dataset, batch_size=batch_size, shuffle=False)"
   ]
  },
  {
   "cell_type": "code",
   "execution_count": null,
   "metadata": {
    "colab": {
     "base_uri": "https://localhost:8080/"
    },
    "executionInfo": {
     "elapsed": 10,
     "status": "ok",
     "timestamp": 1750632948819,
     "user": {
      "displayName": "Bimbingan TG 2025",
      "userId": "17786358260686151756"
     },
     "user_tz": -420
    },
    "id": "zB7Nlmey-INF",
    "outputId": "34b42ee4-8aca-4fd6-f130-d62762a6f215"
   },
   "outputs": [
    {
     "name": "stdout",
     "output_type": "stream",
     "text": [
      "Jumlah data latih: 8100\n",
      "Jumlah data tes  : 2025\n"
     ]
    }
   ],
   "source": [
    "print(\"Jumlah data latih:\", len(train_dataset))\n",
    "print(\"Jumlah data tes  :\", len(test_dataset))"
   ]
  },
  {
   "cell_type": "code",
   "execution_count": null,
   "metadata": {
    "colab": {
     "base_uri": "https://localhost:8080/"
    },
    "executionInfo": {
     "elapsed": 34,
     "status": "ok",
     "timestamp": 1750354249141,
     "user": {
      "displayName": "Bimbingan TG 2025",
      "userId": "17786358260686151756"
     },
     "user_tz": -420
    },
    "id": "eBRGwNlW3ule",
    "outputId": "f5629356-b874-4ae3-ed9a-ad805a45c5e8"
   },
   "outputs": [
    {
     "name": "stdout",
     "output_type": "stream",
     "text": [
      "Total dataset: 10125\n"
     ]
    }
   ],
   "source": [
    "print(\"Total dataset:\", len(SatelliteDataset(image_dir, mask_dir)))"
   ]
  },
  {
   "cell_type": "markdown",
   "metadata": {
    "id": "iMny3YYfKF4Z"
   },
   "source": [
    "# Modeling"
   ]
  },
  {
   "cell_type": "markdown",
   "metadata": {
    "id": "QubUJiPhKMMN"
   },
   "source": [
    "SK-ResNeXt50 Encoder Code"
   ]
  },
  {
   "cell_type": "code",
   "execution_count": null,
   "metadata": {
    "id": "0TSjGziOJ0MM"
   },
   "outputs": [],
   "source": [
    "class SKConv(nn.Module):\n",
    "    def __init__(self, channels, stride=1, groups=32, reduction=16):\n",
    "        super(SKConv, self).__init__()\n",
    "        d = max(channels // reduction, 4)\n",
    "\n",
    "        # Two separate convolutional branches\n",
    "        self.conv3 = nn.Conv2d(channels, channels, kernel_size=3, stride=stride, padding=1, groups=groups, bias=False)\n",
    "        self.bn3 = nn.BatchNorm2d(channels)\n",
    "\n",
    "        self.conv5 = nn.Conv2d(channels, channels, kernel_size=3, stride=stride, padding=2, dilation=2, groups=groups, bias=False)\n",
    "        self.bn5 = nn.BatchNorm2d(channels)\n",
    "\n",
    "        self.relu = nn.ReLU(inplace=True)\n",
    "\n",
    "        # Squeeze-and-Excitation (SK attention)\n",
    "        self.global_pool = nn.AdaptiveAvgPool2d(1)\n",
    "        self.fc1 = nn.Conv2d(channels, d, kernel_size=1, bias=False)\n",
    "        self.fc2 = nn.Conv2d(d, channels * 2, kernel_size=1, bias=False)\n",
    "\n",
    "        self.softmax = nn.Softmax(dim=1)\n",
    "\n",
    "    def forward(self, x):\n",
    "        x3 = self.relu(self.bn3(self.conv3(x)))  # branch 1\n",
    "        x5 = self.relu(self.bn5(self.conv5(x)))  # branch 2\n",
    "\n",
    "        feats = torch.stack([x3, x5], dim=1)  # shape: (B, 2, C, H, W)\n",
    "\n",
    "        # Fuse\n",
    "        u = x3 + x5\n",
    "        s = self.global_pool(u)\n",
    "        z = self.fc1(s)\n",
    "        a_b = self.fc2(z).view(x.size(0), 2, x.size(1), 1, 1)  # shape: (B, 2, C, 1, 1)\n",
    "        a_b = self.softmax(a_b)\n",
    "\n",
    "        out = (feats * a_b).sum(dim=1)\n",
    "        return out\n",
    "\n",
    "\n",
    "class resnext_block(nn.Module):\n",
    "    def __init__(self, in_channels, cardinality, bwidth, idt_downsample=None, stride=1):\n",
    "        super(resnext_block, self).__init__()\n",
    "        self.expansion = 2\n",
    "        out_channels = cardinality * bwidth\n",
    "\n",
    "        self.conv1 = nn.Conv2d(in_channels, out_channels, kernel_size=1, stride=1, padding=0, bias=False)\n",
    "        self.bn1 = nn.BatchNorm2d(out_channels)\n",
    "\n",
    "        # Replaced conv2 with SKConv\n",
    "        self.skconv = SKConv(out_channels, stride=stride, groups=cardinality)\n",
    "\n",
    "        self.conv3 = nn.Conv2d(out_channels, out_channels * self.expansion, kernel_size=1, stride=1, padding=0, bias=False)\n",
    "        self.bn3 = nn.BatchNorm2d(out_channels * self.expansion)\n",
    "\n",
    "        self.relu = nn.ReLU(inplace=True)\n",
    "        self.identity_downsample = idt_downsample\n",
    "\n",
    "    def forward(self, x):\n",
    "        identity = x\n",
    "\n",
    "        out = self.conv1(x)\n",
    "        out = self.bn1(out)\n",
    "        out = self.relu(out)\n",
    "\n",
    "        out = self.skconv(out)\n",
    "\n",
    "        out = self.conv3(out)\n",
    "        out = self.bn3(out)\n",
    "\n",
    "        if self.identity_downsample is not None:\n",
    "            identity = self.identity_downsample(identity)\n",
    "\n",
    "        out += identity\n",
    "        out = self.relu(out)\n",
    "        return out\n",
    "\n",
    "# == SKResNeXt50 Encoder ==\n",
    "class SKResNeXt(nn.Module):\n",
    "    def __init__(self, resnet_block, layers, cardinality, bwidth, img_channels, num_classes):\n",
    "        super(SKResNeXt, self).__init__()\n",
    "        self.in_channels = 64\n",
    "        self.cardinality = cardinality\n",
    "        self.bwidth = bwidth\n",
    "\n",
    "        self.stem = nn.Sequential(\n",
    "            nn.Conv2d(img_channels, 64, kernel_size=7, stride=2, padding=3, bias=False),\n",
    "            nn.BatchNorm2d(64),\n",
    "            nn.ReLU(inplace=True)\n",
    "        )\n",
    "        self.maxpool = nn.MaxPool2d(kernel_size=3, stride=2, padding=1)\n",
    "        self.layer1 = self._layers(resnet_block, layers[0], stride=1)\n",
    "        self.layer2 = self._layers(resnet_block, layers[1], stride=2)\n",
    "        self.layer3 = self._layers(resnet_block, layers[2], stride=2)\n",
    "        self.layer4 = self._layers(resnet_block, layers[3], stride=2)\n",
    "\n",
    "    def forward(self, x):\n",
    "        x0 = self.stem(x)\n",
    "        x0p = self.maxpool(x0)\n",
    "        x1 = self.layer1(x0p)\n",
    "        x2 = self.layer2(x1)\n",
    "        x3 = self.layer3(x2)\n",
    "        x4 = self.layer4(x3)\n",
    "\n",
    "        return x0, x1, x2, x3, x4\n",
    "\n",
    "    def _layers(self, block, blocks, stride):\n",
    "        identity_downsample = None\n",
    "        out_channels = self.cardinality * self.bwidth\n",
    "        layers = []\n",
    "\n",
    "        if stride != 1 or self.in_channels != out_channels * 2:\n",
    "            identity_downsample = nn.Sequential(\n",
    "                nn.Conv2d(self.in_channels, out_channels * 2, kernel_size=1, stride=stride, bias=False),\n",
    "                nn.BatchNorm2d(out_channels * 2)\n",
    "            )\n",
    "\n",
    "        layers.append(block(self.in_channels, self.cardinality, self.bwidth, identity_downsample, stride))\n",
    "        self.in_channels = out_channels * 2\n",
    "\n",
    "        for _ in range(1, blocks):\n",
    "            layers.append(block(self.in_channels, self.cardinality, self.bwidth))\n",
    "\n",
    "        self.bwidth *= 2\n",
    "        return nn.Sequential(*layers)\n",
    "\n",
    "def SKResNeXt50(img_channels=4, num_classes=6, cardinality=32, bwidth=4):\n",
    "    return SKResNeXt(resnext_block, [3, 4, 6, 3], cardinality, bwidth, img_channels, num_classes)"
   ]
  },
  {
   "cell_type": "markdown",
   "metadata": {
    "id": "dmy8JW1k5Rhi"
   },
   "source": [
    "Data Dependent Up Sampling"
   ]
  },
  {
   "cell_type": "code",
   "execution_count": null,
   "metadata": {
    "id": "9yIKG_fi5LLi"
   },
   "outputs": [],
   "source": [
    "# === DUpsampling ===\n",
    "class DUpsampling(nn.Module):\n",
    "    def __init__(self, inplanes, scale, num_class, pad=0):\n",
    "        super(DUpsampling, self).__init__()\n",
    "        self.conv1 = nn.Conv2d(inplanes, num_class * scale * scale, kernel_size=1, padding=pad, bias=False)\n",
    "        self.scale = scale\n",
    "\n",
    "    def forward(self, x):\n",
    "        x = self.conv1(x)\n",
    "        N, C, H, W = x.size()\n",
    "        x_permuted = x.permute(0, 2, 3, 1)\n",
    "        x_permuted = x_permuted.contiguous().view(N, H, W * self.scale, C // self.scale)\n",
    "        x_permuted = x_permuted.permute(0, 2, 1, 3)\n",
    "        x_permuted = x_permuted.contiguous().view(N, W * self.scale, H * self.scale, C // (self.scale * self.scale))\n",
    "        x = x_permuted.permute(0, 3, 2, 1)\n",
    "        return x"
   ]
  },
  {
   "cell_type": "markdown",
   "metadata": {
    "id": "D2zk1swz5NwC"
   },
   "source": [
    "Attention Module (AM)"
   ]
  },
  {
   "cell_type": "code",
   "execution_count": null,
   "metadata": {
    "id": "d7y7oezq5M0m"
   },
   "outputs": [],
   "source": [
    "# === Attention Mechanisms ===\n",
    "def l2_norm(x):\n",
    "    return torch.einsum(\"bcn, bn->bcn\", x, 1 / torch.norm(x, p=2, dim=-2))\n",
    "\n",
    "class PositionLinearAttention(nn.Module):\n",
    "    def __init__(self, in_places, eps=1e-6):\n",
    "        super(PositionLinearAttention, self).__init__()\n",
    "        self.gamma = nn.Parameter(torch.zeros(1))\n",
    "        self.query_conv = nn.Conv2d(in_places, in_places // 8, kernel_size=1)\n",
    "        self.key_conv = nn.Conv2d(in_places, in_places // 8, kernel_size=1)\n",
    "        self.value_conv = nn.Conv2d(in_places, in_places, kernel_size=1)\n",
    "        self.eps = eps\n",
    "\n",
    "    def forward(self, x):\n",
    "        batch_size, chnnels, width, height = x.size()\n",
    "        Q = self.query_conv(x).view(batch_size, -1, width * height)\n",
    "        K = self.key_conv(x).view(batch_size, -1, width * height)\n",
    "        V = self.value_conv(x).view(batch_size, -1, width * height)\n",
    "\n",
    "        Q = l2_norm(Q).permute(0, 2, 1)\n",
    "        K = l2_norm(K)\n",
    "\n",
    "        tailor_sum = 1 / (width * height + torch.einsum(\"bnc, bc->bn\", Q, torch.sum(K, dim=-1) + self.eps))\n",
    "        value_sum = torch.einsum(\"bcn->bc\", V).unsqueeze(-1).expand(-1, chnnels, width * height)\n",
    "\n",
    "        matrix = torch.einsum('bmn, bcn->bmc', K, V)\n",
    "        matrix_sum = value_sum + torch.einsum(\"bnm, bmc->bcn\", Q, matrix)\n",
    "\n",
    "        weight_value = torch.einsum(\"bcn, bn->bcn\", matrix_sum, tailor_sum)\n",
    "        weight_value = weight_value.view(batch_size, chnnels, width, height)\n",
    "\n",
    "        return (x + self.gamma * weight_value).contiguous()\n",
    "\n",
    "class ChannelLinearAttention(nn.Module):\n",
    "    def __init__(self, eps=1e-6):\n",
    "        super(ChannelLinearAttention, self).__init__()\n",
    "        self.gamma = nn.Parameter(torch.zeros(1))\n",
    "        self.eps = eps\n",
    "\n",
    "    def forward(self, x):\n",
    "        batch_size, chnnels, width, height = x.size()\n",
    "        Q = x.view(batch_size, chnnels, -1)\n",
    "        K = x.view(batch_size, chnnels, -1)\n",
    "        V = x.view(batch_size, chnnels, -1)\n",
    "\n",
    "        Q = l2_norm(Q)\n",
    "        K = l2_norm(K).permute(0, 2, 1)\n",
    "\n",
    "        tailor_sum = 1 / (width * height + torch.einsum(\"bnc, bn->bc\", K, torch.sum(Q, dim=-2) + self.eps))\n",
    "        value_sum = torch.einsum(\"bcn->bn\", V).unsqueeze(-1).permute(0, 2, 1).expand(-1, chnnels, width * height)\n",
    "        matrix = torch.einsum('bcn, bnm->bcm', V, K)\n",
    "        matrix_sum = value_sum + torch.einsum(\"bcm, bmn->bcn\", matrix, Q)\n",
    "\n",
    "        weight_value = torch.einsum(\"bcn, bc->bcn\", matrix_sum, tailor_sum)\n",
    "        weight_value = weight_value.view(batch_size, chnnels, height, width)\n",
    "\n",
    "        return (x + self.gamma * weight_value).contiguous()\n",
    "\n",
    "class AttentionBlock(nn.Module):\n",
    "    def __init__(self, channels):\n",
    "        super(AttentionBlock, self).__init__()\n",
    "        self.position_attention = PositionLinearAttention(channels)\n",
    "        self.channel_attention = ChannelLinearAttention()\n",
    "\n",
    "    def forward(self, x):\n",
    "        x = self.position_attention(x)\n",
    "        x = self.channel_attention(x)\n",
    "        return x"
   ]
  },
  {
   "cell_type": "markdown",
   "metadata": {
    "id": "lv9swEmHKXh2"
   },
   "source": [
    "U-Net SK-ResNeXt50 Modifikasi"
   ]
  },
  {
   "cell_type": "code",
   "execution_count": null,
   "metadata": {
    "id": "jT1k-hF8Syt-"
   },
   "outputs": [],
   "source": [
    "# === U-Net SKResNeXt Decoder Modifikasi ===\n",
    "class UNet_SKResNeXt50_Modifikasi(nn.Module):\n",
    "    def __init__(self, in_channels=4, out_channels=6, cardinality=32, bwidth=4):\n",
    "        super(UNet_SKResNeXt50_Modifikasi, self).__init__()\n",
    "        self.encoder = SKResNeXt50(img_channels=in_channels, num_classes=out_channels, cardinality=cardinality, bwidth=bwidth)\n",
    "\n",
    "        self.expansion_filter = (cardinality * bwidth) * 2\n",
    "\n",
    "        self.up1 = DUpsampling(self.expansion_filter*8, 2, self.expansion_filter*4)\n",
    "        self.dec1 = self.conv_block(self.expansion_filter*8, self.expansion_filter*4)\n",
    "        self.dec1_att = AttentionBlock(self.expansion_filter*4)\n",
    "\n",
    "        self.up2 = DUpsampling(self.expansion_filter*4, 2, self.expansion_filter*2)\n",
    "        self.dec2 = self.conv_block(self.expansion_filter*4 + self.expansion_filter*4, self.expansion_filter*2)\n",
    "        self.dec2_att = AttentionBlock(self.expansion_filter*2)\n",
    "\n",
    "        self.up3 = DUpsampling(self.expansion_filter*2, 2, self.expansion_filter)\n",
    "        self.dec3 = self.conv_block(self.expansion_filter*2 + self.expansion_filter*2 + self.expansion_filter*4, self.expansion_filter)\n",
    "        self.dec3_att = AttentionBlock(self.expansion_filter)\n",
    "\n",
    "        self.up4 = DUpsampling(self.expansion_filter, 2, 128)\n",
    "        self.dec4 = self.conv_block(128 + 64 + self.expansion_filter + self.expansion_filter*2 + self.expansion_filter*4, 64)\n",
    "        self.dec4_att = AttentionBlock(64)\n",
    "\n",
    "        self.out_conv = nn.Conv2d(64, out_channels, kernel_size=1)\n",
    "\n",
    "    def conv_block(self, in_c, out_c):\n",
    "        return nn.Sequential(\n",
    "            nn.Conv2d(in_c, out_c, kernel_size=3, padding=1),\n",
    "            nn.ReLU(inplace=True),\n",
    "            nn.Conv2d(out_c, out_c, kernel_size=3, padding=1),\n",
    "            nn.ReLU(inplace=True),\n",
    "        )\n",
    "\n",
    "    def forward(self, x):\n",
    "        # Encoder\n",
    "        x0, x1, x2, x3, x4 = self.encoder(x)\n",
    "\n",
    "        # Decoder with dense connections\n",
    "        up1 = self.up1(x4)\n",
    "        d1_input = torch.cat([up1, x3], dim=1)\n",
    "        dec1_block = self.dec1(d1_input)\n",
    "        dec1 = self.dec1_att(dec1_block)\n",
    "\n",
    "        up2 = self.up2(dec1)\n",
    "        d2_input = torch.cat([\n",
    "            up2,\n",
    "            x2,\n",
    "            F.interpolate(dec1_block, size=x2.shape[2:], mode='bilinear', align_corners=False)\n",
    "        ], dim=1)\n",
    "        dec2_block = self.dec2(d2_input)\n",
    "        dec2 = self.dec2_att(dec2_block)\n",
    "\n",
    "        up3 = self.up3(dec2)\n",
    "        d3_input = torch.cat([\n",
    "            up3,\n",
    "            x1,\n",
    "            F.interpolate(dec2_block, size=x1.shape[2:], mode='bilinear', align_corners=False),\n",
    "            F.interpolate(dec1_block, size=x1.shape[2:], mode='bilinear', align_corners=False)\n",
    "        ], dim=1)\n",
    "        dec3_block = self.dec3(d3_input)\n",
    "        dec3 = self.dec3_att(dec3_block)\n",
    "\n",
    "        up4 = self.up4(dec3)\n",
    "        d4_input = torch.cat([\n",
    "            up4,\n",
    "            x0,\n",
    "            F.interpolate(dec3_block, size=x0.shape[2:], mode='bilinear', align_corners=False),\n",
    "            F.interpolate(dec2_block, size=x0.shape[2:], mode='bilinear', align_corners=False),\n",
    "            F.interpolate(dec1_block, size=x0.shape[2:], mode='bilinear', align_corners=False)\n",
    "        ], dim=1)\n",
    "        dec4_block = self.dec4(d4_input)\n",
    "        dec4 = self.dec4_att(dec4_block)\n",
    "\n",
    "        # Final output\n",
    "        out = self.out_conv(dec4)\n",
    "        out = F.interpolate(out, size=x.shape[2:], mode='bilinear', align_corners=False)\n",
    "        return out\n"
   ]
  },
  {
   "cell_type": "markdown",
   "metadata": {
    "id": "EhdeorxJKhGg"
   },
   "source": [
    "# Train"
   ]
  },
  {
   "cell_type": "code",
   "execution_count": null,
   "metadata": {
    "id": "5NkpHW0sKT12"
   },
   "outputs": [],
   "source": [
    "def pixel_accuracy(output, mask):\n",
    "    \"\"\"\n",
    "    Menghitung pixel-wise accuracy untuk semantic segmentation.\n",
    "\n",
    "    Args:\n",
    "        output (torch.Tensor): Output dari model, shape (B, C, H, W)\n",
    "        mask (torch.Tensor): Ground truth label, shape (B, H, W)\n",
    "\n",
    "    Returns:\n",
    "        float: Pixel accuracy (%)\n",
    "    \"\"\"\n",
    "    # Ambil prediksi kelas (argmax di dimensi channel)\n",
    "    preds = torch.argmax(output, dim=1)  # shape: (B, H, W)\n",
    "\n",
    "    # Hitung jumlah piksel yang benar\n",
    "    correct = (preds == mask).float().sum()\n",
    "    total = mask.numel()\n",
    "\n",
    "    return (correct / total).item() * 100"
   ]
  },
  {
   "cell_type": "code",
   "execution_count": null,
   "metadata": {
    "id": "h9ePtm59KT4A"
   },
   "outputs": [],
   "source": [
    "def evaluate(model, val_loader, device, criterion):\n",
    "    model.eval()\n",
    "    total_acc = 0\n",
    "    total_loss = 0\n",
    "    with torch.no_grad():\n",
    "        for images, masks in val_loader:\n",
    "            images, masks = images.to(device), masks.to(device)\n",
    "            outputs = model(images)\n",
    "\n",
    "            loss = criterion(outputs, masks)\n",
    "            acc = pixel_accuracy(outputs, masks)\n",
    "\n",
    "            total_loss += loss.item()\n",
    "            total_acc += acc\n",
    "\n",
    "    avg_loss = total_loss / len(val_loader)\n",
    "    avg_acc = total_acc / len(val_loader)\n",
    "    return avg_loss, avg_acc"
   ]
  },
  {
   "cell_type": "code",
   "execution_count": null,
   "metadata": {
    "id": "pg6GL59IGjOD"
   },
   "outputs": [],
   "source": [
    "# ========== Cek & Load Checkpoint ==========\n",
    "def get_latest_checkpoint(checkpoint_dir):\n",
    "    if not os.path.exists(checkpoint_dir):\n",
    "        return None\n",
    "    # checkpoints = [f for f in os.listdir(checkpoint_dir) if f.endswith('.pth')]\n",
    "    checkpoints = [f for f in os.listdir(checkpoint_dir) if f.endswith('.pt')]\n",
    "    if not checkpoints:\n",
    "        return None\n",
    "    checkpoints.sort(key=lambda x: int(x.split('_')[-1].split('.')[0]))\n",
    "    return os.path.join(checkpoint_dir, checkpoints[-1])"
   ]
  },
  {
   "cell_type": "code",
   "execution_count": null,
   "metadata": {
    "colab": {
     "base_uri": "https://localhost:8080/"
    },
    "executionInfo": {
     "elapsed": 891,
     "status": "ok",
     "timestamp": 1750632949809,
     "user": {
      "displayName": "Bimbingan TG 2025",
      "userId": "17786358260686151756"
     },
     "user_tz": -420
    },
    "id": "nA_fL-MoKjiK",
    "outputId": "bf1e709c-745a-4129-d4ce-898544f8101a"
   },
   "outputs": [
    {
     "name": "stdout",
     "output_type": "stream",
     "text": [
      "Device: cuda\n"
     ]
    }
   ],
   "source": [
    "# ========== 3. Training Setup ==========\n",
    "device = torch.device(\"cuda\" if torch.cuda.is_available() else \"cpu\")\n",
    "print(\"Device:\", device)\n",
    "\n",
    "model = UNet_SKResNeXt50_Modifikasi(in_channels=4, out_channels=6, cardinality=8, bwidth=14).to(device)\n",
    "\n",
    "criterion = nn.CrossEntropyLoss()\n",
    "\n",
    "optimizer = optim.Adam(model.parameters(), lr=0.0005)\n",
    "num_epochs = 120"
   ]
  },
  {
   "cell_type": "code",
   "execution_count": null,
   "metadata": {
    "colab": {
     "base_uri": "https://localhost:8080/"
    },
    "executionInfo": {
     "elapsed": 40,
     "status": "ok",
     "timestamp": 1750632949851,
     "user": {
      "displayName": "Bimbingan TG 2025",
      "userId": "17786358260686151756"
     },
     "user_tz": -420
    },
    "id": "3VcEm6DNK9UF",
    "outputId": "296417d4-84eb-4151-80d9-192ed4456096"
   },
   "outputs": [
    {
     "data": {
      "text/plain": [
       "UNet_SKResNeXt50_Modifikasi(\n",
       "  (encoder): SKResNeXt(\n",
       "    (stem): Sequential(\n",
       "      (0): Conv2d(4, 64, kernel_size=(7, 7), stride=(2, 2), padding=(3, 3), bias=False)\n",
       "      (1): BatchNorm2d(64, eps=1e-05, momentum=0.1, affine=True, track_running_stats=True)\n",
       "      (2): ReLU(inplace=True)\n",
       "    )\n",
       "    (maxpool): MaxPool2d(kernel_size=3, stride=2, padding=1, dilation=1, ceil_mode=False)\n",
       "    (layer1): Sequential(\n",
       "      (0): resnext_block(\n",
       "        (conv1): Conv2d(64, 112, kernel_size=(1, 1), stride=(1, 1), bias=False)\n",
       "        (bn1): BatchNorm2d(112, eps=1e-05, momentum=0.1, affine=True, track_running_stats=True)\n",
       "        (skconv): SKConv(\n",
       "          (conv3): Conv2d(112, 112, kernel_size=(3, 3), stride=(1, 1), padding=(1, 1), groups=8, bias=False)\n",
       "          (bn3): BatchNorm2d(112, eps=1e-05, momentum=0.1, affine=True, track_running_stats=True)\n",
       "          (conv5): Conv2d(112, 112, kernel_size=(3, 3), stride=(1, 1), padding=(2, 2), dilation=(2, 2), groups=8, bias=False)\n",
       "          (bn5): BatchNorm2d(112, eps=1e-05, momentum=0.1, affine=True, track_running_stats=True)\n",
       "          (relu): ReLU(inplace=True)\n",
       "          (global_pool): AdaptiveAvgPool2d(output_size=1)\n",
       "          (fc1): Conv2d(112, 7, kernel_size=(1, 1), stride=(1, 1), bias=False)\n",
       "          (fc2): Conv2d(7, 224, kernel_size=(1, 1), stride=(1, 1), bias=False)\n",
       "          (softmax): Softmax(dim=1)\n",
       "        )\n",
       "        (conv3): Conv2d(112, 224, kernel_size=(1, 1), stride=(1, 1), bias=False)\n",
       "        (bn3): BatchNorm2d(224, eps=1e-05, momentum=0.1, affine=True, track_running_stats=True)\n",
       "        (relu): ReLU(inplace=True)\n",
       "        (identity_downsample): Sequential(\n",
       "          (0): Conv2d(64, 224, kernel_size=(1, 1), stride=(1, 1), bias=False)\n",
       "          (1): BatchNorm2d(224, eps=1e-05, momentum=0.1, affine=True, track_running_stats=True)\n",
       "        )\n",
       "      )\n",
       "      (1): resnext_block(\n",
       "        (conv1): Conv2d(224, 112, kernel_size=(1, 1), stride=(1, 1), bias=False)\n",
       "        (bn1): BatchNorm2d(112, eps=1e-05, momentum=0.1, affine=True, track_running_stats=True)\n",
       "        (skconv): SKConv(\n",
       "          (conv3): Conv2d(112, 112, kernel_size=(3, 3), stride=(1, 1), padding=(1, 1), groups=8, bias=False)\n",
       "          (bn3): BatchNorm2d(112, eps=1e-05, momentum=0.1, affine=True, track_running_stats=True)\n",
       "          (conv5): Conv2d(112, 112, kernel_size=(3, 3), stride=(1, 1), padding=(2, 2), dilation=(2, 2), groups=8, bias=False)\n",
       "          (bn5): BatchNorm2d(112, eps=1e-05, momentum=0.1, affine=True, track_running_stats=True)\n",
       "          (relu): ReLU(inplace=True)\n",
       "          (global_pool): AdaptiveAvgPool2d(output_size=1)\n",
       "          (fc1): Conv2d(112, 7, kernel_size=(1, 1), stride=(1, 1), bias=False)\n",
       "          (fc2): Conv2d(7, 224, kernel_size=(1, 1), stride=(1, 1), bias=False)\n",
       "          (softmax): Softmax(dim=1)\n",
       "        )\n",
       "        (conv3): Conv2d(112, 224, kernel_size=(1, 1), stride=(1, 1), bias=False)\n",
       "        (bn3): BatchNorm2d(224, eps=1e-05, momentum=0.1, affine=True, track_running_stats=True)\n",
       "        (relu): ReLU(inplace=True)\n",
       "      )\n",
       "      (2): resnext_block(\n",
       "        (conv1): Conv2d(224, 112, kernel_size=(1, 1), stride=(1, 1), bias=False)\n",
       "        (bn1): BatchNorm2d(112, eps=1e-05, momentum=0.1, affine=True, track_running_stats=True)\n",
       "        (skconv): SKConv(\n",
       "          (conv3): Conv2d(112, 112, kernel_size=(3, 3), stride=(1, 1), padding=(1, 1), groups=8, bias=False)\n",
       "          (bn3): BatchNorm2d(112, eps=1e-05, momentum=0.1, affine=True, track_running_stats=True)\n",
       "          (conv5): Conv2d(112, 112, kernel_size=(3, 3), stride=(1, 1), padding=(2, 2), dilation=(2, 2), groups=8, bias=False)\n",
       "          (bn5): BatchNorm2d(112, eps=1e-05, momentum=0.1, affine=True, track_running_stats=True)\n",
       "          (relu): ReLU(inplace=True)\n",
       "          (global_pool): AdaptiveAvgPool2d(output_size=1)\n",
       "          (fc1): Conv2d(112, 7, kernel_size=(1, 1), stride=(1, 1), bias=False)\n",
       "          (fc2): Conv2d(7, 224, kernel_size=(1, 1), stride=(1, 1), bias=False)\n",
       "          (softmax): Softmax(dim=1)\n",
       "        )\n",
       "        (conv3): Conv2d(112, 224, kernel_size=(1, 1), stride=(1, 1), bias=False)\n",
       "        (bn3): BatchNorm2d(224, eps=1e-05, momentum=0.1, affine=True, track_running_stats=True)\n",
       "        (relu): ReLU(inplace=True)\n",
       "      )\n",
       "    )\n",
       "    (layer2): Sequential(\n",
       "      (0): resnext_block(\n",
       "        (conv1): Conv2d(224, 224, kernel_size=(1, 1), stride=(1, 1), bias=False)\n",
       "        (bn1): BatchNorm2d(224, eps=1e-05, momentum=0.1, affine=True, track_running_stats=True)\n",
       "        (skconv): SKConv(\n",
       "          (conv3): Conv2d(224, 224, kernel_size=(3, 3), stride=(2, 2), padding=(1, 1), groups=8, bias=False)\n",
       "          (bn3): BatchNorm2d(224, eps=1e-05, momentum=0.1, affine=True, track_running_stats=True)\n",
       "          (conv5): Conv2d(224, 224, kernel_size=(3, 3), stride=(2, 2), padding=(2, 2), dilation=(2, 2), groups=8, bias=False)\n",
       "          (bn5): BatchNorm2d(224, eps=1e-05, momentum=0.1, affine=True, track_running_stats=True)\n",
       "          (relu): ReLU(inplace=True)\n",
       "          (global_pool): AdaptiveAvgPool2d(output_size=1)\n",
       "          (fc1): Conv2d(224, 14, kernel_size=(1, 1), stride=(1, 1), bias=False)\n",
       "          (fc2): Conv2d(14, 448, kernel_size=(1, 1), stride=(1, 1), bias=False)\n",
       "          (softmax): Softmax(dim=1)\n",
       "        )\n",
       "        (conv3): Conv2d(224, 448, kernel_size=(1, 1), stride=(1, 1), bias=False)\n",
       "        (bn3): BatchNorm2d(448, eps=1e-05, momentum=0.1, affine=True, track_running_stats=True)\n",
       "        (relu): ReLU(inplace=True)\n",
       "        (identity_downsample): Sequential(\n",
       "          (0): Conv2d(224, 448, kernel_size=(1, 1), stride=(2, 2), bias=False)\n",
       "          (1): BatchNorm2d(448, eps=1e-05, momentum=0.1, affine=True, track_running_stats=True)\n",
       "        )\n",
       "      )\n",
       "      (1): resnext_block(\n",
       "        (conv1): Conv2d(448, 224, kernel_size=(1, 1), stride=(1, 1), bias=False)\n",
       "        (bn1): BatchNorm2d(224, eps=1e-05, momentum=0.1, affine=True, track_running_stats=True)\n",
       "        (skconv): SKConv(\n",
       "          (conv3): Conv2d(224, 224, kernel_size=(3, 3), stride=(1, 1), padding=(1, 1), groups=8, bias=False)\n",
       "          (bn3): BatchNorm2d(224, eps=1e-05, momentum=0.1, affine=True, track_running_stats=True)\n",
       "          (conv5): Conv2d(224, 224, kernel_size=(3, 3), stride=(1, 1), padding=(2, 2), dilation=(2, 2), groups=8, bias=False)\n",
       "          (bn5): BatchNorm2d(224, eps=1e-05, momentum=0.1, affine=True, track_running_stats=True)\n",
       "          (relu): ReLU(inplace=True)\n",
       "          (global_pool): AdaptiveAvgPool2d(output_size=1)\n",
       "          (fc1): Conv2d(224, 14, kernel_size=(1, 1), stride=(1, 1), bias=False)\n",
       "          (fc2): Conv2d(14, 448, kernel_size=(1, 1), stride=(1, 1), bias=False)\n",
       "          (softmax): Softmax(dim=1)\n",
       "        )\n",
       "        (conv3): Conv2d(224, 448, kernel_size=(1, 1), stride=(1, 1), bias=False)\n",
       "        (bn3): BatchNorm2d(448, eps=1e-05, momentum=0.1, affine=True, track_running_stats=True)\n",
       "        (relu): ReLU(inplace=True)\n",
       "      )\n",
       "      (2): resnext_block(\n",
       "        (conv1): Conv2d(448, 224, kernel_size=(1, 1), stride=(1, 1), bias=False)\n",
       "        (bn1): BatchNorm2d(224, eps=1e-05, momentum=0.1, affine=True, track_running_stats=True)\n",
       "        (skconv): SKConv(\n",
       "          (conv3): Conv2d(224, 224, kernel_size=(3, 3), stride=(1, 1), padding=(1, 1), groups=8, bias=False)\n",
       "          (bn3): BatchNorm2d(224, eps=1e-05, momentum=0.1, affine=True, track_running_stats=True)\n",
       "          (conv5): Conv2d(224, 224, kernel_size=(3, 3), stride=(1, 1), padding=(2, 2), dilation=(2, 2), groups=8, bias=False)\n",
       "          (bn5): BatchNorm2d(224, eps=1e-05, momentum=0.1, affine=True, track_running_stats=True)\n",
       "          (relu): ReLU(inplace=True)\n",
       "          (global_pool): AdaptiveAvgPool2d(output_size=1)\n",
       "          (fc1): Conv2d(224, 14, kernel_size=(1, 1), stride=(1, 1), bias=False)\n",
       "          (fc2): Conv2d(14, 448, kernel_size=(1, 1), stride=(1, 1), bias=False)\n",
       "          (softmax): Softmax(dim=1)\n",
       "        )\n",
       "        (conv3): Conv2d(224, 448, kernel_size=(1, 1), stride=(1, 1), bias=False)\n",
       "        (bn3): BatchNorm2d(448, eps=1e-05, momentum=0.1, affine=True, track_running_stats=True)\n",
       "        (relu): ReLU(inplace=True)\n",
       "      )\n",
       "      (3): resnext_block(\n",
       "        (conv1): Conv2d(448, 224, kernel_size=(1, 1), stride=(1, 1), bias=False)\n",
       "        (bn1): BatchNorm2d(224, eps=1e-05, momentum=0.1, affine=True, track_running_stats=True)\n",
       "        (skconv): SKConv(\n",
       "          (conv3): Conv2d(224, 224, kernel_size=(3, 3), stride=(1, 1), padding=(1, 1), groups=8, bias=False)\n",
       "          (bn3): BatchNorm2d(224, eps=1e-05, momentum=0.1, affine=True, track_running_stats=True)\n",
       "          (conv5): Conv2d(224, 224, kernel_size=(3, 3), stride=(1, 1), padding=(2, 2), dilation=(2, 2), groups=8, bias=False)\n",
       "          (bn5): BatchNorm2d(224, eps=1e-05, momentum=0.1, affine=True, track_running_stats=True)\n",
       "          (relu): ReLU(inplace=True)\n",
       "          (global_pool): AdaptiveAvgPool2d(output_size=1)\n",
       "          (fc1): Conv2d(224, 14, kernel_size=(1, 1), stride=(1, 1), bias=False)\n",
       "          (fc2): Conv2d(14, 448, kernel_size=(1, 1), stride=(1, 1), bias=False)\n",
       "          (softmax): Softmax(dim=1)\n",
       "        )\n",
       "        (conv3): Conv2d(224, 448, kernel_size=(1, 1), stride=(1, 1), bias=False)\n",
       "        (bn3): BatchNorm2d(448, eps=1e-05, momentum=0.1, affine=True, track_running_stats=True)\n",
       "        (relu): ReLU(inplace=True)\n",
       "      )\n",
       "    )\n",
       "    (layer3): Sequential(\n",
       "      (0): resnext_block(\n",
       "        (conv1): Conv2d(448, 448, kernel_size=(1, 1), stride=(1, 1), bias=False)\n",
       "        (bn1): BatchNorm2d(448, eps=1e-05, momentum=0.1, affine=True, track_running_stats=True)\n",
       "        (skconv): SKConv(\n",
       "          (conv3): Conv2d(448, 448, kernel_size=(3, 3), stride=(2, 2), padding=(1, 1), groups=8, bias=False)\n",
       "          (bn3): BatchNorm2d(448, eps=1e-05, momentum=0.1, affine=True, track_running_stats=True)\n",
       "          (conv5): Conv2d(448, 448, kernel_size=(3, 3), stride=(2, 2), padding=(2, 2), dilation=(2, 2), groups=8, bias=False)\n",
       "          (bn5): BatchNorm2d(448, eps=1e-05, momentum=0.1, affine=True, track_running_stats=True)\n",
       "          (relu): ReLU(inplace=True)\n",
       "          (global_pool): AdaptiveAvgPool2d(output_size=1)\n",
       "          (fc1): Conv2d(448, 28, kernel_size=(1, 1), stride=(1, 1), bias=False)\n",
       "          (fc2): Conv2d(28, 896, kernel_size=(1, 1), stride=(1, 1), bias=False)\n",
       "          (softmax): Softmax(dim=1)\n",
       "        )\n",
       "        (conv3): Conv2d(448, 896, kernel_size=(1, 1), stride=(1, 1), bias=False)\n",
       "        (bn3): BatchNorm2d(896, eps=1e-05, momentum=0.1, affine=True, track_running_stats=True)\n",
       "        (relu): ReLU(inplace=True)\n",
       "        (identity_downsample): Sequential(\n",
       "          (0): Conv2d(448, 896, kernel_size=(1, 1), stride=(2, 2), bias=False)\n",
       "          (1): BatchNorm2d(896, eps=1e-05, momentum=0.1, affine=True, track_running_stats=True)\n",
       "        )\n",
       "      )\n",
       "      (1): resnext_block(\n",
       "        (conv1): Conv2d(896, 448, kernel_size=(1, 1), stride=(1, 1), bias=False)\n",
       "        (bn1): BatchNorm2d(448, eps=1e-05, momentum=0.1, affine=True, track_running_stats=True)\n",
       "        (skconv): SKConv(\n",
       "          (conv3): Conv2d(448, 448, kernel_size=(3, 3), stride=(1, 1), padding=(1, 1), groups=8, bias=False)\n",
       "          (bn3): BatchNorm2d(448, eps=1e-05, momentum=0.1, affine=True, track_running_stats=True)\n",
       "          (conv5): Conv2d(448, 448, kernel_size=(3, 3), stride=(1, 1), padding=(2, 2), dilation=(2, 2), groups=8, bias=False)\n",
       "          (bn5): BatchNorm2d(448, eps=1e-05, momentum=0.1, affine=True, track_running_stats=True)\n",
       "          (relu): ReLU(inplace=True)\n",
       "          (global_pool): AdaptiveAvgPool2d(output_size=1)\n",
       "          (fc1): Conv2d(448, 28, kernel_size=(1, 1), stride=(1, 1), bias=False)\n",
       "          (fc2): Conv2d(28, 896, kernel_size=(1, 1), stride=(1, 1), bias=False)\n",
       "          (softmax): Softmax(dim=1)\n",
       "        )\n",
       "        (conv3): Conv2d(448, 896, kernel_size=(1, 1), stride=(1, 1), bias=False)\n",
       "        (bn3): BatchNorm2d(896, eps=1e-05, momentum=0.1, affine=True, track_running_stats=True)\n",
       "        (relu): ReLU(inplace=True)\n",
       "      )\n",
       "      (2): resnext_block(\n",
       "        (conv1): Conv2d(896, 448, kernel_size=(1, 1), stride=(1, 1), bias=False)\n",
       "        (bn1): BatchNorm2d(448, eps=1e-05, momentum=0.1, affine=True, track_running_stats=True)\n",
       "        (skconv): SKConv(\n",
       "          (conv3): Conv2d(448, 448, kernel_size=(3, 3), stride=(1, 1), padding=(1, 1), groups=8, bias=False)\n",
       "          (bn3): BatchNorm2d(448, eps=1e-05, momentum=0.1, affine=True, track_running_stats=True)\n",
       "          (conv5): Conv2d(448, 448, kernel_size=(3, 3), stride=(1, 1), padding=(2, 2), dilation=(2, 2), groups=8, bias=False)\n",
       "          (bn5): BatchNorm2d(448, eps=1e-05, momentum=0.1, affine=True, track_running_stats=True)\n",
       "          (relu): ReLU(inplace=True)\n",
       "          (global_pool): AdaptiveAvgPool2d(output_size=1)\n",
       "          (fc1): Conv2d(448, 28, kernel_size=(1, 1), stride=(1, 1), bias=False)\n",
       "          (fc2): Conv2d(28, 896, kernel_size=(1, 1), stride=(1, 1), bias=False)\n",
       "          (softmax): Softmax(dim=1)\n",
       "        )\n",
       "        (conv3): Conv2d(448, 896, kernel_size=(1, 1), stride=(1, 1), bias=False)\n",
       "        (bn3): BatchNorm2d(896, eps=1e-05, momentum=0.1, affine=True, track_running_stats=True)\n",
       "        (relu): ReLU(inplace=True)\n",
       "      )\n",
       "      (3): resnext_block(\n",
       "        (conv1): Conv2d(896, 448, kernel_size=(1, 1), stride=(1, 1), bias=False)\n",
       "        (bn1): BatchNorm2d(448, eps=1e-05, momentum=0.1, affine=True, track_running_stats=True)\n",
       "        (skconv): SKConv(\n",
       "          (conv3): Conv2d(448, 448, kernel_size=(3, 3), stride=(1, 1), padding=(1, 1), groups=8, bias=False)\n",
       "          (bn3): BatchNorm2d(448, eps=1e-05, momentum=0.1, affine=True, track_running_stats=True)\n",
       "          (conv5): Conv2d(448, 448, kernel_size=(3, 3), stride=(1, 1), padding=(2, 2), dilation=(2, 2), groups=8, bias=False)\n",
       "          (bn5): BatchNorm2d(448, eps=1e-05, momentum=0.1, affine=True, track_running_stats=True)\n",
       "          (relu): ReLU(inplace=True)\n",
       "          (global_pool): AdaptiveAvgPool2d(output_size=1)\n",
       "          (fc1): Conv2d(448, 28, kernel_size=(1, 1), stride=(1, 1), bias=False)\n",
       "          (fc2): Conv2d(28, 896, kernel_size=(1, 1), stride=(1, 1), bias=False)\n",
       "          (softmax): Softmax(dim=1)\n",
       "        )\n",
       "        (conv3): Conv2d(448, 896, kernel_size=(1, 1), stride=(1, 1), bias=False)\n",
       "        (bn3): BatchNorm2d(896, eps=1e-05, momentum=0.1, affine=True, track_running_stats=True)\n",
       "        (relu): ReLU(inplace=True)\n",
       "      )\n",
       "      (4): resnext_block(\n",
       "        (conv1): Conv2d(896, 448, kernel_size=(1, 1), stride=(1, 1), bias=False)\n",
       "        (bn1): BatchNorm2d(448, eps=1e-05, momentum=0.1, affine=True, track_running_stats=True)\n",
       "        (skconv): SKConv(\n",
       "          (conv3): Conv2d(448, 448, kernel_size=(3, 3), stride=(1, 1), padding=(1, 1), groups=8, bias=False)\n",
       "          (bn3): BatchNorm2d(448, eps=1e-05, momentum=0.1, affine=True, track_running_stats=True)\n",
       "          (conv5): Conv2d(448, 448, kernel_size=(3, 3), stride=(1, 1), padding=(2, 2), dilation=(2, 2), groups=8, bias=False)\n",
       "          (bn5): BatchNorm2d(448, eps=1e-05, momentum=0.1, affine=True, track_running_stats=True)\n",
       "          (relu): ReLU(inplace=True)\n",
       "          (global_pool): AdaptiveAvgPool2d(output_size=1)\n",
       "          (fc1): Conv2d(448, 28, kernel_size=(1, 1), stride=(1, 1), bias=False)\n",
       "          (fc2): Conv2d(28, 896, kernel_size=(1, 1), stride=(1, 1), bias=False)\n",
       "          (softmax): Softmax(dim=1)\n",
       "        )\n",
       "        (conv3): Conv2d(448, 896, kernel_size=(1, 1), stride=(1, 1), bias=False)\n",
       "        (bn3): BatchNorm2d(896, eps=1e-05, momentum=0.1, affine=True, track_running_stats=True)\n",
       "        (relu): ReLU(inplace=True)\n",
       "      )\n",
       "      (5): resnext_block(\n",
       "        (conv1): Conv2d(896, 448, kernel_size=(1, 1), stride=(1, 1), bias=False)\n",
       "        (bn1): BatchNorm2d(448, eps=1e-05, momentum=0.1, affine=True, track_running_stats=True)\n",
       "        (skconv): SKConv(\n",
       "          (conv3): Conv2d(448, 448, kernel_size=(3, 3), stride=(1, 1), padding=(1, 1), groups=8, bias=False)\n",
       "          (bn3): BatchNorm2d(448, eps=1e-05, momentum=0.1, affine=True, track_running_stats=True)\n",
       "          (conv5): Conv2d(448, 448, kernel_size=(3, 3), stride=(1, 1), padding=(2, 2), dilation=(2, 2), groups=8, bias=False)\n",
       "          (bn5): BatchNorm2d(448, eps=1e-05, momentum=0.1, affine=True, track_running_stats=True)\n",
       "          (relu): ReLU(inplace=True)\n",
       "          (global_pool): AdaptiveAvgPool2d(output_size=1)\n",
       "          (fc1): Conv2d(448, 28, kernel_size=(1, 1), stride=(1, 1), bias=False)\n",
       "          (fc2): Conv2d(28, 896, kernel_size=(1, 1), stride=(1, 1), bias=False)\n",
       "          (softmax): Softmax(dim=1)\n",
       "        )\n",
       "        (conv3): Conv2d(448, 896, kernel_size=(1, 1), stride=(1, 1), bias=False)\n",
       "        (bn3): BatchNorm2d(896, eps=1e-05, momentum=0.1, affine=True, track_running_stats=True)\n",
       "        (relu): ReLU(inplace=True)\n",
       "      )\n",
       "    )\n",
       "    (layer4): Sequential(\n",
       "      (0): resnext_block(\n",
       "        (conv1): Conv2d(896, 896, kernel_size=(1, 1), stride=(1, 1), bias=False)\n",
       "        (bn1): BatchNorm2d(896, eps=1e-05, momentum=0.1, affine=True, track_running_stats=True)\n",
       "        (skconv): SKConv(\n",
       "          (conv3): Conv2d(896, 896, kernel_size=(3, 3), stride=(2, 2), padding=(1, 1), groups=8, bias=False)\n",
       "          (bn3): BatchNorm2d(896, eps=1e-05, momentum=0.1, affine=True, track_running_stats=True)\n",
       "          (conv5): Conv2d(896, 896, kernel_size=(3, 3), stride=(2, 2), padding=(2, 2), dilation=(2, 2), groups=8, bias=False)\n",
       "          (bn5): BatchNorm2d(896, eps=1e-05, momentum=0.1, affine=True, track_running_stats=True)\n",
       "          (relu): ReLU(inplace=True)\n",
       "          (global_pool): AdaptiveAvgPool2d(output_size=1)\n",
       "          (fc1): Conv2d(896, 56, kernel_size=(1, 1), stride=(1, 1), bias=False)\n",
       "          (fc2): Conv2d(56, 1792, kernel_size=(1, 1), stride=(1, 1), bias=False)\n",
       "          (softmax): Softmax(dim=1)\n",
       "        )\n",
       "        (conv3): Conv2d(896, 1792, kernel_size=(1, 1), stride=(1, 1), bias=False)\n",
       "        (bn3): BatchNorm2d(1792, eps=1e-05, momentum=0.1, affine=True, track_running_stats=True)\n",
       "        (relu): ReLU(inplace=True)\n",
       "        (identity_downsample): Sequential(\n",
       "          (0): Conv2d(896, 1792, kernel_size=(1, 1), stride=(2, 2), bias=False)\n",
       "          (1): BatchNorm2d(1792, eps=1e-05, momentum=0.1, affine=True, track_running_stats=True)\n",
       "        )\n",
       "      )\n",
       "      (1): resnext_block(\n",
       "        (conv1): Conv2d(1792, 896, kernel_size=(1, 1), stride=(1, 1), bias=False)\n",
       "        (bn1): BatchNorm2d(896, eps=1e-05, momentum=0.1, affine=True, track_running_stats=True)\n",
       "        (skconv): SKConv(\n",
       "          (conv3): Conv2d(896, 896, kernel_size=(3, 3), stride=(1, 1), padding=(1, 1), groups=8, bias=False)\n",
       "          (bn3): BatchNorm2d(896, eps=1e-05, momentum=0.1, affine=True, track_running_stats=True)\n",
       "          (conv5): Conv2d(896, 896, kernel_size=(3, 3), stride=(1, 1), padding=(2, 2), dilation=(2, 2), groups=8, bias=False)\n",
       "          (bn5): BatchNorm2d(896, eps=1e-05, momentum=0.1, affine=True, track_running_stats=True)\n",
       "          (relu): ReLU(inplace=True)\n",
       "          (global_pool): AdaptiveAvgPool2d(output_size=1)\n",
       "          (fc1): Conv2d(896, 56, kernel_size=(1, 1), stride=(1, 1), bias=False)\n",
       "          (fc2): Conv2d(56, 1792, kernel_size=(1, 1), stride=(1, 1), bias=False)\n",
       "          (softmax): Softmax(dim=1)\n",
       "        )\n",
       "        (conv3): Conv2d(896, 1792, kernel_size=(1, 1), stride=(1, 1), bias=False)\n",
       "        (bn3): BatchNorm2d(1792, eps=1e-05, momentum=0.1, affine=True, track_running_stats=True)\n",
       "        (relu): ReLU(inplace=True)\n",
       "      )\n",
       "      (2): resnext_block(\n",
       "        (conv1): Conv2d(1792, 896, kernel_size=(1, 1), stride=(1, 1), bias=False)\n",
       "        (bn1): BatchNorm2d(896, eps=1e-05, momentum=0.1, affine=True, track_running_stats=True)\n",
       "        (skconv): SKConv(\n",
       "          (conv3): Conv2d(896, 896, kernel_size=(3, 3), stride=(1, 1), padding=(1, 1), groups=8, bias=False)\n",
       "          (bn3): BatchNorm2d(896, eps=1e-05, momentum=0.1, affine=True, track_running_stats=True)\n",
       "          (conv5): Conv2d(896, 896, kernel_size=(3, 3), stride=(1, 1), padding=(2, 2), dilation=(2, 2), groups=8, bias=False)\n",
       "          (bn5): BatchNorm2d(896, eps=1e-05, momentum=0.1, affine=True, track_running_stats=True)\n",
       "          (relu): ReLU(inplace=True)\n",
       "          (global_pool): AdaptiveAvgPool2d(output_size=1)\n",
       "          (fc1): Conv2d(896, 56, kernel_size=(1, 1), stride=(1, 1), bias=False)\n",
       "          (fc2): Conv2d(56, 1792, kernel_size=(1, 1), stride=(1, 1), bias=False)\n",
       "          (softmax): Softmax(dim=1)\n",
       "        )\n",
       "        (conv3): Conv2d(896, 1792, kernel_size=(1, 1), stride=(1, 1), bias=False)\n",
       "        (bn3): BatchNorm2d(1792, eps=1e-05, momentum=0.1, affine=True, track_running_stats=True)\n",
       "        (relu): ReLU(inplace=True)\n",
       "      )\n",
       "    )\n",
       "  )\n",
       "  (up1): DUpsampling(\n",
       "    (conv1): Conv2d(1792, 3584, kernel_size=(1, 1), stride=(1, 1), bias=False)\n",
       "  )\n",
       "  (dec1): Sequential(\n",
       "    (0): Conv2d(1792, 896, kernel_size=(3, 3), stride=(1, 1), padding=(1, 1))\n",
       "    (1): ReLU(inplace=True)\n",
       "    (2): Conv2d(896, 896, kernel_size=(3, 3), stride=(1, 1), padding=(1, 1))\n",
       "    (3): ReLU(inplace=True)\n",
       "  )\n",
       "  (dec1_att): AttentionBlock(\n",
       "    (position_attention): PositionLinearAttention(\n",
       "      (query_conv): Conv2d(896, 112, kernel_size=(1, 1), stride=(1, 1))\n",
       "      (key_conv): Conv2d(896, 112, kernel_size=(1, 1), stride=(1, 1))\n",
       "      (value_conv): Conv2d(896, 896, kernel_size=(1, 1), stride=(1, 1))\n",
       "    )\n",
       "    (channel_attention): ChannelLinearAttention()\n",
       "  )\n",
       "  (up2): DUpsampling(\n",
       "    (conv1): Conv2d(896, 1792, kernel_size=(1, 1), stride=(1, 1), bias=False)\n",
       "  )\n",
       "  (dec2): Sequential(\n",
       "    (0): Conv2d(1792, 448, kernel_size=(3, 3), stride=(1, 1), padding=(1, 1))\n",
       "    (1): ReLU(inplace=True)\n",
       "    (2): Conv2d(448, 448, kernel_size=(3, 3), stride=(1, 1), padding=(1, 1))\n",
       "    (3): ReLU(inplace=True)\n",
       "  )\n",
       "  (dec2_att): AttentionBlock(\n",
       "    (position_attention): PositionLinearAttention(\n",
       "      (query_conv): Conv2d(448, 56, kernel_size=(1, 1), stride=(1, 1))\n",
       "      (key_conv): Conv2d(448, 56, kernel_size=(1, 1), stride=(1, 1))\n",
       "      (value_conv): Conv2d(448, 448, kernel_size=(1, 1), stride=(1, 1))\n",
       "    )\n",
       "    (channel_attention): ChannelLinearAttention()\n",
       "  )\n",
       "  (up3): DUpsampling(\n",
       "    (conv1): Conv2d(448, 896, kernel_size=(1, 1), stride=(1, 1), bias=False)\n",
       "  )\n",
       "  (dec3): Sequential(\n",
       "    (0): Conv2d(1792, 224, kernel_size=(3, 3), stride=(1, 1), padding=(1, 1))\n",
       "    (1): ReLU(inplace=True)\n",
       "    (2): Conv2d(224, 224, kernel_size=(3, 3), stride=(1, 1), padding=(1, 1))\n",
       "    (3): ReLU(inplace=True)\n",
       "  )\n",
       "  (dec3_att): AttentionBlock(\n",
       "    (position_attention): PositionLinearAttention(\n",
       "      (query_conv): Conv2d(224, 28, kernel_size=(1, 1), stride=(1, 1))\n",
       "      (key_conv): Conv2d(224, 28, kernel_size=(1, 1), stride=(1, 1))\n",
       "      (value_conv): Conv2d(224, 224, kernel_size=(1, 1), stride=(1, 1))\n",
       "    )\n",
       "    (channel_attention): ChannelLinearAttention()\n",
       "  )\n",
       "  (up4): DUpsampling(\n",
       "    (conv1): Conv2d(224, 512, kernel_size=(1, 1), stride=(1, 1), bias=False)\n",
       "  )\n",
       "  (dec4): Sequential(\n",
       "    (0): Conv2d(1760, 64, kernel_size=(3, 3), stride=(1, 1), padding=(1, 1))\n",
       "    (1): ReLU(inplace=True)\n",
       "    (2): Conv2d(64, 64, kernel_size=(3, 3), stride=(1, 1), padding=(1, 1))\n",
       "    (3): ReLU(inplace=True)\n",
       "  )\n",
       "  (dec4_att): AttentionBlock(\n",
       "    (position_attention): PositionLinearAttention(\n",
       "      (query_conv): Conv2d(64, 8, kernel_size=(1, 1), stride=(1, 1))\n",
       "      (key_conv): Conv2d(64, 8, kernel_size=(1, 1), stride=(1, 1))\n",
       "      (value_conv): Conv2d(64, 64, kernel_size=(1, 1), stride=(1, 1))\n",
       "    )\n",
       "    (channel_attention): ChannelLinearAttention()\n",
       "  )\n",
       "  (out_conv): Conv2d(64, 6, kernel_size=(1, 1), stride=(1, 1))\n",
       ")"
      ]
     },
     "execution_count": 17,
     "metadata": {},
     "output_type": "execute_result"
    }
   ],
   "source": [
    "model.eval()"
   ]
  },
  {
   "cell_type": "code",
   "execution_count": null,
   "metadata": {
    "colab": {
     "base_uri": "https://localhost:8080/"
    },
    "executionInfo": {
     "elapsed": 13,
     "status": "ok",
     "timestamp": 1750632949863,
     "user": {
      "displayName": "Bimbingan TG 2025",
      "userId": "17786358260686151756"
     },
     "user_tz": -420
    },
    "id": "DsRa3L5TK5Vt",
    "outputId": "e8e7ae47-822a-4ded-f0df-7c52843d64d8"
   },
   "outputs": [
    {
     "data": {
      "text/plain": [
       "71621238"
      ]
     },
     "execution_count": 18,
     "metadata": {},
     "output_type": "execute_result"
    }
   ],
   "source": [
    "# Hitung total parameters model\n",
    "total_params = sum(p.numel() for p in model.parameters() if p.requires_grad)\n",
    "total_params"
   ]
  },
  {
   "cell_type": "markdown",
   "metadata": {
    "id": "uwh9LlsXQVLX"
   },
   "source": [
    "**Training**"
   ]
  },
  {
   "cell_type": "markdown",
   "metadata": {
    "id": "d5yRyIXTQqXo"
   },
   "source": [
    "Inisialisasi Output Path"
   ]
  },
  {
   "cell_type": "code",
   "execution_count": null,
   "metadata": {
    "executionInfo": {
     "elapsed": 15,
     "status": "ok",
     "timestamp": 1750774131204,
     "user": {
      "displayName": "Bimbingan TG 2025",
      "userId": "17786358260686151756"
     },
     "user_tz": -420
    },
    "id": "sjn-pbxfIdL9"
   },
   "outputs": [],
   "source": [
    "# Define name of folder output main path\n",
    "\n",
    "output_path = \"modifikasi_32x4d\" #JANGAN LUPA GANTI INI"
   ]
  },
  {
   "cell_type": "markdown",
   "metadata": {
    "id": "iL90xr-51LSM"
   },
   "source": [
    "Output path"
   ]
  },
  {
   "cell_type": "code",
   "execution_count": null,
   "metadata": {
    "executionInfo": {
     "elapsed": 15,
     "status": "ok",
     "timestamp": 1750774131206,
     "user": {
      "displayName": "Bimbingan TG 2025",
      "userId": "17786358260686151756"
     },
     "user_tz": -420
    },
    "id": "5Zi94RHOQW7h"
   },
   "outputs": [],
   "source": [
    "# Paths\n",
    "timestamp = datetime.datetime.now().strftime(\"%Y%m%d_%H%M%S\")\n",
    "last_model_path = f\"output/{output_path}/last_model/unet_skresnext50_modifikasiA_last.pt\"\n",
    "best_model_path = f\"output/{output_path}/best_model/unet_skresnext50_modifikasiA_best.pt\"\n",
    "checkpoint_dir = f\"output/{output_path}/checkpoint\"\n",
    "log_dir = f\"output/{output_path}/logs\"\n",
    "log_path = os.path.join(log_dir, f\"training_log_{timestamp}.txt\")\n",
    "csv_path = os.path.join(log_dir, \"trainlog.csv\")\n",
    "csv_path_resume = os.path.join(log_dir, \"trainlog_resume.csv\")\n",
    "diagram_dir = f\"output/{output_path}/diagram\"\n",
    "inference_dir = f\"output/{output_path}/inference\"\n",
    "\n",
    "# Ensure directories exist\n",
    "os.makedirs(os.path.dirname(best_model_path), exist_ok=True)\n",
    "os.makedirs(os.path.dirname(last_model_path), exist_ok=True)\n",
    "os.makedirs(diagram_dir, exist_ok=True)\n",
    "os.makedirs(checkpoint_dir, exist_ok=True)\n",
    "os.makedirs(log_dir, exist_ok=True)\n",
    "os.makedirs(inference_dir, exist_ok=True)"
   ]
  },
  {
   "cell_type": "markdown",
   "metadata": {
    "id": "49qmoVtQQgCt"
   },
   "source": [
    "Inisialisasi Logging"
   ]
  },
  {
   "cell_type": "code",
   "execution_count": 6,
   "metadata": {
    "executionInfo": {
     "elapsed": 15,
     "status": "ok",
     "timestamp": 1750774131207,
     "user": {
      "displayName": "Bimbingan TG 2025",
      "userId": "17786358260686151756"
     },
     "user_tz": -420
    },
    "id": "84DEYfmIQflm"
   },
   "outputs": [],
   "source": [
    "log_lines = []\n",
    "log_lines.append(f\"🕒 Training Started: {timestamp}\")\n",
    "log_lines.append(f\"Best Model Path: {best_model_path}\")\n",
    "log_lines.append(f\"Checkpoint Directory: {checkpoint_dir}\")\n",
    "log_lines.append(\"\")"
   ]
  },
  {
   "cell_type": "markdown",
   "metadata": {
    "id": "xfIVlMPUj0Gt"
   },
   "source": [
    "Inisialisasi History Untuk Plot Diagram Garis Train dan Val"
   ]
  },
  {
   "cell_type": "code",
   "execution_count": 7,
   "metadata": {
    "executionInfo": {
     "elapsed": 3,
     "status": "ok",
     "timestamp": 1750774131218,
     "user": {
      "displayName": "Bimbingan TG 2025",
      "userId": "17786358260686151756"
     },
     "user_tz": -420
    },
    "id": "j01XBcK5jzbN"
   },
   "outputs": [],
   "source": [
    "train_losses = []\n",
    "train_accuracies = []\n",
    "val_losses = []\n",
    "val_accuracies = []"
   ]
  },
  {
   "cell_type": "markdown",
   "metadata": {
    "id": "aMAFuNlWQwG3"
   },
   "source": [
    "Training Loop"
   ]
  },
  {
   "cell_type": "code",
   "execution_count": null,
   "metadata": {
    "colab": {
     "base_uri": "https://localhost:8080/",
     "height": 825
    },
    "executionInfo": {
     "elapsed": 2026952,
     "status": "error",
     "timestamp": 1750595542432,
     "user": {
      "displayName": "Bimbingan TG 2025",
      "userId": "17786358260686151756"
     },
     "user_tz": -420
    },
    "id": "ZPIzVUtRDmBD",
    "outputId": "a615e41d-2eb9-490b-cd21-98806f47cd7d"
   },
   "outputs": [
    {
     "name": "stderr",
     "output_type": "stream",
     "text": [
      "Epoch 1/120: 100%|██████████| 507/507 [03:13<00:00,  2.62it/s, acc=68.4, loss=0.728]\n"
     ]
    },
    {
     "name": "stdout",
     "output_type": "stream",
     "text": [
      "✅ Model disimpan (Val Loss: 1.0306)\n",
      "Epoch 1 | Val Loss: 1.0306 | Val Acc: 58.05%\n"
     ]
    },
    {
     "name": "stderr",
     "output_type": "stream",
     "text": [
      "Epoch 2/120: 100%|██████████| 507/507 [03:11<00:00,  2.65it/s, acc=74.6, loss=0.668]\n"
     ]
    },
    {
     "name": "stdout",
     "output_type": "stream",
     "text": [
      "Epoch 2 | Val Loss: 1.1639 | Val Acc: 60.17%\n"
     ]
    },
    {
     "name": "stderr",
     "output_type": "stream",
     "text": [
      "Epoch 3/120: 100%|██████████| 507/507 [03:10<00:00,  2.66it/s, acc=78.1, loss=0.691]\n"
     ]
    },
    {
     "name": "stdout",
     "output_type": "stream",
     "text": [
      "✅ Model disimpan (Val Loss: 0.9760)\n",
      "Epoch 3 | Val Loss: 0.9760 | Val Acc: 64.17%\n"
     ]
    },
    {
     "name": "stderr",
     "output_type": "stream",
     "text": [
      "Epoch 4/120: 100%|██████████| 507/507 [03:11<00:00,  2.65it/s, acc=62.5, loss=0.859]\n"
     ]
    },
    {
     "name": "stdout",
     "output_type": "stream",
     "text": [
      "Epoch 4 | Val Loss: 1.0815 | Val Acc: 61.85%\n"
     ]
    },
    {
     "name": "stderr",
     "output_type": "stream",
     "text": [
      "Epoch 5/120: 100%|██████████| 507/507 [03:11<00:00,  2.65it/s, acc=74, loss=0.964]\n"
     ]
    },
    {
     "name": "stdout",
     "output_type": "stream",
     "text": [
      "✅ Model disimpan (Val Loss: 0.6502)\n",
      "Epoch 5 | Val Loss: 0.6502 | Val Acc: 75.04%\n"
     ]
    },
    {
     "name": "stderr",
     "output_type": "stream",
     "text": [
      "Epoch 6/120: 100%|██████████| 507/507 [03:11<00:00,  2.64it/s, acc=63.8, loss=0.881]\n"
     ]
    },
    {
     "name": "stdout",
     "output_type": "stream",
     "text": [
      "Epoch 6 | Val Loss: 0.7128 | Val Acc: 71.99%\n"
     ]
    },
    {
     "name": "stderr",
     "output_type": "stream",
     "text": [
      "Epoch 7/120: 100%|██████████| 507/507 [03:11<00:00,  2.65it/s, acc=46.5, loss=1.03]\n"
     ]
    },
    {
     "name": "stdout",
     "output_type": "stream",
     "text": [
      "Epoch 7 | Val Loss: 0.8645 | Val Acc: 68.80%\n"
     ]
    },
    {
     "name": "stderr",
     "output_type": "stream",
     "text": [
      "Epoch 8/120: 100%|██████████| 507/507 [03:11<00:00,  2.65it/s, acc=79.8, loss=0.531]\n"
     ]
    },
    {
     "name": "stdout",
     "output_type": "stream",
     "text": [
      "✅ Model disimpan (Val Loss: 0.6063)\n",
      "Epoch 8 | Val Loss: 0.6063 | Val Acc: 77.05%\n"
     ]
    },
    {
     "name": "stderr",
     "output_type": "stream",
     "text": [
      "Epoch 9/120: 100%|██████████| 507/507 [03:09<00:00,  2.67it/s, acc=71.3, loss=0.769]\n"
     ]
    },
    {
     "name": "stdout",
     "output_type": "stream",
     "text": [
      "✅ Model disimpan (Val Loss: 0.5468)\n",
      "Epoch 9 | Val Loss: 0.5468 | Val Acc: 78.78%\n"
     ]
    },
    {
     "name": "stderr",
     "output_type": "stream",
     "text": [
      "Epoch 10/120: 100%|██████████| 507/507 [03:10<00:00,  2.66it/s, acc=47.9, loss=1.88]\n"
     ]
    },
    {
     "name": "stdout",
     "output_type": "stream",
     "text": [
      "💾 Checkpoint disimpan: /content/drive/MyDrive/KoTA-309/APE/APE-Train-2/output/modifikasi_8x14d_ru2/checkpoint/checkpoint_epoch_10.pth\n",
      "Epoch 10 | Val Loss: 0.7041 | Val Acc: 73.74%\n"
     ]
    },
    {
     "name": "stderr",
     "output_type": "stream",
     "text": [
      "Epoch 11/120:   2%|▏         | 12/507 [00:04<03:22,  2.44it/s, acc=75.6, loss=0.621]\n"
     ]
    },
    {
     "ename": "KeyboardInterrupt",
     "evalue": "",
     "output_type": "error",
     "traceback": [
      "\u001b[0;31m---------------------------------------------------------------------------\u001b[0m",
      "\u001b[0;31mKeyboardInterrupt\u001b[0m                         Traceback (most recent call last)",
      "\u001b[0;32m/tmp/ipython-input-23-452783393.py\u001b[0m in \u001b[0;36m<cell line: 0>\u001b[0;34m()\u001b[0m\n\u001b[1;32m     15\u001b[0m \u001b[0;34m\u001b[0m\u001b[0m\n\u001b[1;32m     16\u001b[0m         \u001b[0moptimizer\u001b[0m\u001b[0;34m.\u001b[0m\u001b[0mzero_grad\u001b[0m\u001b[0;34m(\u001b[0m\u001b[0;34m)\u001b[0m\u001b[0;34m\u001b[0m\u001b[0;34m\u001b[0m\u001b[0m\n\u001b[0;32m---> 17\u001b[0;31m         \u001b[0mloss\u001b[0m\u001b[0;34m.\u001b[0m\u001b[0mbackward\u001b[0m\u001b[0;34m(\u001b[0m\u001b[0;34m)\u001b[0m\u001b[0;34m\u001b[0m\u001b[0;34m\u001b[0m\u001b[0m\n\u001b[0m\u001b[1;32m     18\u001b[0m         \u001b[0mtorch\u001b[0m\u001b[0;34m.\u001b[0m\u001b[0mnn\u001b[0m\u001b[0;34m.\u001b[0m\u001b[0mutils\u001b[0m\u001b[0;34m.\u001b[0m\u001b[0mclip_grad_norm_\u001b[0m\u001b[0;34m(\u001b[0m\u001b[0mmodel\u001b[0m\u001b[0;34m.\u001b[0m\u001b[0mparameters\u001b[0m\u001b[0;34m(\u001b[0m\u001b[0;34m)\u001b[0m\u001b[0;34m,\u001b[0m \u001b[0mmax_norm\u001b[0m\u001b[0;34m=\u001b[0m\u001b[0;36m1.0\u001b[0m\u001b[0;34m)\u001b[0m\u001b[0;34m\u001b[0m\u001b[0;34m\u001b[0m\u001b[0m\n\u001b[1;32m     19\u001b[0m         \u001b[0moptimizer\u001b[0m\u001b[0;34m.\u001b[0m\u001b[0mstep\u001b[0m\u001b[0;34m(\u001b[0m\u001b[0;34m)\u001b[0m\u001b[0;34m\u001b[0m\u001b[0;34m\u001b[0m\u001b[0m\n",
      "\u001b[0;32m/usr/local/lib/python3.11/dist-packages/torch/_tensor.py\u001b[0m in \u001b[0;36mbackward\u001b[0;34m(self, gradient, retain_graph, create_graph, inputs)\u001b[0m\n\u001b[1;32m    624\u001b[0m                 \u001b[0minputs\u001b[0m\u001b[0;34m=\u001b[0m\u001b[0minputs\u001b[0m\u001b[0;34m,\u001b[0m\u001b[0;34m\u001b[0m\u001b[0;34m\u001b[0m\u001b[0m\n\u001b[1;32m    625\u001b[0m             )\n\u001b[0;32m--> 626\u001b[0;31m         torch.autograd.backward(\n\u001b[0m\u001b[1;32m    627\u001b[0m             \u001b[0mself\u001b[0m\u001b[0;34m,\u001b[0m \u001b[0mgradient\u001b[0m\u001b[0;34m,\u001b[0m \u001b[0mretain_graph\u001b[0m\u001b[0;34m,\u001b[0m \u001b[0mcreate_graph\u001b[0m\u001b[0;34m,\u001b[0m \u001b[0minputs\u001b[0m\u001b[0;34m=\u001b[0m\u001b[0minputs\u001b[0m\u001b[0;34m\u001b[0m\u001b[0;34m\u001b[0m\u001b[0m\n\u001b[1;32m    628\u001b[0m         )\n",
      "\u001b[0;32m/usr/local/lib/python3.11/dist-packages/torch/autograd/__init__.py\u001b[0m in \u001b[0;36mbackward\u001b[0;34m(tensors, grad_tensors, retain_graph, create_graph, grad_variables, inputs)\u001b[0m\n\u001b[1;32m    345\u001b[0m     \u001b[0;31m# some Python versions print out the first line of a multi-line function\u001b[0m\u001b[0;34m\u001b[0m\u001b[0;34m\u001b[0m\u001b[0m\n\u001b[1;32m    346\u001b[0m     \u001b[0;31m# calls in the traceback and some print out the last line\u001b[0m\u001b[0;34m\u001b[0m\u001b[0;34m\u001b[0m\u001b[0m\n\u001b[0;32m--> 347\u001b[0;31m     _engine_run_backward(\n\u001b[0m\u001b[1;32m    348\u001b[0m         \u001b[0mtensors\u001b[0m\u001b[0;34m,\u001b[0m\u001b[0;34m\u001b[0m\u001b[0;34m\u001b[0m\u001b[0m\n\u001b[1;32m    349\u001b[0m         \u001b[0mgrad_tensors_\u001b[0m\u001b[0;34m,\u001b[0m\u001b[0;34m\u001b[0m\u001b[0;34m\u001b[0m\u001b[0m\n",
      "\u001b[0;32m/usr/local/lib/python3.11/dist-packages/torch/autograd/graph.py\u001b[0m in \u001b[0;36m_engine_run_backward\u001b[0;34m(t_outputs, *args, **kwargs)\u001b[0m\n\u001b[1;32m    821\u001b[0m         \u001b[0munregister_hooks\u001b[0m \u001b[0;34m=\u001b[0m \u001b[0m_register_logging_hooks_on_whole_graph\u001b[0m\u001b[0;34m(\u001b[0m\u001b[0mt_outputs\u001b[0m\u001b[0;34m)\u001b[0m\u001b[0;34m\u001b[0m\u001b[0;34m\u001b[0m\u001b[0m\n\u001b[1;32m    822\u001b[0m     \u001b[0;32mtry\u001b[0m\u001b[0;34m:\u001b[0m\u001b[0;34m\u001b[0m\u001b[0;34m\u001b[0m\u001b[0m\n\u001b[0;32m--> 823\u001b[0;31m         return Variable._execution_engine.run_backward(  # Calls into the C++ engine to run the backward pass\n\u001b[0m\u001b[1;32m    824\u001b[0m             \u001b[0mt_outputs\u001b[0m\u001b[0;34m,\u001b[0m \u001b[0;34m*\u001b[0m\u001b[0margs\u001b[0m\u001b[0;34m,\u001b[0m \u001b[0;34m**\u001b[0m\u001b[0mkwargs\u001b[0m\u001b[0;34m\u001b[0m\u001b[0;34m\u001b[0m\u001b[0m\n\u001b[1;32m    825\u001b[0m         )  # Calls into the C++ engine to run the backward pass\n",
      "\u001b[0;31mKeyboardInterrupt\u001b[0m: "
     ]
    }
   ],
   "source": [
    "best_val_loss = float('inf')\n",
    "\n",
    "for epoch in range(num_epochs):\n",
    "    model.train()\n",
    "    epoch_loss = 0\n",
    "    epoch_acc = 0\n",
    "\n",
    "    train_pbar = tqdm(train_loader, desc=f\"Epoch {epoch+1}/{num_epochs}\", leave=True)\n",
    "\n",
    "    for images, masks in train_pbar:\n",
    "        images, masks = images.to(device), masks.to(device)\n",
    "\n",
    "        outputs = model(images)\n",
    "        loss = criterion(outputs, masks)\n",
    "\n",
    "        optimizer.zero_grad()\n",
    "        loss.backward()\n",
    "        torch.nn.utils.clip_grad_norm_(model.parameters(), max_norm=1.0)\n",
    "        optimizer.step()\n",
    "\n",
    "        acc = pixel_accuracy(outputs, masks)\n",
    "        epoch_loss += loss.item()\n",
    "        epoch_acc += acc\n",
    "\n",
    "        train_pbar.set_postfix(loss=loss.item(), acc=acc)\n",
    "        log_lines.append(f\"Epoch {epoch+1} | Loss: {loss.item():.4f}, Acc: {acc:.2f}%\")\n",
    "\n",
    "    val_loss, val_acc = evaluate(model, val_loader, device, criterion)\n",
    "\n",
    "    train_losses.append(epoch_loss / len(train_loader))\n",
    "    train_accuracies.append(epoch_acc / len(train_loader))\n",
    "    val_losses.append(val_loss)\n",
    "    val_accuracies.append(val_acc)\n",
    "\n",
    "    with open(csv_path, mode='w', newline='') as file:\n",
    "        writer = csv.writer(file)\n",
    "        writer.writerow([\"Epoch\", \"Train Loss\", \"Train Accuracy\", \"Val Loss\", \"Val Accuracy\"])\n",
    "        for i in range(len(train_losses)):\n",
    "            writer.writerow([\n",
    "                i + 1,\n",
    "                train_losses[i],\n",
    "                train_accuracies[i],\n",
    "                val_losses[i],\n",
    "                val_accuracies[i]\n",
    "            ])\n",
    "\n",
    "    if val_loss < best_val_loss:\n",
    "        best_val_loss = val_loss\n",
    "        torch.save(model.state_dict(), best_model_path)\n",
    "        print(f\"✅ Model disimpan (Val Loss: {val_loss:.4f})\")\n",
    "        log_lines.append(f\"✅ Model disimpan (Val Loss: {val_loss:.4f}) [Epoch {epoch+1}]\")\n",
    "\n",
    "    if (epoch + 1) % 10 == 0:\n",
    "        checkpoint_path = os.path.join(checkpoint_dir, f\"checkpoint_epoch_{epoch+1}.pth\")\n",
    "        torch.save({\n",
    "            'epoch': epoch + 1,\n",
    "            'model_state_dict': model.state_dict(),\n",
    "            'optimizer_state_dict': optimizer.state_dict(),\n",
    "            'loss': val_loss,\n",
    "            'best_val_loss': best_val_loss\n",
    "        }, checkpoint_path)\n",
    "        print(f\"💾 Checkpoint disimpan: {checkpoint_path}\")\n",
    "        log_lines.append(f\"💾 Checkpoint disimpan: {checkpoint_path}\")\n",
    "\n",
    "    log_line = f\"Epoch {epoch+1} | Val Loss: {val_loss:.4f} | Val Acc: {val_acc:.2f}%\"\n",
    "    print(log_line)\n",
    "    log_lines.append(log_line)\n",
    "\n",
    "with open(log_path, \"w\") as f:\n",
    "    f.write(\"\\n\".join(log_lines))\n",
    "print(f\"\\n📄 Log training disimpan di: {log_path}\")\n",
    "\n",
    "torch.save(model.state_dict(), last_model_path)\n",
    "print(f\"📦 Model terakhir disimpan di: {last_model_path}\")"
   ]
  },
  {
   "cell_type": "code",
   "execution_count": null,
   "metadata": {
    "colab": {
     "base_uri": "https://localhost:8080/"
    },
    "executionInfo": {
     "elapsed": 8709468,
     "status": "ok",
     "timestamp": 1750641659494,
     "user": {
      "displayName": "Bimbingan TG 2025",
      "userId": "17786358260686151756"
     },
     "user_tz": -420
    },
    "id": "Z-gDy1ZhDmDg",
    "outputId": "13df7a71-aff7-4783-8b99-048c52726713"
   },
   "outputs": [
    {
     "name": "stdout",
     "output_type": "stream",
     "text": [
      "🔄 Melanjutkan training dari checkpoint: /content/drive/MyDrive/KoTA-309/APE/APE-Train-2/output/modifikasi_8x14d_run2/checkpoint/checkpoint_epoch_80.pt\n"
     ]
    },
    {
     "name": "stderr",
     "output_type": "stream",
     "text": [
      "Epoch 81/120: 100%|██████████| 507/507 [03:13<00:00,  2.62it/s, acc=83.4, loss=0.43]\n"
     ]
    },
    {
     "name": "stdout",
     "output_type": "stream",
     "text": [
      "Epoch 81 | Train Loss: 0.4022, Acc: 84.58% | Val Loss: 0.4223, Acc: 83.49%\n"
     ]
    },
    {
     "name": "stderr",
     "output_type": "stream",
     "text": [
      "Epoch 82/120: 100%|██████████| 507/507 [03:12<00:00,  2.64it/s, acc=81.3, loss=0.397]\n"
     ]
    },
    {
     "name": "stdout",
     "output_type": "stream",
     "text": [
      "Epoch 82 | Train Loss: 0.3953, Acc: 84.74% | Val Loss: 0.4685, Acc: 82.45%\n"
     ]
    },
    {
     "name": "stderr",
     "output_type": "stream",
     "text": [
      "Epoch 83/120: 100%|██████████| 507/507 [03:12<00:00,  2.64it/s, acc=90.7, loss=0.258]\n"
     ]
    },
    {
     "name": "stdout",
     "output_type": "stream",
     "text": [
      "Epoch 83 | Train Loss: 0.3951, Acc: 84.81% | Val Loss: 0.4984, Acc: 81.87%\n"
     ]
    },
    {
     "name": "stderr",
     "output_type": "stream",
     "text": [
      "Epoch 84/120: 100%|██████████| 507/507 [03:12<00:00,  2.64it/s, acc=68.4, loss=0.65]\n"
     ]
    },
    {
     "name": "stdout",
     "output_type": "stream",
     "text": [
      "Epoch 84 | Train Loss: 0.4171, Acc: 84.72% | Val Loss: 0.4769, Acc: 82.94%\n"
     ]
    },
    {
     "name": "stderr",
     "output_type": "stream",
     "text": [
      "Epoch 85/120: 100%|██████████| 507/507 [03:11<00:00,  2.64it/s, acc=84.7, loss=0.478]\n"
     ]
    },
    {
     "name": "stdout",
     "output_type": "stream",
     "text": [
      "Epoch 85 | Train Loss: 0.4175, Acc: 84.22% | Val Loss: 0.4569, Acc: 82.75%\n"
     ]
    },
    {
     "name": "stderr",
     "output_type": "stream",
     "text": [
      "Epoch 86/120: 100%|██████████| 507/507 [03:12<00:00,  2.64it/s, acc=82.5, loss=0.485]\n"
     ]
    },
    {
     "name": "stdout",
     "output_type": "stream",
     "text": [
      "Epoch 86 | Train Loss: 0.4433, Acc: 83.21% | Val Loss: 0.5461, Acc: 79.57%\n"
     ]
    },
    {
     "name": "stderr",
     "output_type": "stream",
     "text": [
      "Epoch 87/120: 100%|██████████| 507/507 [03:11<00:00,  2.64it/s, acc=76.9, loss=0.546]\n"
     ]
    },
    {
     "name": "stdout",
     "output_type": "stream",
     "text": [
      "Epoch 87 | Train Loss: 0.4577, Acc: 83.14% | Val Loss: 0.7012, Acc: 81.63%\n"
     ]
    },
    {
     "name": "stderr",
     "output_type": "stream",
     "text": [
      "Epoch 88/120: 100%|██████████| 507/507 [03:12<00:00,  2.64it/s, acc=84.4, loss=0.458]\n"
     ]
    },
    {
     "name": "stdout",
     "output_type": "stream",
     "text": [
      "Epoch 88 | Train Loss: 0.4983, Acc: 83.55% | Val Loss: 0.8984, Acc: 77.24%\n"
     ]
    },
    {
     "name": "stderr",
     "output_type": "stream",
     "text": [
      "Epoch 89/120: 100%|██████████| 507/507 [03:12<00:00,  2.64it/s, acc=86, loss=0.469]\n"
     ]
    },
    {
     "name": "stdout",
     "output_type": "stream",
     "text": [
      "Epoch 89 | Train Loss: 0.4977, Acc: 82.10% | Val Loss: 0.4443, Acc: 83.10%\n"
     ]
    },
    {
     "name": "stderr",
     "output_type": "stream",
     "text": [
      "Epoch 90/120: 100%|██████████| 507/507 [03:11<00:00,  2.65it/s, acc=87.6, loss=0.372]\n"
     ]
    },
    {
     "name": "stdout",
     "output_type": "stream",
     "text": [
      "💾 Checkpoint disimpan: /content/drive/MyDrive/KoTA-309/APE/APE-Train-2/output/modifikasi_8x14d_run2/checkpoint/checkpoint_epoch_90.pt\n",
      "Epoch 90 | Train Loss: 0.4286, Acc: 83.77% | Val Loss: 0.4706, Acc: 82.08%\n"
     ]
    },
    {
     "name": "stderr",
     "output_type": "stream",
     "text": [
      "Epoch 91/120: 100%|██████████| 507/507 [03:12<00:00,  2.63it/s, acc=87, loss=0.364]\n"
     ]
    },
    {
     "name": "stdout",
     "output_type": "stream",
     "text": [
      "Epoch 91 | Train Loss: 0.4258, Acc: 83.67% | Val Loss: 0.4922, Acc: 81.37%\n"
     ]
    },
    {
     "name": "stderr",
     "output_type": "stream",
     "text": [
      "Epoch 92/120: 100%|██████████| 507/507 [03:11<00:00,  2.64it/s, acc=88, loss=0.376]\n"
     ]
    },
    {
     "name": "stdout",
     "output_type": "stream",
     "text": [
      "Epoch 92 | Train Loss: 0.4392, Acc: 83.67% | Val Loss: 0.4694, Acc: 81.93%\n"
     ]
    },
    {
     "name": "stderr",
     "output_type": "stream",
     "text": [
      "Epoch 93/120: 100%|██████████| 507/507 [03:11<00:00,  2.64it/s, acc=53.7, loss=0.89]\n"
     ]
    },
    {
     "name": "stdout",
     "output_type": "stream",
     "text": [
      "Epoch 93 | Train Loss: 0.5663, Acc: 83.03% | Val Loss: 0.4352, Acc: 83.01%\n"
     ]
    },
    {
     "name": "stderr",
     "output_type": "stream",
     "text": [
      "Epoch 94/120: 100%|██████████| 507/507 [03:11<00:00,  2.65it/s, acc=74.9, loss=0.517]\n"
     ]
    },
    {
     "name": "stdout",
     "output_type": "stream",
     "text": [
      "Epoch 94 | Train Loss: 0.4203, Acc: 83.87% | Val Loss: 0.4973, Acc: 81.09%\n"
     ]
    },
    {
     "name": "stderr",
     "output_type": "stream",
     "text": [
      "Epoch 95/120: 100%|██████████| 507/507 [03:12<00:00,  2.64it/s, acc=73.1, loss=0.64]\n"
     ]
    },
    {
     "name": "stdout",
     "output_type": "stream",
     "text": [
      "Epoch 95 | Train Loss: 0.4431, Acc: 83.05% | Val Loss: 0.4567, Acc: 82.51%\n"
     ]
    },
    {
     "name": "stderr",
     "output_type": "stream",
     "text": [
      "Epoch 96/120: 100%|██████████| 507/507 [03:12<00:00,  2.64it/s, acc=73.2, loss=0.537]\n"
     ]
    },
    {
     "name": "stdout",
     "output_type": "stream",
     "text": [
      "Epoch 96 | Train Loss: 0.4654, Acc: 82.32% | Val Loss: 0.5256, Acc: 79.50%\n"
     ]
    },
    {
     "name": "stderr",
     "output_type": "stream",
     "text": [
      "Epoch 97/120: 100%|██████████| 507/507 [03:12<00:00,  2.64it/s, acc=83.5, loss=0.558]\n"
     ]
    },
    {
     "name": "stdout",
     "output_type": "stream",
     "text": [
      "Epoch 97 | Train Loss: 0.5028, Acc: 81.79% | Val Loss: 0.4867, Acc: 81.44%\n"
     ]
    },
    {
     "name": "stderr",
     "output_type": "stream",
     "text": [
      "Epoch 98/120: 100%|██████████| 507/507 [03:11<00:00,  2.64it/s, acc=78.5, loss=0.584]\n"
     ]
    },
    {
     "name": "stdout",
     "output_type": "stream",
     "text": [
      "Epoch 98 | Train Loss: 0.4526, Acc: 82.55% | Val Loss: 0.4436, Acc: 82.96%\n"
     ]
    },
    {
     "name": "stderr",
     "output_type": "stream",
     "text": [
      "Epoch 99/120: 100%|██████████| 507/507 [03:11<00:00,  2.65it/s, acc=80.3, loss=0.524]\n"
     ]
    },
    {
     "name": "stdout",
     "output_type": "stream",
     "text": [
      "Epoch 99 | Train Loss: 0.4681, Acc: 82.58% | Val Loss: 0.5997, Acc: 79.87%\n"
     ]
    },
    {
     "name": "stderr",
     "output_type": "stream",
     "text": [
      "Epoch 100/120: 100%|██████████| 507/507 [03:11<00:00,  2.64it/s, acc=83.4, loss=0.447]\n"
     ]
    },
    {
     "name": "stdout",
     "output_type": "stream",
     "text": [
      "💾 Checkpoint disimpan: /content/drive/MyDrive/KoTA-309/APE/APE-Train-2/output/modifikasi_8x14d_run2/checkpoint/checkpoint_epoch_100.pt\n",
      "Epoch 100 | Train Loss: 0.5100, Acc: 80.40% | Val Loss: 0.5283, Acc: 80.09%\n"
     ]
    },
    {
     "name": "stderr",
     "output_type": "stream",
     "text": [
      "Epoch 101/120: 100%|██████████| 507/507 [03:12<00:00,  2.64it/s, acc=48.6, loss=1.07]\n"
     ]
    },
    {
     "name": "stdout",
     "output_type": "stream",
     "text": [
      "Epoch 101 | Train Loss: 0.6670, Acc: 80.55% | Val Loss: 0.4796, Acc: 81.80%\n"
     ]
    },
    {
     "name": "stderr",
     "output_type": "stream",
     "text": [
      "Epoch 102/120: 100%|██████████| 507/507 [03:11<00:00,  2.65it/s, acc=91.5, loss=0.238]\n"
     ]
    },
    {
     "name": "stdout",
     "output_type": "stream",
     "text": [
      "Epoch 102 | Train Loss: 0.4754, Acc: 81.93% | Val Loss: 0.4496, Acc: 82.61%\n"
     ]
    },
    {
     "name": "stderr",
     "output_type": "stream",
     "text": [
      "Epoch 103/120: 100%|██████████| 507/507 [03:12<00:00,  2.64it/s, acc=74.9, loss=0.584]\n"
     ]
    },
    {
     "name": "stdout",
     "output_type": "stream",
     "text": [
      "Epoch 103 | Train Loss: 0.4446, Acc: 82.84% | Val Loss: 0.4807, Acc: 83.21%\n"
     ]
    },
    {
     "name": "stderr",
     "output_type": "stream",
     "text": [
      "Epoch 104/120: 100%|██████████| 507/507 [03:14<00:00,  2.61it/s, acc=77.5, loss=0.861]\n"
     ]
    },
    {
     "name": "stdout",
     "output_type": "stream",
     "text": [
      "Epoch 104 | Train Loss: 0.4334, Acc: 83.86% | Val Loss: 0.4275, Acc: 83.42%\n"
     ]
    },
    {
     "name": "stderr",
     "output_type": "stream",
     "text": [
      "Epoch 105/120: 100%|██████████| 507/507 [03:14<00:00,  2.61it/s, acc=92.5, loss=0.292]\n"
     ]
    },
    {
     "name": "stdout",
     "output_type": "stream",
     "text": [
      "Epoch 105 | Train Loss: 0.4127, Acc: 84.07% | Val Loss: 0.4474, Acc: 83.05%\n"
     ]
    },
    {
     "name": "stderr",
     "output_type": "stream",
     "text": [
      "Epoch 106/120: 100%|██████████| 507/507 [03:12<00:00,  2.64it/s, acc=76.3, loss=0.585]\n"
     ]
    },
    {
     "name": "stdout",
     "output_type": "stream",
     "text": [
      "Epoch 106 | Train Loss: 0.4181, Acc: 83.98% | Val Loss: 0.4918, Acc: 81.13%\n"
     ]
    },
    {
     "name": "stderr",
     "output_type": "stream",
     "text": [
      "Epoch 107/120: 100%|██████████| 507/507 [03:11<00:00,  2.64it/s, acc=75.1, loss=0.524]\n"
     ]
    },
    {
     "name": "stdout",
     "output_type": "stream",
     "text": [
      "Epoch 107 | Train Loss: 0.4517, Acc: 83.04% | Val Loss: 0.4653, Acc: 82.50%\n"
     ]
    },
    {
     "name": "stderr",
     "output_type": "stream",
     "text": [
      "Epoch 108/120: 100%|██████████| 507/507 [03:11<00:00,  2.65it/s, acc=68.2, loss=0.717]\n"
     ]
    },
    {
     "name": "stdout",
     "output_type": "stream",
     "text": [
      "Epoch 108 | Train Loss: 0.4414, Acc: 83.32% | Val Loss: 0.4468, Acc: 83.09%\n"
     ]
    },
    {
     "name": "stderr",
     "output_type": "stream",
     "text": [
      "Epoch 109/120: 100%|██████████| 507/507 [03:11<00:00,  2.64it/s, acc=72.5, loss=0.639]\n"
     ]
    },
    {
     "name": "stdout",
     "output_type": "stream",
     "text": [
      "Epoch 109 | Train Loss: 0.4734, Acc: 84.08% | Val Loss: 0.5301, Acc: 79.51%\n"
     ]
    },
    {
     "name": "stderr",
     "output_type": "stream",
     "text": [
      "Epoch 110/120: 100%|██████████| 507/507 [03:11<00:00,  2.65it/s, acc=78.1, loss=0.605]\n"
     ]
    },
    {
     "name": "stdout",
     "output_type": "stream",
     "text": [
      "💾 Checkpoint disimpan: /content/drive/MyDrive/KoTA-309/APE/APE-Train-2/output/modifikasi_8x14d_run2/checkpoint/checkpoint_epoch_110.pt\n",
      "Epoch 110 | Train Loss: 0.5173, Acc: 83.47% | Val Loss: 0.4560, Acc: 82.46%\n"
     ]
    },
    {
     "name": "stderr",
     "output_type": "stream",
     "text": [
      "Epoch 111/120: 100%|██████████| 507/507 [03:11<00:00,  2.64it/s, acc=74.8, loss=0.72]\n"
     ]
    },
    {
     "name": "stdout",
     "output_type": "stream",
     "text": [
      "Epoch 111 | Train Loss: 0.4308, Acc: 83.67% | Val Loss: 0.5280, Acc: 79.82%\n"
     ]
    },
    {
     "name": "stderr",
     "output_type": "stream",
     "text": [
      "Epoch 112/120: 100%|██████████| 507/507 [03:12<00:00,  2.64it/s, acc=86.1, loss=0.521]\n"
     ]
    },
    {
     "name": "stdout",
     "output_type": "stream",
     "text": [
      "Epoch 112 | Train Loss: 0.4707, Acc: 82.85% | Val Loss: 0.5083, Acc: 80.61%\n"
     ]
    },
    {
     "name": "stderr",
     "output_type": "stream",
     "text": [
      "Epoch 113/120: 100%|██████████| 507/507 [03:13<00:00,  2.62it/s, acc=73.8, loss=0.601]\n"
     ]
    },
    {
     "name": "stdout",
     "output_type": "stream",
     "text": [
      "Epoch 113 | Train Loss: 0.4622, Acc: 82.61% | Val Loss: 0.4609, Acc: 82.35%\n"
     ]
    },
    {
     "name": "stderr",
     "output_type": "stream",
     "text": [
      "Epoch 114/120: 100%|██████████| 507/507 [03:13<00:00,  2.62it/s, acc=78.7, loss=0.555]\n"
     ]
    },
    {
     "name": "stdout",
     "output_type": "stream",
     "text": [
      "Epoch 114 | Train Loss: 0.4328, Acc: 83.44% | Val Loss: 0.4949, Acc: 81.04%\n"
     ]
    },
    {
     "name": "stderr",
     "output_type": "stream",
     "text": [
      "Epoch 115/120: 100%|██████████| 507/507 [03:12<00:00,  2.63it/s, acc=84, loss=0.406]\n"
     ]
    },
    {
     "name": "stdout",
     "output_type": "stream",
     "text": [
      "Epoch 115 | Train Loss: 0.4230, Acc: 83.62% | Val Loss: 0.4451, Acc: 82.91%\n"
     ]
    },
    {
     "name": "stderr",
     "output_type": "stream",
     "text": [
      "Epoch 116/120: 100%|██████████| 507/507 [03:12<00:00,  2.63it/s, acc=75.8, loss=0.597]\n"
     ]
    },
    {
     "name": "stdout",
     "output_type": "stream",
     "text": [
      "Epoch 116 | Train Loss: 0.4391, Acc: 83.19% | Val Loss: 0.4619, Acc: 82.28%\n"
     ]
    },
    {
     "name": "stderr",
     "output_type": "stream",
     "text": [
      "Epoch 117/120: 100%|██████████| 507/507 [03:12<00:00,  2.63it/s, acc=70.3, loss=0.686]\n"
     ]
    },
    {
     "name": "stdout",
     "output_type": "stream",
     "text": [
      "Epoch 117 | Train Loss: 0.4276, Acc: 83.69% | Val Loss: 0.4744, Acc: 82.21%\n"
     ]
    },
    {
     "name": "stderr",
     "output_type": "stream",
     "text": [
      "Epoch 118/120: 100%|██████████| 507/507 [03:12<00:00,  2.63it/s, acc=80.2, loss=0.442]\n"
     ]
    },
    {
     "name": "stdout",
     "output_type": "stream",
     "text": [
      "Epoch 118 | Train Loss: 0.4440, Acc: 83.32% | Val Loss: 0.4587, Acc: 82.56%\n"
     ]
    },
    {
     "name": "stderr",
     "output_type": "stream",
     "text": [
      "Epoch 119/120: 100%|██████████| 507/507 [03:12<00:00,  2.64it/s, acc=63.6, loss=1.09]\n"
     ]
    },
    {
     "name": "stdout",
     "output_type": "stream",
     "text": [
      "Epoch 119 | Train Loss: 0.4998, Acc: 83.04% | Val Loss: 0.4622, Acc: 82.19%\n"
     ]
    },
    {
     "name": "stderr",
     "output_type": "stream",
     "text": [
      "Epoch 120/120: 100%|██████████| 507/507 [03:13<00:00,  2.63it/s, acc=89.7, loss=0.275]\n"
     ]
    },
    {
     "name": "stdout",
     "output_type": "stream",
     "text": [
      "💾 Checkpoint disimpan: /content/drive/MyDrive/KoTA-309/APE/APE-Train-2/output/modifikasi_8x14d_run2/checkpoint/checkpoint_epoch_120.pt\n",
      "Epoch 120 | Train Loss: 0.4446, Acc: 83.14% | Val Loss: 0.4940, Acc: 81.88%\n",
      "📦 Model terakhir disimpan: /content/drive/MyDrive/KoTA-309/APE/APE-Train-2/output/modifikasi_8x14d_run2/last_model/unet_skresnext50_modifikasiA_last.pt\n",
      "📝 Log disimpan: /content/drive/MyDrive/KoTA-309/APE/APE-Train-2/output/modifikasi_8x14d_run2/logs/training_log_20250622_225550.txt\n"
     ]
    }
   ],
   "source": [
    "latest_checkpoint_path = get_latest_checkpoint(checkpoint_dir)\n",
    "best_val_loss = float('inf')\n",
    "start_epoch = 0\n",
    "\n",
    "if latest_checkpoint_path:\n",
    "    print(f\"🔄 Melanjutkan training dari checkpoint: {latest_checkpoint_path}\")\n",
    "    checkpoint = torch.load(latest_checkpoint_path, map_location=device)\n",
    "    model.load_state_dict(checkpoint['model_state_dict'])\n",
    "    optimizer.load_state_dict(checkpoint['optimizer_state_dict'])\n",
    "    start_epoch = checkpoint['epoch']\n",
    "    best_val_loss = checkpoint.get('best_val_loss', float('inf'))\n",
    "\n",
    "for epoch in range(start_epoch, num_epochs):\n",
    "    model.train()\n",
    "    epoch_loss, epoch_acc = 0.0, 0.0\n",
    "    pbar = tqdm(train_loader, desc=f\"Epoch {epoch+1}/{num_epochs}\", leave=True)\n",
    "\n",
    "    for images, masks in pbar:\n",
    "        images, masks = images.to(device), masks.to(device)\n",
    "        outputs = model(images)\n",
    "        loss = criterion(outputs, masks)\n",
    "\n",
    "        optimizer.zero_grad()\n",
    "        loss.backward()\n",
    "        torch.nn.utils.clip_grad_norm_(model.parameters(), max_norm=1.0)\n",
    "        optimizer.step()\n",
    "\n",
    "        acc = pixel_accuracy(outputs, masks)\n",
    "        epoch_loss += loss.item()\n",
    "        epoch_acc += acc\n",
    "\n",
    "        pbar.set_postfix(loss=loss.item(), acc=acc)\n",
    "\n",
    "    # === Validasi ===\n",
    "    val_loss, val_acc = evaluate(model, val_loader, device, criterion)  # Asumsinya juga % dari evaluate()\n",
    "\n",
    "    # === Simpan history ke list ===\n",
    "    train_losses.append(epoch_loss / len(train_loader))\n",
    "    train_accuracies.append(epoch_acc / len(train_loader))\n",
    "    val_losses.append(val_loss)\n",
    "    val_accuracies.append(val_acc)\n",
    "\n",
    "    # === Simpan ke CSV ===\n",
    "    with open(csv_path_resume, mode='w', newline='') as file:\n",
    "        writer = csv.writer(file)\n",
    "        writer.writerow([\"Epoch\", \"Train Loss\", \"Train Accuracy (%)\", \"Val Loss\", \"Val Accuracy (%)\"])\n",
    "        for i in range(len(train_losses)):\n",
    "            writer.writerow([\n",
    "                start_epoch + i + 1,\n",
    "                train_losses[i],\n",
    "                train_accuracies[i],\n",
    "                val_losses[i],\n",
    "                val_accuracies[i]\n",
    "            ])\n",
    "\n",
    "    # === Simpan Best Model ===\n",
    "    if val_loss < best_val_loss:\n",
    "        best_val_loss = val_loss\n",
    "        torch.save(model.state_dict(), best_model_path)\n",
    "        print(f\"✅ Best model updated at epoch {epoch+1}\")\n",
    "        log_lines.append(f\"✅ Best model updated at epoch {epoch+1} | Val Loss: {val_loss:.4f}\")\n",
    "\n",
    "    # === Simpan Checkpoint setiap 20 epoch ===\n",
    "    if (epoch + 1) % 10 == 0:\n",
    "        checkpoint_path = os.path.join(checkpoint_dir, f\"checkpoint_epoch_{epoch+1}.pt\")\n",
    "        torch.save({\n",
    "            'epoch': epoch + 1,\n",
    "            'model_state_dict': model.state_dict(),\n",
    "            'optimizer_state_dict': optimizer.state_dict(),\n",
    "            'best_val_loss': best_val_loss\n",
    "        }, checkpoint_path)\n",
    "        print(f\"💾 Checkpoint disimpan: {checkpoint_path}\")\n",
    "\n",
    "    # === Logging ke terminal dan log_lines ===\n",
    "    avg_train_loss = epoch_loss / len(train_loader)\n",
    "    avg_train_acc = epoch_acc / len(train_loader)\n",
    "\n",
    "    log_line = f\"Epoch {epoch+1} | Train Loss: {avg_train_loss:.4f}, Acc: {avg_train_acc:.2f}% | Val Loss: {val_loss:.4f}, Acc: {val_acc:.2f}%\"\n",
    "\n",
    "    print(log_line)\n",
    "    log_lines.append(log_line)\n",
    "\n",
    "# ========== Simpan Model Terakhir ==========\n",
    "torch.save(model.state_dict(), last_model_path)\n",
    "print(f\"📦 Model terakhir disimpan: {last_model_path}\")\n",
    "\n",
    "# ========== Simpan Log ke TXT ==========\n",
    "with open(log_path, \"w\") as f:\n",
    "    f.write(\"\\n\".join(log_lines))\n",
    "print(f\"📝 Log disimpan: {log_path}\")\n"
   ]
  },
  {
   "cell_type": "markdown",
   "metadata": {
    "id": "BrkmwlPrg4tg"
   },
   "source": [
    "Load Model"
   ]
  },
  {
   "cell_type": "code",
   "execution_count": null,
   "metadata": {
    "colab": {
     "base_uri": "https://localhost:8080/"
    },
    "executionInfo": {
     "elapsed": 469,
     "status": "ok",
     "timestamp": 1750642020504,
     "user": {
      "displayName": "Bimbingan TG 2025",
      "userId": "17786358260686151756"
     },
     "user_tz": -420
    },
    "id": "pciHc5Yrg6JC",
    "outputId": "dc9946bc-626f-4c60-a077-e271f67f9385"
   },
   "outputs": [
    {
     "data": {
      "text/plain": [
       "UNet_SKResNeXt50_Modifikasi(\n",
       "  (encoder): SKResNeXt(\n",
       "    (stem): Sequential(\n",
       "      (0): Conv2d(4, 64, kernel_size=(7, 7), stride=(2, 2), padding=(3, 3), bias=False)\n",
       "      (1): BatchNorm2d(64, eps=1e-05, momentum=0.1, affine=True, track_running_stats=True)\n",
       "      (2): ReLU(inplace=True)\n",
       "    )\n",
       "    (maxpool): MaxPool2d(kernel_size=3, stride=2, padding=1, dilation=1, ceil_mode=False)\n",
       "    (layer1): Sequential(\n",
       "      (0): resnext_block(\n",
       "        (conv1): Conv2d(64, 112, kernel_size=(1, 1), stride=(1, 1), bias=False)\n",
       "        (bn1): BatchNorm2d(112, eps=1e-05, momentum=0.1, affine=True, track_running_stats=True)\n",
       "        (skconv): SKConv(\n",
       "          (conv3): Conv2d(112, 112, kernel_size=(3, 3), stride=(1, 1), padding=(1, 1), groups=8, bias=False)\n",
       "          (bn3): BatchNorm2d(112, eps=1e-05, momentum=0.1, affine=True, track_running_stats=True)\n",
       "          (conv5): Conv2d(112, 112, kernel_size=(3, 3), stride=(1, 1), padding=(2, 2), dilation=(2, 2), groups=8, bias=False)\n",
       "          (bn5): BatchNorm2d(112, eps=1e-05, momentum=0.1, affine=True, track_running_stats=True)\n",
       "          (relu): ReLU(inplace=True)\n",
       "          (global_pool): AdaptiveAvgPool2d(output_size=1)\n",
       "          (fc1): Conv2d(112, 7, kernel_size=(1, 1), stride=(1, 1), bias=False)\n",
       "          (fc2): Conv2d(7, 224, kernel_size=(1, 1), stride=(1, 1), bias=False)\n",
       "          (softmax): Softmax(dim=1)\n",
       "        )\n",
       "        (conv3): Conv2d(112, 224, kernel_size=(1, 1), stride=(1, 1), bias=False)\n",
       "        (bn3): BatchNorm2d(224, eps=1e-05, momentum=0.1, affine=True, track_running_stats=True)\n",
       "        (relu): ReLU(inplace=True)\n",
       "        (identity_downsample): Sequential(\n",
       "          (0): Conv2d(64, 224, kernel_size=(1, 1), stride=(1, 1), bias=False)\n",
       "          (1): BatchNorm2d(224, eps=1e-05, momentum=0.1, affine=True, track_running_stats=True)\n",
       "        )\n",
       "      )\n",
       "      (1): resnext_block(\n",
       "        (conv1): Conv2d(224, 112, kernel_size=(1, 1), stride=(1, 1), bias=False)\n",
       "        (bn1): BatchNorm2d(112, eps=1e-05, momentum=0.1, affine=True, track_running_stats=True)\n",
       "        (skconv): SKConv(\n",
       "          (conv3): Conv2d(112, 112, kernel_size=(3, 3), stride=(1, 1), padding=(1, 1), groups=8, bias=False)\n",
       "          (bn3): BatchNorm2d(112, eps=1e-05, momentum=0.1, affine=True, track_running_stats=True)\n",
       "          (conv5): Conv2d(112, 112, kernel_size=(3, 3), stride=(1, 1), padding=(2, 2), dilation=(2, 2), groups=8, bias=False)\n",
       "          (bn5): BatchNorm2d(112, eps=1e-05, momentum=0.1, affine=True, track_running_stats=True)\n",
       "          (relu): ReLU(inplace=True)\n",
       "          (global_pool): AdaptiveAvgPool2d(output_size=1)\n",
       "          (fc1): Conv2d(112, 7, kernel_size=(1, 1), stride=(1, 1), bias=False)\n",
       "          (fc2): Conv2d(7, 224, kernel_size=(1, 1), stride=(1, 1), bias=False)\n",
       "          (softmax): Softmax(dim=1)\n",
       "        )\n",
       "        (conv3): Conv2d(112, 224, kernel_size=(1, 1), stride=(1, 1), bias=False)\n",
       "        (bn3): BatchNorm2d(224, eps=1e-05, momentum=0.1, affine=True, track_running_stats=True)\n",
       "        (relu): ReLU(inplace=True)\n",
       "      )\n",
       "      (2): resnext_block(\n",
       "        (conv1): Conv2d(224, 112, kernel_size=(1, 1), stride=(1, 1), bias=False)\n",
       "        (bn1): BatchNorm2d(112, eps=1e-05, momentum=0.1, affine=True, track_running_stats=True)\n",
       "        (skconv): SKConv(\n",
       "          (conv3): Conv2d(112, 112, kernel_size=(3, 3), stride=(1, 1), padding=(1, 1), groups=8, bias=False)\n",
       "          (bn3): BatchNorm2d(112, eps=1e-05, momentum=0.1, affine=True, track_running_stats=True)\n",
       "          (conv5): Conv2d(112, 112, kernel_size=(3, 3), stride=(1, 1), padding=(2, 2), dilation=(2, 2), groups=8, bias=False)\n",
       "          (bn5): BatchNorm2d(112, eps=1e-05, momentum=0.1, affine=True, track_running_stats=True)\n",
       "          (relu): ReLU(inplace=True)\n",
       "          (global_pool): AdaptiveAvgPool2d(output_size=1)\n",
       "          (fc1): Conv2d(112, 7, kernel_size=(1, 1), stride=(1, 1), bias=False)\n",
       "          (fc2): Conv2d(7, 224, kernel_size=(1, 1), stride=(1, 1), bias=False)\n",
       "          (softmax): Softmax(dim=1)\n",
       "        )\n",
       "        (conv3): Conv2d(112, 224, kernel_size=(1, 1), stride=(1, 1), bias=False)\n",
       "        (bn3): BatchNorm2d(224, eps=1e-05, momentum=0.1, affine=True, track_running_stats=True)\n",
       "        (relu): ReLU(inplace=True)\n",
       "      )\n",
       "    )\n",
       "    (layer2): Sequential(\n",
       "      (0): resnext_block(\n",
       "        (conv1): Conv2d(224, 224, kernel_size=(1, 1), stride=(1, 1), bias=False)\n",
       "        (bn1): BatchNorm2d(224, eps=1e-05, momentum=0.1, affine=True, track_running_stats=True)\n",
       "        (skconv): SKConv(\n",
       "          (conv3): Conv2d(224, 224, kernel_size=(3, 3), stride=(2, 2), padding=(1, 1), groups=8, bias=False)\n",
       "          (bn3): BatchNorm2d(224, eps=1e-05, momentum=0.1, affine=True, track_running_stats=True)\n",
       "          (conv5): Conv2d(224, 224, kernel_size=(3, 3), stride=(2, 2), padding=(2, 2), dilation=(2, 2), groups=8, bias=False)\n",
       "          (bn5): BatchNorm2d(224, eps=1e-05, momentum=0.1, affine=True, track_running_stats=True)\n",
       "          (relu): ReLU(inplace=True)\n",
       "          (global_pool): AdaptiveAvgPool2d(output_size=1)\n",
       "          (fc1): Conv2d(224, 14, kernel_size=(1, 1), stride=(1, 1), bias=False)\n",
       "          (fc2): Conv2d(14, 448, kernel_size=(1, 1), stride=(1, 1), bias=False)\n",
       "          (softmax): Softmax(dim=1)\n",
       "        )\n",
       "        (conv3): Conv2d(224, 448, kernel_size=(1, 1), stride=(1, 1), bias=False)\n",
       "        (bn3): BatchNorm2d(448, eps=1e-05, momentum=0.1, affine=True, track_running_stats=True)\n",
       "        (relu): ReLU(inplace=True)\n",
       "        (identity_downsample): Sequential(\n",
       "          (0): Conv2d(224, 448, kernel_size=(1, 1), stride=(2, 2), bias=False)\n",
       "          (1): BatchNorm2d(448, eps=1e-05, momentum=0.1, affine=True, track_running_stats=True)\n",
       "        )\n",
       "      )\n",
       "      (1): resnext_block(\n",
       "        (conv1): Conv2d(448, 224, kernel_size=(1, 1), stride=(1, 1), bias=False)\n",
       "        (bn1): BatchNorm2d(224, eps=1e-05, momentum=0.1, affine=True, track_running_stats=True)\n",
       "        (skconv): SKConv(\n",
       "          (conv3): Conv2d(224, 224, kernel_size=(3, 3), stride=(1, 1), padding=(1, 1), groups=8, bias=False)\n",
       "          (bn3): BatchNorm2d(224, eps=1e-05, momentum=0.1, affine=True, track_running_stats=True)\n",
       "          (conv5): Conv2d(224, 224, kernel_size=(3, 3), stride=(1, 1), padding=(2, 2), dilation=(2, 2), groups=8, bias=False)\n",
       "          (bn5): BatchNorm2d(224, eps=1e-05, momentum=0.1, affine=True, track_running_stats=True)\n",
       "          (relu): ReLU(inplace=True)\n",
       "          (global_pool): AdaptiveAvgPool2d(output_size=1)\n",
       "          (fc1): Conv2d(224, 14, kernel_size=(1, 1), stride=(1, 1), bias=False)\n",
       "          (fc2): Conv2d(14, 448, kernel_size=(1, 1), stride=(1, 1), bias=False)\n",
       "          (softmax): Softmax(dim=1)\n",
       "        )\n",
       "        (conv3): Conv2d(224, 448, kernel_size=(1, 1), stride=(1, 1), bias=False)\n",
       "        (bn3): BatchNorm2d(448, eps=1e-05, momentum=0.1, affine=True, track_running_stats=True)\n",
       "        (relu): ReLU(inplace=True)\n",
       "      )\n",
       "      (2): resnext_block(\n",
       "        (conv1): Conv2d(448, 224, kernel_size=(1, 1), stride=(1, 1), bias=False)\n",
       "        (bn1): BatchNorm2d(224, eps=1e-05, momentum=0.1, affine=True, track_running_stats=True)\n",
       "        (skconv): SKConv(\n",
       "          (conv3): Conv2d(224, 224, kernel_size=(3, 3), stride=(1, 1), padding=(1, 1), groups=8, bias=False)\n",
       "          (bn3): BatchNorm2d(224, eps=1e-05, momentum=0.1, affine=True, track_running_stats=True)\n",
       "          (conv5): Conv2d(224, 224, kernel_size=(3, 3), stride=(1, 1), padding=(2, 2), dilation=(2, 2), groups=8, bias=False)\n",
       "          (bn5): BatchNorm2d(224, eps=1e-05, momentum=0.1, affine=True, track_running_stats=True)\n",
       "          (relu): ReLU(inplace=True)\n",
       "          (global_pool): AdaptiveAvgPool2d(output_size=1)\n",
       "          (fc1): Conv2d(224, 14, kernel_size=(1, 1), stride=(1, 1), bias=False)\n",
       "          (fc2): Conv2d(14, 448, kernel_size=(1, 1), stride=(1, 1), bias=False)\n",
       "          (softmax): Softmax(dim=1)\n",
       "        )\n",
       "        (conv3): Conv2d(224, 448, kernel_size=(1, 1), stride=(1, 1), bias=False)\n",
       "        (bn3): BatchNorm2d(448, eps=1e-05, momentum=0.1, affine=True, track_running_stats=True)\n",
       "        (relu): ReLU(inplace=True)\n",
       "      )\n",
       "      (3): resnext_block(\n",
       "        (conv1): Conv2d(448, 224, kernel_size=(1, 1), stride=(1, 1), bias=False)\n",
       "        (bn1): BatchNorm2d(224, eps=1e-05, momentum=0.1, affine=True, track_running_stats=True)\n",
       "        (skconv): SKConv(\n",
       "          (conv3): Conv2d(224, 224, kernel_size=(3, 3), stride=(1, 1), padding=(1, 1), groups=8, bias=False)\n",
       "          (bn3): BatchNorm2d(224, eps=1e-05, momentum=0.1, affine=True, track_running_stats=True)\n",
       "          (conv5): Conv2d(224, 224, kernel_size=(3, 3), stride=(1, 1), padding=(2, 2), dilation=(2, 2), groups=8, bias=False)\n",
       "          (bn5): BatchNorm2d(224, eps=1e-05, momentum=0.1, affine=True, track_running_stats=True)\n",
       "          (relu): ReLU(inplace=True)\n",
       "          (global_pool): AdaptiveAvgPool2d(output_size=1)\n",
       "          (fc1): Conv2d(224, 14, kernel_size=(1, 1), stride=(1, 1), bias=False)\n",
       "          (fc2): Conv2d(14, 448, kernel_size=(1, 1), stride=(1, 1), bias=False)\n",
       "          (softmax): Softmax(dim=1)\n",
       "        )\n",
       "        (conv3): Conv2d(224, 448, kernel_size=(1, 1), stride=(1, 1), bias=False)\n",
       "        (bn3): BatchNorm2d(448, eps=1e-05, momentum=0.1, affine=True, track_running_stats=True)\n",
       "        (relu): ReLU(inplace=True)\n",
       "      )\n",
       "    )\n",
       "    (layer3): Sequential(\n",
       "      (0): resnext_block(\n",
       "        (conv1): Conv2d(448, 448, kernel_size=(1, 1), stride=(1, 1), bias=False)\n",
       "        (bn1): BatchNorm2d(448, eps=1e-05, momentum=0.1, affine=True, track_running_stats=True)\n",
       "        (skconv): SKConv(\n",
       "          (conv3): Conv2d(448, 448, kernel_size=(3, 3), stride=(2, 2), padding=(1, 1), groups=8, bias=False)\n",
       "          (bn3): BatchNorm2d(448, eps=1e-05, momentum=0.1, affine=True, track_running_stats=True)\n",
       "          (conv5): Conv2d(448, 448, kernel_size=(3, 3), stride=(2, 2), padding=(2, 2), dilation=(2, 2), groups=8, bias=False)\n",
       "          (bn5): BatchNorm2d(448, eps=1e-05, momentum=0.1, affine=True, track_running_stats=True)\n",
       "          (relu): ReLU(inplace=True)\n",
       "          (global_pool): AdaptiveAvgPool2d(output_size=1)\n",
       "          (fc1): Conv2d(448, 28, kernel_size=(1, 1), stride=(1, 1), bias=False)\n",
       "          (fc2): Conv2d(28, 896, kernel_size=(1, 1), stride=(1, 1), bias=False)\n",
       "          (softmax): Softmax(dim=1)\n",
       "        )\n",
       "        (conv3): Conv2d(448, 896, kernel_size=(1, 1), stride=(1, 1), bias=False)\n",
       "        (bn3): BatchNorm2d(896, eps=1e-05, momentum=0.1, affine=True, track_running_stats=True)\n",
       "        (relu): ReLU(inplace=True)\n",
       "        (identity_downsample): Sequential(\n",
       "          (0): Conv2d(448, 896, kernel_size=(1, 1), stride=(2, 2), bias=False)\n",
       "          (1): BatchNorm2d(896, eps=1e-05, momentum=0.1, affine=True, track_running_stats=True)\n",
       "        )\n",
       "      )\n",
       "      (1): resnext_block(\n",
       "        (conv1): Conv2d(896, 448, kernel_size=(1, 1), stride=(1, 1), bias=False)\n",
       "        (bn1): BatchNorm2d(448, eps=1e-05, momentum=0.1, affine=True, track_running_stats=True)\n",
       "        (skconv): SKConv(\n",
       "          (conv3): Conv2d(448, 448, kernel_size=(3, 3), stride=(1, 1), padding=(1, 1), groups=8, bias=False)\n",
       "          (bn3): BatchNorm2d(448, eps=1e-05, momentum=0.1, affine=True, track_running_stats=True)\n",
       "          (conv5): Conv2d(448, 448, kernel_size=(3, 3), stride=(1, 1), padding=(2, 2), dilation=(2, 2), groups=8, bias=False)\n",
       "          (bn5): BatchNorm2d(448, eps=1e-05, momentum=0.1, affine=True, track_running_stats=True)\n",
       "          (relu): ReLU(inplace=True)\n",
       "          (global_pool): AdaptiveAvgPool2d(output_size=1)\n",
       "          (fc1): Conv2d(448, 28, kernel_size=(1, 1), stride=(1, 1), bias=False)\n",
       "          (fc2): Conv2d(28, 896, kernel_size=(1, 1), stride=(1, 1), bias=False)\n",
       "          (softmax): Softmax(dim=1)\n",
       "        )\n",
       "        (conv3): Conv2d(448, 896, kernel_size=(1, 1), stride=(1, 1), bias=False)\n",
       "        (bn3): BatchNorm2d(896, eps=1e-05, momentum=0.1, affine=True, track_running_stats=True)\n",
       "        (relu): ReLU(inplace=True)\n",
       "      )\n",
       "      (2): resnext_block(\n",
       "        (conv1): Conv2d(896, 448, kernel_size=(1, 1), stride=(1, 1), bias=False)\n",
       "        (bn1): BatchNorm2d(448, eps=1e-05, momentum=0.1, affine=True, track_running_stats=True)\n",
       "        (skconv): SKConv(\n",
       "          (conv3): Conv2d(448, 448, kernel_size=(3, 3), stride=(1, 1), padding=(1, 1), groups=8, bias=False)\n",
       "          (bn3): BatchNorm2d(448, eps=1e-05, momentum=0.1, affine=True, track_running_stats=True)\n",
       "          (conv5): Conv2d(448, 448, kernel_size=(3, 3), stride=(1, 1), padding=(2, 2), dilation=(2, 2), groups=8, bias=False)\n",
       "          (bn5): BatchNorm2d(448, eps=1e-05, momentum=0.1, affine=True, track_running_stats=True)\n",
       "          (relu): ReLU(inplace=True)\n",
       "          (global_pool): AdaptiveAvgPool2d(output_size=1)\n",
       "          (fc1): Conv2d(448, 28, kernel_size=(1, 1), stride=(1, 1), bias=False)\n",
       "          (fc2): Conv2d(28, 896, kernel_size=(1, 1), stride=(1, 1), bias=False)\n",
       "          (softmax): Softmax(dim=1)\n",
       "        )\n",
       "        (conv3): Conv2d(448, 896, kernel_size=(1, 1), stride=(1, 1), bias=False)\n",
       "        (bn3): BatchNorm2d(896, eps=1e-05, momentum=0.1, affine=True, track_running_stats=True)\n",
       "        (relu): ReLU(inplace=True)\n",
       "      )\n",
       "      (3): resnext_block(\n",
       "        (conv1): Conv2d(896, 448, kernel_size=(1, 1), stride=(1, 1), bias=False)\n",
       "        (bn1): BatchNorm2d(448, eps=1e-05, momentum=0.1, affine=True, track_running_stats=True)\n",
       "        (skconv): SKConv(\n",
       "          (conv3): Conv2d(448, 448, kernel_size=(3, 3), stride=(1, 1), padding=(1, 1), groups=8, bias=False)\n",
       "          (bn3): BatchNorm2d(448, eps=1e-05, momentum=0.1, affine=True, track_running_stats=True)\n",
       "          (conv5): Conv2d(448, 448, kernel_size=(3, 3), stride=(1, 1), padding=(2, 2), dilation=(2, 2), groups=8, bias=False)\n",
       "          (bn5): BatchNorm2d(448, eps=1e-05, momentum=0.1, affine=True, track_running_stats=True)\n",
       "          (relu): ReLU(inplace=True)\n",
       "          (global_pool): AdaptiveAvgPool2d(output_size=1)\n",
       "          (fc1): Conv2d(448, 28, kernel_size=(1, 1), stride=(1, 1), bias=False)\n",
       "          (fc2): Conv2d(28, 896, kernel_size=(1, 1), stride=(1, 1), bias=False)\n",
       "          (softmax): Softmax(dim=1)\n",
       "        )\n",
       "        (conv3): Conv2d(448, 896, kernel_size=(1, 1), stride=(1, 1), bias=False)\n",
       "        (bn3): BatchNorm2d(896, eps=1e-05, momentum=0.1, affine=True, track_running_stats=True)\n",
       "        (relu): ReLU(inplace=True)\n",
       "      )\n",
       "      (4): resnext_block(\n",
       "        (conv1): Conv2d(896, 448, kernel_size=(1, 1), stride=(1, 1), bias=False)\n",
       "        (bn1): BatchNorm2d(448, eps=1e-05, momentum=0.1, affine=True, track_running_stats=True)\n",
       "        (skconv): SKConv(\n",
       "          (conv3): Conv2d(448, 448, kernel_size=(3, 3), stride=(1, 1), padding=(1, 1), groups=8, bias=False)\n",
       "          (bn3): BatchNorm2d(448, eps=1e-05, momentum=0.1, affine=True, track_running_stats=True)\n",
       "          (conv5): Conv2d(448, 448, kernel_size=(3, 3), stride=(1, 1), padding=(2, 2), dilation=(2, 2), groups=8, bias=False)\n",
       "          (bn5): BatchNorm2d(448, eps=1e-05, momentum=0.1, affine=True, track_running_stats=True)\n",
       "          (relu): ReLU(inplace=True)\n",
       "          (global_pool): AdaptiveAvgPool2d(output_size=1)\n",
       "          (fc1): Conv2d(448, 28, kernel_size=(1, 1), stride=(1, 1), bias=False)\n",
       "          (fc2): Conv2d(28, 896, kernel_size=(1, 1), stride=(1, 1), bias=False)\n",
       "          (softmax): Softmax(dim=1)\n",
       "        )\n",
       "        (conv3): Conv2d(448, 896, kernel_size=(1, 1), stride=(1, 1), bias=False)\n",
       "        (bn3): BatchNorm2d(896, eps=1e-05, momentum=0.1, affine=True, track_running_stats=True)\n",
       "        (relu): ReLU(inplace=True)\n",
       "      )\n",
       "      (5): resnext_block(\n",
       "        (conv1): Conv2d(896, 448, kernel_size=(1, 1), stride=(1, 1), bias=False)\n",
       "        (bn1): BatchNorm2d(448, eps=1e-05, momentum=0.1, affine=True, track_running_stats=True)\n",
       "        (skconv): SKConv(\n",
       "          (conv3): Conv2d(448, 448, kernel_size=(3, 3), stride=(1, 1), padding=(1, 1), groups=8, bias=False)\n",
       "          (bn3): BatchNorm2d(448, eps=1e-05, momentum=0.1, affine=True, track_running_stats=True)\n",
       "          (conv5): Conv2d(448, 448, kernel_size=(3, 3), stride=(1, 1), padding=(2, 2), dilation=(2, 2), groups=8, bias=False)\n",
       "          (bn5): BatchNorm2d(448, eps=1e-05, momentum=0.1, affine=True, track_running_stats=True)\n",
       "          (relu): ReLU(inplace=True)\n",
       "          (global_pool): AdaptiveAvgPool2d(output_size=1)\n",
       "          (fc1): Conv2d(448, 28, kernel_size=(1, 1), stride=(1, 1), bias=False)\n",
       "          (fc2): Conv2d(28, 896, kernel_size=(1, 1), stride=(1, 1), bias=False)\n",
       "          (softmax): Softmax(dim=1)\n",
       "        )\n",
       "        (conv3): Conv2d(448, 896, kernel_size=(1, 1), stride=(1, 1), bias=False)\n",
       "        (bn3): BatchNorm2d(896, eps=1e-05, momentum=0.1, affine=True, track_running_stats=True)\n",
       "        (relu): ReLU(inplace=True)\n",
       "      )\n",
       "    )\n",
       "    (layer4): Sequential(\n",
       "      (0): resnext_block(\n",
       "        (conv1): Conv2d(896, 896, kernel_size=(1, 1), stride=(1, 1), bias=False)\n",
       "        (bn1): BatchNorm2d(896, eps=1e-05, momentum=0.1, affine=True, track_running_stats=True)\n",
       "        (skconv): SKConv(\n",
       "          (conv3): Conv2d(896, 896, kernel_size=(3, 3), stride=(2, 2), padding=(1, 1), groups=8, bias=False)\n",
       "          (bn3): BatchNorm2d(896, eps=1e-05, momentum=0.1, affine=True, track_running_stats=True)\n",
       "          (conv5): Conv2d(896, 896, kernel_size=(3, 3), stride=(2, 2), padding=(2, 2), dilation=(2, 2), groups=8, bias=False)\n",
       "          (bn5): BatchNorm2d(896, eps=1e-05, momentum=0.1, affine=True, track_running_stats=True)\n",
       "          (relu): ReLU(inplace=True)\n",
       "          (global_pool): AdaptiveAvgPool2d(output_size=1)\n",
       "          (fc1): Conv2d(896, 56, kernel_size=(1, 1), stride=(1, 1), bias=False)\n",
       "          (fc2): Conv2d(56, 1792, kernel_size=(1, 1), stride=(1, 1), bias=False)\n",
       "          (softmax): Softmax(dim=1)\n",
       "        )\n",
       "        (conv3): Conv2d(896, 1792, kernel_size=(1, 1), stride=(1, 1), bias=False)\n",
       "        (bn3): BatchNorm2d(1792, eps=1e-05, momentum=0.1, affine=True, track_running_stats=True)\n",
       "        (relu): ReLU(inplace=True)\n",
       "        (identity_downsample): Sequential(\n",
       "          (0): Conv2d(896, 1792, kernel_size=(1, 1), stride=(2, 2), bias=False)\n",
       "          (1): BatchNorm2d(1792, eps=1e-05, momentum=0.1, affine=True, track_running_stats=True)\n",
       "        )\n",
       "      )\n",
       "      (1): resnext_block(\n",
       "        (conv1): Conv2d(1792, 896, kernel_size=(1, 1), stride=(1, 1), bias=False)\n",
       "        (bn1): BatchNorm2d(896, eps=1e-05, momentum=0.1, affine=True, track_running_stats=True)\n",
       "        (skconv): SKConv(\n",
       "          (conv3): Conv2d(896, 896, kernel_size=(3, 3), stride=(1, 1), padding=(1, 1), groups=8, bias=False)\n",
       "          (bn3): BatchNorm2d(896, eps=1e-05, momentum=0.1, affine=True, track_running_stats=True)\n",
       "          (conv5): Conv2d(896, 896, kernel_size=(3, 3), stride=(1, 1), padding=(2, 2), dilation=(2, 2), groups=8, bias=False)\n",
       "          (bn5): BatchNorm2d(896, eps=1e-05, momentum=0.1, affine=True, track_running_stats=True)\n",
       "          (relu): ReLU(inplace=True)\n",
       "          (global_pool): AdaptiveAvgPool2d(output_size=1)\n",
       "          (fc1): Conv2d(896, 56, kernel_size=(1, 1), stride=(1, 1), bias=False)\n",
       "          (fc2): Conv2d(56, 1792, kernel_size=(1, 1), stride=(1, 1), bias=False)\n",
       "          (softmax): Softmax(dim=1)\n",
       "        )\n",
       "        (conv3): Conv2d(896, 1792, kernel_size=(1, 1), stride=(1, 1), bias=False)\n",
       "        (bn3): BatchNorm2d(1792, eps=1e-05, momentum=0.1, affine=True, track_running_stats=True)\n",
       "        (relu): ReLU(inplace=True)\n",
       "      )\n",
       "      (2): resnext_block(\n",
       "        (conv1): Conv2d(1792, 896, kernel_size=(1, 1), stride=(1, 1), bias=False)\n",
       "        (bn1): BatchNorm2d(896, eps=1e-05, momentum=0.1, affine=True, track_running_stats=True)\n",
       "        (skconv): SKConv(\n",
       "          (conv3): Conv2d(896, 896, kernel_size=(3, 3), stride=(1, 1), padding=(1, 1), groups=8, bias=False)\n",
       "          (bn3): BatchNorm2d(896, eps=1e-05, momentum=0.1, affine=True, track_running_stats=True)\n",
       "          (conv5): Conv2d(896, 896, kernel_size=(3, 3), stride=(1, 1), padding=(2, 2), dilation=(2, 2), groups=8, bias=False)\n",
       "          (bn5): BatchNorm2d(896, eps=1e-05, momentum=0.1, affine=True, track_running_stats=True)\n",
       "          (relu): ReLU(inplace=True)\n",
       "          (global_pool): AdaptiveAvgPool2d(output_size=1)\n",
       "          (fc1): Conv2d(896, 56, kernel_size=(1, 1), stride=(1, 1), bias=False)\n",
       "          (fc2): Conv2d(56, 1792, kernel_size=(1, 1), stride=(1, 1), bias=False)\n",
       "          (softmax): Softmax(dim=1)\n",
       "        )\n",
       "        (conv3): Conv2d(896, 1792, kernel_size=(1, 1), stride=(1, 1), bias=False)\n",
       "        (bn3): BatchNorm2d(1792, eps=1e-05, momentum=0.1, affine=True, track_running_stats=True)\n",
       "        (relu): ReLU(inplace=True)\n",
       "      )\n",
       "    )\n",
       "  )\n",
       "  (up1): DUpsampling(\n",
       "    (conv1): Conv2d(1792, 3584, kernel_size=(1, 1), stride=(1, 1), bias=False)\n",
       "  )\n",
       "  (dec1): Sequential(\n",
       "    (0): Conv2d(1792, 896, kernel_size=(3, 3), stride=(1, 1), padding=(1, 1))\n",
       "    (1): ReLU(inplace=True)\n",
       "    (2): Conv2d(896, 896, kernel_size=(3, 3), stride=(1, 1), padding=(1, 1))\n",
       "    (3): ReLU(inplace=True)\n",
       "  )\n",
       "  (dec1_att): AttentionBlock(\n",
       "    (position_attention): PositionLinearAttention(\n",
       "      (query_conv): Conv2d(896, 112, kernel_size=(1, 1), stride=(1, 1))\n",
       "      (key_conv): Conv2d(896, 112, kernel_size=(1, 1), stride=(1, 1))\n",
       "      (value_conv): Conv2d(896, 896, kernel_size=(1, 1), stride=(1, 1))\n",
       "    )\n",
       "    (channel_attention): ChannelLinearAttention()\n",
       "  )\n",
       "  (up2): DUpsampling(\n",
       "    (conv1): Conv2d(896, 1792, kernel_size=(1, 1), stride=(1, 1), bias=False)\n",
       "  )\n",
       "  (dec2): Sequential(\n",
       "    (0): Conv2d(1792, 448, kernel_size=(3, 3), stride=(1, 1), padding=(1, 1))\n",
       "    (1): ReLU(inplace=True)\n",
       "    (2): Conv2d(448, 448, kernel_size=(3, 3), stride=(1, 1), padding=(1, 1))\n",
       "    (3): ReLU(inplace=True)\n",
       "  )\n",
       "  (dec2_att): AttentionBlock(\n",
       "    (position_attention): PositionLinearAttention(\n",
       "      (query_conv): Conv2d(448, 56, kernel_size=(1, 1), stride=(1, 1))\n",
       "      (key_conv): Conv2d(448, 56, kernel_size=(1, 1), stride=(1, 1))\n",
       "      (value_conv): Conv2d(448, 448, kernel_size=(1, 1), stride=(1, 1))\n",
       "    )\n",
       "    (channel_attention): ChannelLinearAttention()\n",
       "  )\n",
       "  (up3): DUpsampling(\n",
       "    (conv1): Conv2d(448, 896, kernel_size=(1, 1), stride=(1, 1), bias=False)\n",
       "  )\n",
       "  (dec3): Sequential(\n",
       "    (0): Conv2d(1792, 224, kernel_size=(3, 3), stride=(1, 1), padding=(1, 1))\n",
       "    (1): ReLU(inplace=True)\n",
       "    (2): Conv2d(224, 224, kernel_size=(3, 3), stride=(1, 1), padding=(1, 1))\n",
       "    (3): ReLU(inplace=True)\n",
       "  )\n",
       "  (dec3_att): AttentionBlock(\n",
       "    (position_attention): PositionLinearAttention(\n",
       "      (query_conv): Conv2d(224, 28, kernel_size=(1, 1), stride=(1, 1))\n",
       "      (key_conv): Conv2d(224, 28, kernel_size=(1, 1), stride=(1, 1))\n",
       "      (value_conv): Conv2d(224, 224, kernel_size=(1, 1), stride=(1, 1))\n",
       "    )\n",
       "    (channel_attention): ChannelLinearAttention()\n",
       "  )\n",
       "  (up4): DUpsampling(\n",
       "    (conv1): Conv2d(224, 512, kernel_size=(1, 1), stride=(1, 1), bias=False)\n",
       "  )\n",
       "  (dec4): Sequential(\n",
       "    (0): Conv2d(1760, 64, kernel_size=(3, 3), stride=(1, 1), padding=(1, 1))\n",
       "    (1): ReLU(inplace=True)\n",
       "    (2): Conv2d(64, 64, kernel_size=(3, 3), stride=(1, 1), padding=(1, 1))\n",
       "    (3): ReLU(inplace=True)\n",
       "  )\n",
       "  (dec4_att): AttentionBlock(\n",
       "    (position_attention): PositionLinearAttention(\n",
       "      (query_conv): Conv2d(64, 8, kernel_size=(1, 1), stride=(1, 1))\n",
       "      (key_conv): Conv2d(64, 8, kernel_size=(1, 1), stride=(1, 1))\n",
       "      (value_conv): Conv2d(64, 64, kernel_size=(1, 1), stride=(1, 1))\n",
       "    )\n",
       "    (channel_attention): ChannelLinearAttention()\n",
       "  )\n",
       "  (out_conv): Conv2d(64, 6, kernel_size=(1, 1), stride=(1, 1))\n",
       ")"
      ]
     },
     "execution_count": 32,
     "metadata": {},
     "output_type": "execute_result"
    }
   ],
   "source": [
    "# Load Model GPU\n",
    "model.load_state_dict(torch.load(best_model_path))\n",
    "\n",
    "# Load Model CPU\n",
    "# model.load_state_dict(torch.load(last_model_path, map_location=torch.device('cpu')))\n",
    "\n",
    "model.eval()"
   ]
  },
  {
   "cell_type": "markdown",
   "metadata": {
    "id": "c619-Bv7RG_7"
   },
   "source": [
    "# Evaluasi Model"
   ]
  },
  {
   "cell_type": "markdown",
   "metadata": {
    "id": "MIgh-9ctQEzB"
   },
   "source": [
    "#### Plot Loss and Plot Akurasi dari variabel history train"
   ]
  },
  {
   "cell_type": "markdown",
   "metadata": {
    "id": "4-9Hy8z5eaTq"
   },
   "source": [
    "Plot Loss"
   ]
  },
  {
   "cell_type": "code",
   "execution_count": null,
   "metadata": {
    "colab": {
     "base_uri": "https://localhost:8080/",
     "height": 790
    },
    "executionInfo": {
     "elapsed": 227,
     "status": "error",
     "timestamp": 1750163140318,
     "user": {
      "displayName": "Bimbingan TG 2025",
      "userId": "17786358260686151756"
     },
     "user_tz": -420
    },
    "id": "Q1jjciElkFYT",
    "outputId": "38dbc1e0-a040-45de-df61-5e1e19d70672"
   },
   "outputs": [
    {
     "ename": "ValueError",
     "evalue": "x and y must have same first dimension, but have shapes (100,) and (41,)",
     "output_type": "error",
     "traceback": [
      "\u001b[0;31m---------------------------------------------------------------------------\u001b[0m",
      "\u001b[0;31mValueError\u001b[0m                                Traceback (most recent call last)",
      "\u001b[0;32m<ipython-input-24-3327006633>\u001b[0m in \u001b[0;36m<cell line: 0>\u001b[0;34m()\u001b[0m\n\u001b[1;32m      1\u001b[0m \u001b[0;31m# Plot Loss\u001b[0m\u001b[0;34m\u001b[0m\u001b[0;34m\u001b[0m\u001b[0m\n\u001b[1;32m      2\u001b[0m \u001b[0mplt\u001b[0m\u001b[0;34m.\u001b[0m\u001b[0mfigure\u001b[0m\u001b[0;34m(\u001b[0m\u001b[0mfigsize\u001b[0m\u001b[0;34m=\u001b[0m\u001b[0;34m(\u001b[0m\u001b[0;36m10\u001b[0m\u001b[0;34m,\u001b[0m \u001b[0;36m5\u001b[0m\u001b[0;34m)\u001b[0m\u001b[0;34m)\u001b[0m\u001b[0;34m\u001b[0m\u001b[0;34m\u001b[0m\u001b[0m\n\u001b[0;32m----> 3\u001b[0;31m \u001b[0mplt\u001b[0m\u001b[0;34m.\u001b[0m\u001b[0mplot\u001b[0m\u001b[0;34m(\u001b[0m\u001b[0mrange\u001b[0m\u001b[0;34m(\u001b[0m\u001b[0;36m1\u001b[0m\u001b[0;34m,\u001b[0m \u001b[0mnum_epochs\u001b[0m\u001b[0;34m+\u001b[0m\u001b[0;36m1\u001b[0m\u001b[0;34m)\u001b[0m\u001b[0;34m,\u001b[0m \u001b[0mtrain_losses\u001b[0m\u001b[0;34m,\u001b[0m \u001b[0mlabel\u001b[0m\u001b[0;34m=\u001b[0m\u001b[0;34m'Train Loss'\u001b[0m\u001b[0;34m)\u001b[0m\u001b[0;34m\u001b[0m\u001b[0;34m\u001b[0m\u001b[0m\n\u001b[0m\u001b[1;32m      4\u001b[0m \u001b[0mplt\u001b[0m\u001b[0;34m.\u001b[0m\u001b[0mplot\u001b[0m\u001b[0;34m(\u001b[0m\u001b[0mrange\u001b[0m\u001b[0;34m(\u001b[0m\u001b[0;36m1\u001b[0m\u001b[0;34m,\u001b[0m \u001b[0mnum_epochs\u001b[0m\u001b[0;34m+\u001b[0m\u001b[0;36m1\u001b[0m\u001b[0;34m)\u001b[0m\u001b[0;34m,\u001b[0m \u001b[0mval_losses\u001b[0m\u001b[0;34m,\u001b[0m \u001b[0mlabel\u001b[0m\u001b[0;34m=\u001b[0m\u001b[0;34m'Val Loss'\u001b[0m\u001b[0;34m)\u001b[0m\u001b[0;34m\u001b[0m\u001b[0;34m\u001b[0m\u001b[0m\n\u001b[1;32m      5\u001b[0m \u001b[0mplt\u001b[0m\u001b[0;34m.\u001b[0m\u001b[0mxlabel\u001b[0m\u001b[0;34m(\u001b[0m\u001b[0;34m'Epoch'\u001b[0m\u001b[0;34m)\u001b[0m\u001b[0;34m\u001b[0m\u001b[0;34m\u001b[0m\u001b[0m\n",
      "\u001b[0;32m/usr/local/lib/python3.11/dist-packages/matplotlib/pyplot.py\u001b[0m in \u001b[0;36mplot\u001b[0;34m(scalex, scaley, data, *args, **kwargs)\u001b[0m\n\u001b[1;32m   3827\u001b[0m     \u001b[0;34m**\u001b[0m\u001b[0mkwargs\u001b[0m\u001b[0;34m,\u001b[0m\u001b[0;34m\u001b[0m\u001b[0;34m\u001b[0m\u001b[0m\n\u001b[1;32m   3828\u001b[0m ) -> list[Line2D]:\n\u001b[0;32m-> 3829\u001b[0;31m     return gca().plot(\n\u001b[0m\u001b[1;32m   3830\u001b[0m         \u001b[0;34m*\u001b[0m\u001b[0margs\u001b[0m\u001b[0;34m,\u001b[0m\u001b[0;34m\u001b[0m\u001b[0;34m\u001b[0m\u001b[0m\n\u001b[1;32m   3831\u001b[0m         \u001b[0mscalex\u001b[0m\u001b[0;34m=\u001b[0m\u001b[0mscalex\u001b[0m\u001b[0;34m,\u001b[0m\u001b[0;34m\u001b[0m\u001b[0;34m\u001b[0m\u001b[0m\n",
      "\u001b[0;32m/usr/local/lib/python3.11/dist-packages/matplotlib/axes/_axes.py\u001b[0m in \u001b[0;36mplot\u001b[0;34m(self, scalex, scaley, data, *args, **kwargs)\u001b[0m\n\u001b[1;32m   1775\u001b[0m         \"\"\"\n\u001b[1;32m   1776\u001b[0m         \u001b[0mkwargs\u001b[0m \u001b[0;34m=\u001b[0m \u001b[0mcbook\u001b[0m\u001b[0;34m.\u001b[0m\u001b[0mnormalize_kwargs\u001b[0m\u001b[0;34m(\u001b[0m\u001b[0mkwargs\u001b[0m\u001b[0;34m,\u001b[0m \u001b[0mmlines\u001b[0m\u001b[0;34m.\u001b[0m\u001b[0mLine2D\u001b[0m\u001b[0;34m)\u001b[0m\u001b[0;34m\u001b[0m\u001b[0;34m\u001b[0m\u001b[0m\n\u001b[0;32m-> 1777\u001b[0;31m         \u001b[0mlines\u001b[0m \u001b[0;34m=\u001b[0m \u001b[0;34m[\u001b[0m\u001b[0;34m*\u001b[0m\u001b[0mself\u001b[0m\u001b[0;34m.\u001b[0m\u001b[0m_get_lines\u001b[0m\u001b[0;34m(\u001b[0m\u001b[0mself\u001b[0m\u001b[0;34m,\u001b[0m \u001b[0;34m*\u001b[0m\u001b[0margs\u001b[0m\u001b[0;34m,\u001b[0m \u001b[0mdata\u001b[0m\u001b[0;34m=\u001b[0m\u001b[0mdata\u001b[0m\u001b[0;34m,\u001b[0m \u001b[0;34m**\u001b[0m\u001b[0mkwargs\u001b[0m\u001b[0;34m)\u001b[0m\u001b[0;34m]\u001b[0m\u001b[0;34m\u001b[0m\u001b[0;34m\u001b[0m\u001b[0m\n\u001b[0m\u001b[1;32m   1778\u001b[0m         \u001b[0;32mfor\u001b[0m \u001b[0mline\u001b[0m \u001b[0;32min\u001b[0m \u001b[0mlines\u001b[0m\u001b[0;34m:\u001b[0m\u001b[0;34m\u001b[0m\u001b[0;34m\u001b[0m\u001b[0m\n\u001b[1;32m   1779\u001b[0m             \u001b[0mself\u001b[0m\u001b[0;34m.\u001b[0m\u001b[0madd_line\u001b[0m\u001b[0;34m(\u001b[0m\u001b[0mline\u001b[0m\u001b[0;34m)\u001b[0m\u001b[0;34m\u001b[0m\u001b[0;34m\u001b[0m\u001b[0m\n",
      "\u001b[0;32m/usr/local/lib/python3.11/dist-packages/matplotlib/axes/_base.py\u001b[0m in \u001b[0;36m__call__\u001b[0;34m(self, axes, data, return_kwargs, *args, **kwargs)\u001b[0m\n\u001b[1;32m    295\u001b[0m                 \u001b[0mthis\u001b[0m \u001b[0;34m+=\u001b[0m \u001b[0margs\u001b[0m\u001b[0;34m[\u001b[0m\u001b[0;36m0\u001b[0m\u001b[0;34m]\u001b[0m\u001b[0;34m,\u001b[0m\u001b[0;34m\u001b[0m\u001b[0;34m\u001b[0m\u001b[0m\n\u001b[1;32m    296\u001b[0m                 \u001b[0margs\u001b[0m \u001b[0;34m=\u001b[0m \u001b[0margs\u001b[0m\u001b[0;34m[\u001b[0m\u001b[0;36m1\u001b[0m\u001b[0;34m:\u001b[0m\u001b[0;34m]\u001b[0m\u001b[0;34m\u001b[0m\u001b[0;34m\u001b[0m\u001b[0m\n\u001b[0;32m--> 297\u001b[0;31m             yield from self._plot_args(\n\u001b[0m\u001b[1;32m    298\u001b[0m                 \u001b[0maxes\u001b[0m\u001b[0;34m,\u001b[0m \u001b[0mthis\u001b[0m\u001b[0;34m,\u001b[0m \u001b[0mkwargs\u001b[0m\u001b[0;34m,\u001b[0m \u001b[0mambiguous_fmt_datakey\u001b[0m\u001b[0;34m=\u001b[0m\u001b[0mambiguous_fmt_datakey\u001b[0m\u001b[0;34m,\u001b[0m\u001b[0;34m\u001b[0m\u001b[0;34m\u001b[0m\u001b[0m\n\u001b[1;32m    299\u001b[0m                 \u001b[0mreturn_kwargs\u001b[0m\u001b[0;34m=\u001b[0m\u001b[0mreturn_kwargs\u001b[0m\u001b[0;34m\u001b[0m\u001b[0;34m\u001b[0m\u001b[0m\n",
      "\u001b[0;32m/usr/local/lib/python3.11/dist-packages/matplotlib/axes/_base.py\u001b[0m in \u001b[0;36m_plot_args\u001b[0;34m(self, axes, tup, kwargs, return_kwargs, ambiguous_fmt_datakey)\u001b[0m\n\u001b[1;32m    492\u001b[0m \u001b[0;34m\u001b[0m\u001b[0m\n\u001b[1;32m    493\u001b[0m         \u001b[0;32mif\u001b[0m \u001b[0mx\u001b[0m\u001b[0;34m.\u001b[0m\u001b[0mshape\u001b[0m\u001b[0;34m[\u001b[0m\u001b[0;36m0\u001b[0m\u001b[0;34m]\u001b[0m \u001b[0;34m!=\u001b[0m \u001b[0my\u001b[0m\u001b[0;34m.\u001b[0m\u001b[0mshape\u001b[0m\u001b[0;34m[\u001b[0m\u001b[0;36m0\u001b[0m\u001b[0;34m]\u001b[0m\u001b[0;34m:\u001b[0m\u001b[0;34m\u001b[0m\u001b[0;34m\u001b[0m\u001b[0m\n\u001b[0;32m--> 494\u001b[0;31m             raise ValueError(f\"x and y must have same first dimension, but \"\n\u001b[0m\u001b[1;32m    495\u001b[0m                              f\"have shapes {x.shape} and {y.shape}\")\n\u001b[1;32m    496\u001b[0m         \u001b[0;32mif\u001b[0m \u001b[0mx\u001b[0m\u001b[0;34m.\u001b[0m\u001b[0mndim\u001b[0m \u001b[0;34m>\u001b[0m \u001b[0;36m2\u001b[0m \u001b[0;32mor\u001b[0m \u001b[0my\u001b[0m\u001b[0;34m.\u001b[0m\u001b[0mndim\u001b[0m \u001b[0;34m>\u001b[0m \u001b[0;36m2\u001b[0m\u001b[0;34m:\u001b[0m\u001b[0;34m\u001b[0m\u001b[0;34m\u001b[0m\u001b[0m\n",
      "\u001b[0;31mValueError\u001b[0m: x and y must have same first dimension, but have shapes (100,) and (41,)"
     ]
    },
    {
     "data": {
      "image/png": "[encoded data removed]",
      "text/plain": [
       "<Figure size 1000x500 with 1 Axes>"
      ]
     },
     "metadata": {},
     "output_type": "display_data"
    }
   ],
   "source": [
    "# Plot Loss\n",
    "plt.figure(figsize=(10, 5))\n",
    "plt.plot(range(1, num_epochs+1), train_losses, label='Train Loss')\n",
    "plt.plot(range(1, num_epochs+1), val_losses, label='Val Loss')\n",
    "plt.xlabel('Epoch')\n",
    "plt.ylabel('Loss')\n",
    "plt.title('Training vs Validation Loss')\n",
    "plt.legend()\n",
    "plt.grid(True)\n",
    "plt.savefig(f'output/{output_path}/diagram/loss_plot.png')\n",
    "plt.show()"
   ]
  },
  {
   "cell_type": "markdown",
   "metadata": {
    "id": "kdRBYJPQeeEq"
   },
   "source": [
    "Plot Accuracy"
   ]
  },
  {
   "cell_type": "code",
   "execution_count": null,
   "metadata": {
    "colab": {
     "base_uri": "https://localhost:8080/",
     "height": 790
    },
    "executionInfo": {
     "elapsed": 110,
     "status": "error",
     "timestamp": 1750163151764,
     "user": {
      "displayName": "Bimbingan TG 2025",
      "userId": "17786358260686151756"
     },
     "user_tz": -420
    },
    "id": "x5-t-DGOkFij",
    "outputId": "a03b51ef-1138-40d0-f6a6-32de3a32bb2a"
   },
   "outputs": [
    {
     "ename": "ValueError",
     "evalue": "x and y must have same first dimension, but have shapes (100,) and (41,)",
     "output_type": "error",
     "traceback": [
      "\u001b[0;31m---------------------------------------------------------------------------\u001b[0m",
      "\u001b[0;31mValueError\u001b[0m                                Traceback (most recent call last)",
      "\u001b[0;32m<ipython-input-25-767114577>\u001b[0m in \u001b[0;36m<cell line: 0>\u001b[0;34m()\u001b[0m\n\u001b[1;32m      1\u001b[0m \u001b[0;31m# Plot Accuracy\u001b[0m\u001b[0;34m\u001b[0m\u001b[0;34m\u001b[0m\u001b[0m\n\u001b[1;32m      2\u001b[0m \u001b[0mplt\u001b[0m\u001b[0;34m.\u001b[0m\u001b[0mfigure\u001b[0m\u001b[0;34m(\u001b[0m\u001b[0mfigsize\u001b[0m\u001b[0;34m=\u001b[0m\u001b[0;34m(\u001b[0m\u001b[0;36m10\u001b[0m\u001b[0;34m,\u001b[0m \u001b[0;36m5\u001b[0m\u001b[0;34m)\u001b[0m\u001b[0;34m)\u001b[0m\u001b[0;34m\u001b[0m\u001b[0;34m\u001b[0m\u001b[0m\n\u001b[0;32m----> 3\u001b[0;31m \u001b[0mplt\u001b[0m\u001b[0;34m.\u001b[0m\u001b[0mplot\u001b[0m\u001b[0;34m(\u001b[0m\u001b[0mrange\u001b[0m\u001b[0;34m(\u001b[0m\u001b[0;36m1\u001b[0m\u001b[0;34m,\u001b[0m \u001b[0mnum_epochs\u001b[0m\u001b[0;34m+\u001b[0m\u001b[0;36m1\u001b[0m\u001b[0;34m)\u001b[0m\u001b[0;34m,\u001b[0m \u001b[0mtrain_accuracies\u001b[0m\u001b[0;34m,\u001b[0m \u001b[0mlabel\u001b[0m\u001b[0;34m=\u001b[0m\u001b[0;34m'Train Accuracy'\u001b[0m\u001b[0;34m)\u001b[0m\u001b[0;34m\u001b[0m\u001b[0;34m\u001b[0m\u001b[0m\n\u001b[0m\u001b[1;32m      4\u001b[0m \u001b[0mplt\u001b[0m\u001b[0;34m.\u001b[0m\u001b[0mplot\u001b[0m\u001b[0;34m(\u001b[0m\u001b[0mrange\u001b[0m\u001b[0;34m(\u001b[0m\u001b[0;36m1\u001b[0m\u001b[0;34m,\u001b[0m \u001b[0mnum_epochs\u001b[0m\u001b[0;34m+\u001b[0m\u001b[0;36m1\u001b[0m\u001b[0;34m)\u001b[0m\u001b[0;34m,\u001b[0m \u001b[0mval_accuracies\u001b[0m\u001b[0;34m,\u001b[0m \u001b[0mlabel\u001b[0m\u001b[0;34m=\u001b[0m\u001b[0;34m'Val Accuracy'\u001b[0m\u001b[0;34m)\u001b[0m\u001b[0;34m\u001b[0m\u001b[0;34m\u001b[0m\u001b[0m\n\u001b[1;32m      5\u001b[0m \u001b[0mplt\u001b[0m\u001b[0;34m.\u001b[0m\u001b[0mxlabel\u001b[0m\u001b[0;34m(\u001b[0m\u001b[0;34m'Epoch'\u001b[0m\u001b[0;34m)\u001b[0m\u001b[0;34m\u001b[0m\u001b[0;34m\u001b[0m\u001b[0m\n",
      "\u001b[0;32m/usr/local/lib/python3.11/dist-packages/matplotlib/pyplot.py\u001b[0m in \u001b[0;36mplot\u001b[0;34m(scalex, scaley, data, *args, **kwargs)\u001b[0m\n\u001b[1;32m   3827\u001b[0m     \u001b[0;34m**\u001b[0m\u001b[0mkwargs\u001b[0m\u001b[0;34m,\u001b[0m\u001b[0;34m\u001b[0m\u001b[0;34m\u001b[0m\u001b[0m\n\u001b[1;32m   3828\u001b[0m ) -> list[Line2D]:\n\u001b[0;32m-> 3829\u001b[0;31m     return gca().plot(\n\u001b[0m\u001b[1;32m   3830\u001b[0m         \u001b[0;34m*\u001b[0m\u001b[0margs\u001b[0m\u001b[0;34m,\u001b[0m\u001b[0;34m\u001b[0m\u001b[0;34m\u001b[0m\u001b[0m\n\u001b[1;32m   3831\u001b[0m         \u001b[0mscalex\u001b[0m\u001b[0;34m=\u001b[0m\u001b[0mscalex\u001b[0m\u001b[0;34m,\u001b[0m\u001b[0;34m\u001b[0m\u001b[0;34m\u001b[0m\u001b[0m\n",
      "\u001b[0;32m/usr/local/lib/python3.11/dist-packages/matplotlib/axes/_axes.py\u001b[0m in \u001b[0;36mplot\u001b[0;34m(self, scalex, scaley, data, *args, **kwargs)\u001b[0m\n\u001b[1;32m   1775\u001b[0m         \"\"\"\n\u001b[1;32m   1776\u001b[0m         \u001b[0mkwargs\u001b[0m \u001b[0;34m=\u001b[0m \u001b[0mcbook\u001b[0m\u001b[0;34m.\u001b[0m\u001b[0mnormalize_kwargs\u001b[0m\u001b[0;34m(\u001b[0m\u001b[0mkwargs\u001b[0m\u001b[0;34m,\u001b[0m \u001b[0mmlines\u001b[0m\u001b[0;34m.\u001b[0m\u001b[0mLine2D\u001b[0m\u001b[0;34m)\u001b[0m\u001b[0;34m\u001b[0m\u001b[0;34m\u001b[0m\u001b[0m\n\u001b[0;32m-> 1777\u001b[0;31m         \u001b[0mlines\u001b[0m \u001b[0;34m=\u001b[0m \u001b[0;34m[\u001b[0m\u001b[0;34m*\u001b[0m\u001b[0mself\u001b[0m\u001b[0;34m.\u001b[0m\u001b[0m_get_lines\u001b[0m\u001b[0;34m(\u001b[0m\u001b[0mself\u001b[0m\u001b[0;34m,\u001b[0m \u001b[0;34m*\u001b[0m\u001b[0margs\u001b[0m\u001b[0;34m,\u001b[0m \u001b[0mdata\u001b[0m\u001b[0;34m=\u001b[0m\u001b[0mdata\u001b[0m\u001b[0;34m,\u001b[0m \u001b[0;34m**\u001b[0m\u001b[0mkwargs\u001b[0m\u001b[0;34m)\u001b[0m\u001b[0;34m]\u001b[0m\u001b[0;34m\u001b[0m\u001b[0;34m\u001b[0m\u001b[0m\n\u001b[0m\u001b[1;32m   1778\u001b[0m         \u001b[0;32mfor\u001b[0m \u001b[0mline\u001b[0m \u001b[0;32min\u001b[0m \u001b[0mlines\u001b[0m\u001b[0;34m:\u001b[0m\u001b[0;34m\u001b[0m\u001b[0;34m\u001b[0m\u001b[0m\n\u001b[1;32m   1779\u001b[0m             \u001b[0mself\u001b[0m\u001b[0;34m.\u001b[0m\u001b[0madd_line\u001b[0m\u001b[0;34m(\u001b[0m\u001b[0mline\u001b[0m\u001b[0;34m)\u001b[0m\u001b[0;34m\u001b[0m\u001b[0;34m\u001b[0m\u001b[0m\n",
      "\u001b[0;32m/usr/local/lib/python3.11/dist-packages/matplotlib/axes/_base.py\u001b[0m in \u001b[0;36m__call__\u001b[0;34m(self, axes, data, return_kwargs, *args, **kwargs)\u001b[0m\n\u001b[1;32m    295\u001b[0m                 \u001b[0mthis\u001b[0m \u001b[0;34m+=\u001b[0m \u001b[0margs\u001b[0m\u001b[0;34m[\u001b[0m\u001b[0;36m0\u001b[0m\u001b[0;34m]\u001b[0m\u001b[0;34m,\u001b[0m\u001b[0;34m\u001b[0m\u001b[0;34m\u001b[0m\u001b[0m\n\u001b[1;32m    296\u001b[0m                 \u001b[0margs\u001b[0m \u001b[0;34m=\u001b[0m \u001b[0margs\u001b[0m\u001b[0;34m[\u001b[0m\u001b[0;36m1\u001b[0m\u001b[0;34m:\u001b[0m\u001b[0;34m]\u001b[0m\u001b[0;34m\u001b[0m\u001b[0;34m\u001b[0m\u001b[0m\n\u001b[0;32m--> 297\u001b[0;31m             yield from self._plot_args(\n\u001b[0m\u001b[1;32m    298\u001b[0m                 \u001b[0maxes\u001b[0m\u001b[0;34m,\u001b[0m \u001b[0mthis\u001b[0m\u001b[0;34m,\u001b[0m \u001b[0mkwargs\u001b[0m\u001b[0;34m,\u001b[0m \u001b[0mambiguous_fmt_datakey\u001b[0m\u001b[0;34m=\u001b[0m\u001b[0mambiguous_fmt_datakey\u001b[0m\u001b[0;34m,\u001b[0m\u001b[0;34m\u001b[0m\u001b[0;34m\u001b[0m\u001b[0m\n\u001b[1;32m    299\u001b[0m                 \u001b[0mreturn_kwargs\u001b[0m\u001b[0;34m=\u001b[0m\u001b[0mreturn_kwargs\u001b[0m\u001b[0;34m\u001b[0m\u001b[0;34m\u001b[0m\u001b[0m\n",
      "\u001b[0;32m/usr/local/lib/python3.11/dist-packages/matplotlib/axes/_base.py\u001b[0m in \u001b[0;36m_plot_args\u001b[0;34m(self, axes, tup, kwargs, return_kwargs, ambiguous_fmt_datakey)\u001b[0m\n\u001b[1;32m    492\u001b[0m \u001b[0;34m\u001b[0m\u001b[0m\n\u001b[1;32m    493\u001b[0m         \u001b[0;32mif\u001b[0m \u001b[0mx\u001b[0m\u001b[0;34m.\u001b[0m\u001b[0mshape\u001b[0m\u001b[0;34m[\u001b[0m\u001b[0;36m0\u001b[0m\u001b[0;34m]\u001b[0m \u001b[0;34m!=\u001b[0m \u001b[0my\u001b[0m\u001b[0;34m.\u001b[0m\u001b[0mshape\u001b[0m\u001b[0;34m[\u001b[0m\u001b[0;36m0\u001b[0m\u001b[0;34m]\u001b[0m\u001b[0;34m:\u001b[0m\u001b[0;34m\u001b[0m\u001b[0;34m\u001b[0m\u001b[0m\n\u001b[0;32m--> 494\u001b[0;31m             raise ValueError(f\"x and y must have same first dimension, but \"\n\u001b[0m\u001b[1;32m    495\u001b[0m                              f\"have shapes {x.shape} and {y.shape}\")\n\u001b[1;32m    496\u001b[0m         \u001b[0;32mif\u001b[0m \u001b[0mx\u001b[0m\u001b[0;34m.\u001b[0m\u001b[0mndim\u001b[0m \u001b[0;34m>\u001b[0m \u001b[0;36m2\u001b[0m \u001b[0;32mor\u001b[0m \u001b[0my\u001b[0m\u001b[0;34m.\u001b[0m\u001b[0mndim\u001b[0m \u001b[0;34m>\u001b[0m \u001b[0;36m2\u001b[0m\u001b[0;34m:\u001b[0m\u001b[0;34m\u001b[0m\u001b[0;34m\u001b[0m\u001b[0m\n",
      "\u001b[0;31mValueError\u001b[0m: x and y must have same first dimension, but have shapes (100,) and (41,)"
     ]
    },
    {
     "data": {
      "image/png": "[encoded data removed]",
      "text/plain": [
       "<Figure size 1000x500 with 1 Axes>"
      ]
     },
     "metadata": {},
     "output_type": "display_data"
    }
   ],
   "source": [
    "# Plot Accuracy\n",
    "plt.figure(figsize=(10, 5))\n",
    "plt.plot(range(1, num_epochs+1), train_accuracies, label='Train Accuracy')\n",
    "plt.plot(range(1, num_epochs+1), val_accuracies, label='Val Accuracy')\n",
    "plt.xlabel('Epoch')\n",
    "plt.ylabel('Accuracy (%)')\n",
    "plt.title('Training vs Validation Accuracy')\n",
    "plt.legend()\n",
    "plt.grid(True)\n",
    "plt.savefig(f'output/{output_path}/diagram/accuracy_plot.png')\n",
    "plt.show()"
   ]
  },
  {
   "cell_type": "markdown",
   "metadata": {
    "id": "rnQUKLDVQJcp"
   },
   "source": [
    "#### Plot Loss and Plot Akurasi dari log csv"
   ]
  },
  {
   "cell_type": "code",
   "execution_count": null,
   "metadata": {
    "colab": {
     "base_uri": "https://localhost:8080/",
     "height": 487
    },
    "executionInfo": {
     "elapsed": 1453,
     "status": "ok",
     "timestamp": 1750774132678,
     "user": {
      "displayName": "Bimbingan TG 2025",
      "userId": "17786358260686151756"
     },
     "user_tz": -420
    },
    "id": "d71dqrOCQJEz",
    "outputId": "834582b6-10d1-47f3-beef-729fd5c1b8b3"
   },
   "outputs": [
    {
     "data": {
      "image/png": "[encoded data removed]",
      "text/plain": [
       "<Figure size 1000x500 with 1 Axes>"
      ]
     },
     "metadata": {},
     "output_type": "display_data"
    }
   ],
   "source": [
    "# Ganti dengan path ke file CSV kamu jika file sudah disimpan\n",
    "csv_file = f'output/{output_path}/logs/trainlog.csv'\n",
    "\n",
    "# Membaca file CSV\n",
    "df = pd.read_csv(csv_file)\n",
    "\n",
    "# Ekstrak data\n",
    "num_epochs = len(df)\n",
    "train_losses = df['Train Loss']\n",
    "val_losses = df['Val Loss']\n",
    "train_accuracies = df['Train Accuracy']\n",
    "val_accuracies = df['Val Accuracy']\n",
    "\n",
    "# Plot Loss\n",
    "plt.figure(figsize=(10, 5))\n",
    "plt.plot(range(1, num_epochs + 1), train_losses, label='Train Loss')\n",
    "plt.plot(range(1, num_epochs + 1), val_losses, label='Val Loss')\n",
    "plt.xlabel('Epoch')\n",
    "plt.ylabel('Loss')\n",
    "plt.title('Training vs Validation Loss')\n",
    "plt.legend()\n",
    "plt.grid(True)\n",
    "plt.savefig(f'output/{output_path}/diagram/loss_plot.png')\n",
    "plt.show()\n"
   ]
  },
  {
   "cell_type": "code",
   "execution_count": null,
   "metadata": {
    "colab": {
     "base_uri": "https://localhost:8080/",
     "height": 487
    },
    "executionInfo": {
     "elapsed": 748,
     "status": "ok",
     "timestamp": 1750774218904,
     "user": {
      "displayName": "Bimbingan TG 2025",
      "userId": "17786358260686151756"
     },
     "user_tz": -420
    },
    "id": "0CQDnKhsQJMJ",
    "outputId": "489b75a2-c659-4933-d921-b712e94b2671"
   },
   "outputs": [
    {
     "data": {
      "image/png": "[encoded data removed]",
      "text/plain": [
       "<Figure size 1000x500 with 1 Axes>"
      ]
     },
     "metadata": {},
     "output_type": "display_data"
    }
   ],
   "source": [
    "# Plot Accuracy\n",
    "plt.figure(figsize=(10, 5))\n",
    "plt.plot(range(1, num_epochs + 1), train_accuracies, label='Train Accuracy')\n",
    "plt.plot(range(1, num_epochs + 1), val_accuracies, label='Val Accuracy')\n",
    "plt.xlabel('Epoch')\n",
    "plt.ylabel('Accuracy (%)')\n",
    "plt.title('Training vs Validation Accuracy')\n",
    "plt.legend()\n",
    "plt.grid(True)\n",
    "plt.savefig(f'output/{output_path}/diagram/accuracy_plot.png')\n",
    "plt.show()"
   ]
  }
 ],
 "metadata": {
  "colab": {
   "provenance": []
  },
  "kernelspec": {
   "display_name": "Python 3",
   "name": "python3"
  },
  "language_info": {
   "name": "python"
  }
 },
 "nbformat": 4,
 "nbformat_minor": 0
}
